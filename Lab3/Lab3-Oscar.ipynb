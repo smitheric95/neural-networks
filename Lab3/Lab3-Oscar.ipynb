{
 "cells": [
  {
   "cell_type": "code",
   "execution_count": 1,
   "metadata": {},
   "outputs": [],
   "source": [
    "import numpy as np\n",
    "X = np.load('data/x_data.npy')\n",
    "Y = np.load('data/y_data.npy')"
   ]
  },
  {
   "cell_type": "code",
   "execution_count": 2,
   "metadata": {},
   "outputs": [],
   "source": [
    "tasks = {}\n",
    "\n",
    "for x,y in zip(X,Y):\n",
    "    if y in tasks:\n",
    "        tasks[y]['data'].append(np.array(x[2:]))\n",
    "        tasks[y]['target'].append(x[0])\n",
    "    else:\n",
    "        tasks[y] = {}\n",
    "        tasks[y]['data'] = [np.array(x[2:])]\n",
    "        tasks[y]['target'] = [x[0]]\n"
   ]
  },
  {
   "cell_type": "code",
   "execution_count": 3,
   "metadata": {},
   "outputs": [
    {
     "name": "stdout",
     "output_type": "stream",
     "text": [
      "[False, False, False, False, False, False, False, False, False, False, False, False, False, False, False, False, False, False, False, False, False, False, False, False, False, False, False, False, False, False, False, False, False, False, False, False, False, False, False, False, False, False, False, False, False, False, False, False, False, False, False, False, False, False, False, False, False, False, False, False, False, False, False, False, False, False, False, False, False, False, False, False, False, False, False, False, False, False, False, False, False, False, False, False, False, False, False, False, False, False, False, False, False, False, False, False, False, False, False, False, False, False, False, False, False, False, False, False, False, False, False, False, False, False, False, False, False, False, False, False, False, False, False, False, False, False, False, False, False, False, False, False, False, False, False, False, False, False, False, False, False, False, False, False, False, False, False, False, False, False, False, False, False, False, False, False, False, False, False, False, False, False, False, False, False, False, False, False, False, False, False, False, False, False, False, False, False, False, False, False, False, False, False, False, False, False, False, False, False, False, False, False, False, False, False, False, False, False, False, False, False, False, False, False, False, False, False, False, False, False, False, False, False, False, False, False, False, False, False, False, False, False, False, False, False, False, False, False, False, False, False, False, False, False, False, False, False, False, False, False, False, False, False, False, False, False, False, False, False, False, False, False, False, False, False, False, False, False, False, False, False, False, False, False, False, False, False, False, False, False, False, False, False, False, False, False, False, False, False, False, False, False, False, False, False, False, False, False, False, False, False, False, False, False, False, False, False, False, False, False, False, False, False, False, False, False, False, False, False, False, False, False, False, False, False, False, False, False, False, False, False, False, False, False, False, False, False, False, False, False, False, False, False, False, False, False, False, False, False, False, False, False, False, False, False, False, False, False, False, False, False, False, False, False, False, False, False, False, False, False, False, False, False, False, False, False, False, False, False, False, False, False, False, False, False, False, False, False, False, False, False, False, False, False, False, False, False, False, False, False, False, False, False, False, False, False, False, False, False, False, False, False, False, False, False, False, False, False, False, False, False, False, False, False, False, False, False, False, False, False, False, False, False, False, False, False, False, False, False, False, False, False, False, False, False, False, False, False, False, False, False, False, False, False, False, False, False, False, False, False, False, False, False, False, False, False, False, False, False, False, False, False, False, False, False, False, False, False, False, False, False, False, False, False, False, False, False, False, False, False, False, False, False, False, False, False, False, False, False, False, False, False, False, False, False, False, False, False, False, False, False, False, False, False, False, False, False, False, False, False, False, False, False, False, False, False, False, False, False, False, False, False, False, False, False, False, False, False, False, False, False, False, False, False, False, False, False, False, False, False, False, False, False, False, False, False, False, False, False, False, False, False, False, False, False, False, False, False, False, False, False, False, False, False, False, False, False, False, False, False, False, False, False, False, False, False, False, False, False, False, False, False, False, False, False, False, False, False, False, False, False, False, False, False, False, False, False, False, False, False, False, False, False, False, False, False, False, False, False, False, False, False, False, False, False, False, False, False, False, False, False, False, False, False, False, False, False, False, False, False, False, False, False, False, False, False, False, False, False, False, False, False, False, False, False, False, False, False, False, False, False, False, False, False, False, False, False, False, False, False, False, False, False, False, False, False, False, False, False, False, False, False, False, False, False, False, False, False, False, False, False, False, False, False, False, False, False, False, False, False, False, False, False, False, False, False, False, False, False, False, False, False, False, False, False, False, False, False, False, False, False, False, False, False, False, False, False, False, False, False, False, False, False, False, False, False, False, False, False, False, False, False, False, False, False, False, False, False, False, False, False, False, False, False, False, False, False, False, False, False, False, False, False, False, False, False, False, False, False, False, False, False, False, False, False, False, False, False, False, False, False, False, False, False, False, False, False, False, False, False, False, False, False, False, False, False, False, False, False, False, False, False, False, False, False, False, False, False, False, False, False, False, False, False, False, False, False, False, False, False, False, False, False, False, False, False, False, False, False, False, False, False, False, False, False, False, False, False, False, False, False, False, False, False, False, False, False, False, False, False, False, False, False, False, False, False, False, False, False, False, False, False, False, False, False, False, False, False, False, False, False, False, False, False, False, False, False, False, False, False, False, False, False, False, False, False, False, False, False, False, False, False, False, False, False, False, False, False, False, False, False, False, False, False, False, False, False, False, False, False, False, False, False, False, False, False, False, False, False, False, False, False, False, False, False, False, False, False, False, False, False, False, False, False, False, False, False, False, False, False, False, False, False, False, False, False, False, False, False, False, False, False, False, False, False, False, False, False, False, False, False, False, False, False, False, False, False, False, False, False, False, False, False, False, False, False, False, False, False, False, False, False, False, False, False, False, False, False, False, False, False, False, False, False, False, False, False, False, False, False, False, False, False, False, False, False, False, False, False, False, False, False, False, False, False, False, False, False, False, False, False, False, False, False, False, False, False, False, False, False, False, False, False, False, False, False, False, False, False, False, False, False, False, False, False, False, False, False, False, False, False, False, False, False, False, False, False, False, False, False, False, False, False, False, False, False, False, False, False, False, False, False, False, False, False, False, False, False, False, False, False, False, False, False, False, False, False, False, False, False, False, False, False, False, False, False, False, False, False, False, False, False, False, False, False, False, False, False, False, False, False, False, False, False, False, False, False, False, False, False, False, False, False, False, False, False, False, False, False, False, False, False, False, False, False, False, False, False, False, False, False, False, False, False, False, False, False, False, False, False, False, False, False, False, False, False, False, False, False, False, False, False, False, False, False, False, False, False, False, False, False, False, False, False, False, False, False, False, False, False, False, False, False, False, False, False, False, False, False, False, False, False, False, False, False, False, False, False, False, False, False, False, False, False, False, False, False, False, False, False, False, False, False, False, False, False, False, False, False, False, False, False, False, False, False, False, False, False, False, False, False, False, False, False, False, False, False, False, False, False, False, False, False, False, False, False, False, False, False, False, False, False, False, False, False, False, False, False, False, False, False, False, False, False, False, False, False, False, False, False, False, False, False, False, False, False, False, False, False, False, False, False, False, False, False, False, False, False, False, False, False, False, False, False, False, False, False, False, False, False, False, False, False, False, False, False, False, False, False, False, False, False, False, False, False, False, False, False, False, False, False, False, False, False, False, False, False, False, False, False, False, False, False, False, False, False, False, False, False, False, False, False, False, False, False, False, False, False, False, False, False, False, False, False, False, False, False, False, False, False, False, False, False, False, False, False, False, False, False, False, False, False, False, False, False, False, False, False, False, False, False, False, False, False, False, False, False, False, False, False, False, False, False, False, False, False, False, False, False, False, False, False, False, False, False, False, False, False, False, False, False, False, False, False, False, False, False, False, False, False, False, False, False, False, False, False, False, False, False, False, False, False, False, False, False, False, False, False, False, False, False, False, False, False, False, False, False, False, False, False, False, False, False, False, False, False, False, False, False, False, False, False, False, False, False, False, False, False, False, False, False, False, False, False, False, False, False, False, False, False, False, False, False, False, False, False, False, False, False, False, False, False, False, False, False, False, False, False, False, False, False, False, False, False, False, False, False, False, False, False, False, False, False, False, False, False, False, False, False, False, False, False, False, False, False, False, False, False, False, False, False, False, False, False, False, False, False, False, False, False, False, False, False, False, False, False, False, False, False, False, False, False, False, False, False, False, False, False, False, False, False, False, False, False, False, False, False, False, False, False, False, False, False, False, False, False, False, False, False, False, False, False, False, False, False, False, False, False, False, False, False, False, False, False, False, False, False, False, False, False, False, False, False, False, False, False, False, False, False, False, False, False, False, False, False, False, False, False, False, False, False, False, False, False, False, False, False, False, False, False, False, False, False, False, False, False, False, False, False, False, False, False, False, False, False, False, False, False, False, False, False, False, False, False, False, False, False, False, False, False, False, False, False, False, False, False, False, False, False, False, False, False, False, False, False, False, False, False, False, False, False, False, False, False, False, False, False, False, False, False, False, False, False, False, False, False, False, False, False, False, False, False, False, False, False, False, False, False, False, False, False, False, False, False, False, False, False, False, False, False, False, False, False, False, False, False, False, False, False, False, False, False, False, False, False, False, False, False, False, False, False, False, False, False, False, False, False, False, False, False, False, False, False, False, False, False, False, False, False, False, False, False, False, False, False, False, False, False, False, False, False, False, False, False, False, False, False, False, False, False, False, False, False, False, False, False, False, False, False, False, False, False, False, False, False, False, False, False, False, False, False, False, False, False, False, False, False, False, False, False, False, False, False, False, False, False, False, False, False, False, False, False, False, False, False, False, False, False, False, False, False, False, False, False, False, False, False, False, False, False, False, False, False, False, False, False, False, False, False, False, False, False, False, False, False, False, False, False, False, False, False, False, False, False, False, False, False, False, False, False, False, False, False, False, False, False, False, False, False, False, False, False, False, False, False, False, False, False, False, False, False, False, False, False, False, False, False, False, False, False, False, False, False, False, False, False, False, False, False, False, False, False, False, False, False, False, False, False, False, False, False, False, False, False, False, False, False, False, False, False, False, False, False, False, False, False, False, False, False, False, False, False, False, False, False, False, False, False, False, False, False, False, False, False, False, False, False, False, False, False, False, False, False, False, False, False, False, False, False, False, False, False, False, False, False, False, False, False, False, False, False, False, False, False, False, False, False, False, False, False, False, False, False, False, False, False, False, False, False, False, False, False, False, False, False, False, False, False, False, False, False, False, False, False, False, False, False, False, False, False, False, False, False, False, False, False, False, False, False, False, False, False, False, False, False, False]\n"
     ]
    }
   ],
   "source": [
    "print(tasks['CHEMBL2114881']['target'])"
   ]
  },
  {
   "cell_type": "code",
   "execution_count": 4,
   "metadata": {},
   "outputs": [],
   "source": [
    "index = 1\n",
    "top_targets = {}\n",
    "for key, value in sorted(tasks.items(), key=lambda item: len(item[1]['target']), reverse=True):\n",
    "    top_targets[key] = {}\n",
    "    top_targets[key]['data'] = np.array(value['data'])\n",
    "    top_targets[key]['target'] = np.array(value['target'])\n",
    "\n",
    "    if index == 100:\n",
    "        break\n",
    "    index +=1 "
   ]
  },
  {
   "cell_type": "markdown",
   "metadata": {},
   "source": [
    "## These are the top 100 targets that will be trained"
   ]
  },
  {
   "cell_type": "code",
   "execution_count": 5,
   "metadata": {},
   "outputs": [
    {
     "name": "stdout",
     "output_type": "stream",
     "text": [
      "['CHEMBL2114881', 'CHEMBL2114714', 'CHEMBL1963941', 'CHEMBL1963883', 'CHEMBL3562022', 'CHEMBL1614063', 'CHEMBL1738498', 'CHEMBL3881499', 'CHEMBL1614432', 'CHEMBL1613885', 'CHEMBL4028923', 'CHEMBL2218781', 'CHEMBL3880337', 'CHEMBL3880339', 'CHEMBL3880338', 'CHEMBL4028921', 'CHEMBL4028924', 'CHEMBL3705123', 'CHEMBL1613799', 'CHEMBL4028922', 'CHEMBL1738424', 'CHEMBL3880340', 'CHEMBL1738407', 'CHEMBL4017550', 'CHEMBL3706327', 'CHEMBL3880341', 'CHEMBL3436039', 'CHEMBL3436040', 'CHEMBL1614547', 'CHEMBL3436041', 'CHEMBL3431934', 'CHEMBL3880334', 'CHEMBL3880335', 'CHEMBL1614423', 'CHEMBL3880344', 'CHEMBL1964096', 'CHEMBL3431931', 'CHEMBL1964000', 'CHEMBL1614199', 'CHEMBL2114818', 'CHEMBL2114719', 'CHEMBL3880342', 'CHEMBL1963965', 'CHEMBL1119333', 'CHEMBL1614549', 'CHEMBL3734174', 'CHEMBL3887033', 'CHEMBL1614359', 'CHEMBL1006579', 'CHEMBL3707950', 'CHEMBL2114737', 'CHEMBL3882758', 'CHEMBL3215171', 'CHEMBL3883019', 'CHEMBL3882757', 'CHEMBL2114791', 'CHEMBL3214986', 'CHEMBL3707758', 'CHEMBL2114746', 'CHEMBL3215275', 'CHEMBL2354281', 'CHEMBL3215242', 'CHEMBL2114772', 'CHEMBL3705125', 'CHEMBL2114846', 'CHEMBL974332', 'CHEMBL3734252', 'CHEMBL763870', 'CHEMBL3883020', 'CHEMBL4011663', 'CHEMBL1963846', 'CHEMBL2114829', 'CHEMBL3887111', 'CHEMBL1963838', 'CHEMBL1964023', 'CHEMBL3888178', 'CHEMBL2114858', 'CHEMBL1614255', 'CHEMBL1614529', 'CHEMBL3215006', 'CHEMBL3705299', 'CHEMBL2114771', 'CHEMBL2114928', 'CHEMBL3215200', 'CHEMBL3707951', 'CHEMBL3882744', 'CHEMBL1021377', 'CHEMBL2354289', 'CHEMBL2114850', 'CHEMBL3215176', 'CHEMBL3881394', 'CHEMBL659084', 'CHEMBL2038596', 'CHEMBL3880847', 'CHEMBL3880106', 'CHEMBL830839', 'CHEMBL828662', 'CHEMBL1646731', 'CHEMBL2114825', 'CHEMBL1613978']\n"
     ]
    }
   ],
   "source": [
    "print(list(top_targets))"
   ]
  },
  {
   "cell_type": "code",
   "execution_count": 6,
   "metadata": {},
   "outputs": [
    {
     "name": "stdout",
     "output_type": "stream",
     "text": [
      "[[1.0 0.0 0.0 ... 1.0 0.0 1.0]\n",
      " [1.0 0.0 0.0 ... 0.0 0.0 0.0]\n",
      " [1.0 0.0 0.0 ... 0.0 0.0 0.0]\n",
      " ...\n",
      " [1.0 0.0 0.0 ... 0.0 0.0 0.0]\n",
      " [1.0 0.0 0.0 ... 0.0 0.0 0.0]\n",
      " [1.0 0.0 0.0 ... 0.0 0.0 0.0]]\n"
     ]
    }
   ],
   "source": [
    "print(top_targets['CHEMBL2114881']['data'])"
   ]
  },
  {
   "cell_type": "code",
   "execution_count": 7,
   "metadata": {},
   "outputs": [
    {
     "name": "stderr",
     "output_type": "stream",
     "text": [
      "Using TensorFlow backend.\n"
     ]
    },
    {
     "name": "stdout",
     "output_type": "stream",
     "text": [
      "Creating Sub Models:\n",
      "Model:  1  | Section Time:  0.026784181594848633  | Elapsed Time:  0.026784181594848633\n",
      "Model:  2  | Section Time:  0.02628779411315918  | Elapsed Time:  0.05406379699707031\n",
      "Model:  3  | Section Time:  0.024799585342407227  | Elapsed Time:  0.07985591888427734\n",
      "Model:  4  | Section Time:  0.025295257568359375  | Elapsed Time:  0.10614371299743652\n",
      "Model:  5  | Section Time:  0.02479863166809082  | Elapsed Time:  0.13193559646606445\n",
      "Model:  6  | Section Time:  0.024799823760986328  | Elapsed Time:  0.15772795677185059\n",
      "Model:  7  | Section Time:  0.024799346923828125  | Elapsed Time:  0.18351960182189941\n",
      "Model:  8  | Section Time:  0.03372979164123535  | Elapsed Time:  0.21774506568908691\n",
      "Model:  9  | Section Time:  0.03174090385437012  | Elapsed Time:  0.2499840259552002\n",
      "Model:  10  | Section Time:  0.027776002883911133  | Elapsed Time:  0.27875185012817383\n",
      "Model:  11  | Section Time:  0.02628803253173828  | Elapsed Time:  0.3060319423675537\n",
      "Model:  12  | Section Time:  0.025791645050048828  | Elapsed Time:  0.33281564712524414\n",
      "Model:  13  | Section Time:  0.026784658432006836  | Elapsed Time:  0.3605923652648926\n",
      "Model:  14  | Section Time:  0.026784420013427734  | Elapsed Time:  0.3883681297302246\n",
      "Model:  15  | Section Time:  0.026287555694580078  | Elapsed Time:  0.41515135765075684\n",
      "Model:  16  | Section Time:  0.02529597282409668  | Elapsed Time:  0.4414396286010742\n",
      "Model:  17  | Section Time:  0.024799823760986328  | Elapsed Time:  0.46723175048828125\n",
      "Model:  18  | Section Time:  0.02579188346862793  | Elapsed Time:  0.4940156936645508\n",
      "Model:  19  | Section Time:  0.08283162117004395  | Elapsed Time:  0.5773434638977051\n",
      "Model:  20  | Section Time:  0.027776241302490234  | Elapsed Time:  0.6056158542633057\n",
      "Model:  21  | Section Time:  0.02628803253173828  | Elapsed Time:  0.6324000358581543\n",
      "Model:  22  | Section Time:  0.025791168212890625  | Elapsed Time:  0.6591835021972656\n",
      "Model:  23  | Section Time:  0.02480006217956543  | Elapsed Time:  0.6849756240844727\n",
      "Model:  24  | Section Time:  0.02480030059814453  | Elapsed Time:  0.7107675075531006\n",
      "Model:  25  | Section Time:  0.02529621124267578  | Elapsed Time:  0.7365596294403076\n",
      "Model:  26  | Section Time:  0.024799346923828125  | Elapsed Time:  0.7618553638458252\n",
      "Model:  27  | Section Time:  0.026288270950317383  | Elapsed Time:  0.7886395454406738\n",
      "Model:  28  | Section Time:  0.024801969528198242  | Elapsed Time:  0.8144335746765137\n",
      "Model:  29  | Section Time:  0.02529287338256836  | Elapsed Time:  0.8402235507965088\n",
      "Model:  30  | Section Time:  0.024799585342407227  | Elapsed Time:  0.8660154342651367\n",
      "Model:  31  | Section Time:  0.02480006217956543  | Elapsed Time:  0.8918077945709229\n",
      "Model:  32  | Section Time:  0.024799585342407227  | Elapsed Time:  0.9175994396209717\n",
      "Model:  33  | Section Time:  0.025295019149780273  | Elapsed Time:  0.9433913230895996\n",
      "Model:  34  | Section Time:  0.027280569076538086  | Elapsed Time:  0.9706718921661377\n",
      "Model:  35  | Section Time:  0.026288509368896484  | Elapsed Time:  0.9979519844055176\n",
      "Model:  36  | Section Time:  0.02678394317626953  | Elapsed Time:  1.0252318382263184\n",
      "Model:  37  | Section Time:  0.026784181594848633  | Elapsed Time:  1.0530078411102295\n",
      "Model:  38  | Section Time:  0.02628779411315918  | Elapsed Time:  1.0802874565124512\n",
      "Model:  39  | Section Time:  0.02628803253173828  | Elapsed Time:  1.107071876525879\n",
      "Model:  40  | Section Time:  0.027776241302490234  | Elapsed Time:  1.1353437900543213\n",
      "Model:  41  | Section Time:  0.02628779411315918  | Elapsed Time:  1.162623405456543\n",
      "Model:  42  | Section Time:  0.09275197982788086  | Elapsed Time:  1.255871295928955\n",
      "Model:  43  | Section Time:  0.02480006217956543  | Elapsed Time:  1.281663417816162\n",
      "Model:  44  | Section Time:  0.025295495986938477  | Elapsed Time:  1.3079512119293213\n",
      "Model:  45  | Section Time:  0.02480006217956543  | Elapsed Time:  1.3337433338165283\n",
      "Model:  46  | Section Time:  0.024799346923828125  | Elapsed Time:  1.3595349788665771\n",
      "Model:  47  | Section Time:  0.027776002883911133  | Elapsed Time:  1.387807846069336\n",
      "Model:  48  | Section Time:  0.025791645050048828  | Elapsed Time:  1.4135994911193848\n",
      "Model:  49  | Section Time:  0.02480149269104004  | Elapsed Time:  1.4393925666809082\n",
      "Model:  50  | Section Time:  0.026287317276000977  | Elapsed Time:  1.4656798839569092\n",
      "Model:  51  | Section Time:  0.02529621124267578  | Elapsed Time:  1.491471290588379\n",
      "Model:  52  | Section Time:  0.025294065475463867  | Elapsed Time:  1.5177593231201172\n",
      "Model:  53  | Section Time:  0.02480006217956543  | Elapsed Time:  1.5435516834259033\n",
      "Model:  54  | Section Time:  0.028768539428710938  | Elapsed Time:  1.5728158950805664\n",
      "Model:  55  | Section Time:  0.026784658432006836  | Elapsed Time:  1.6005918979644775\n",
      "Model:  56  | Section Time:  0.026784181594848633  | Elapsed Time:  1.6278719902038574\n",
      "Model:  57  | Section Time:  0.026784658432006836  | Elapsed Time:  1.6556479930877686\n",
      "Model:  58  | Section Time:  0.02678394317626953  | Elapsed Time:  1.6829276084899902\n",
      "Model:  59  | Section Time:  0.026784181594848633  | Elapsed Time:  1.7107036113739014\n",
      "Model:  60  | Section Time:  0.027776002883911133  | Elapsed Time:  1.739471197128296\n",
      "Model:  61  | Section Time:  0.02579188346862793  | Elapsed Time:  1.7657592296600342\n",
      "Model:  62  | Section Time:  0.02628779411315918  | Elapsed Time:  1.7930397987365723\n",
      "Model:  63  | Section Time:  0.025295257568359375  | Elapsed Time:  1.818830966949463\n",
      "Model:  64  | Section Time:  0.025296449661254883  | Elapsed Time:  1.8451194763183594\n",
      "Model:  65  | Section Time:  0.024799823760986328  | Elapsed Time:  1.8709113597869873\n",
      "Model:  66  | Section Time:  0.030256032943725586  | Elapsed Time:  1.9016633033752441\n",
      "Model:  67  | Section Time:  0.024799823760986328  | Elapsed Time:  1.927455186843872\n",
      "Model:  68  | Section Time:  0.027776002883911133  | Elapsed Time:  1.9557271003723145\n",
      "Model:  69  | Section Time:  0.025791406631469727  | Elapsed Time:  1.9820148944854736\n",
      "Model:  70  | Section Time:  0.02480006217956543  | Elapsed Time:  2.007807493209839\n",
      "Model:  71  | Section Time:  0.10267233848571777  | Elapsed Time:  2.11147141456604\n",
      "Model:  72  | Section Time:  0.02529597282409668  | Elapsed Time:  2.137263298034668\n",
      "Model:  73  | Section Time:  0.028768301010131836  | Elapsed Time:  2.166527509689331\n",
      "Model:  74  | Section Time:  0.02727985382080078  | Elapsed Time:  2.194303274154663\n",
      "Model:  75  | Section Time:  0.02727985382080078  | Elapsed Time:  2.2220799922943115\n",
      "Model:  76  | Section Time:  0.028272390365600586  | Elapsed Time:  2.2513434886932373\n",
      "Model:  77  | Section Time:  0.026784181594848633  | Elapsed Time:  2.2791194915771484\n",
      "Model:  78  | Section Time:  0.026288270950317383  | Elapsed Time:  2.306399345397949\n",
      "Model:  79  | Section Time:  0.027776479721069336  | Elapsed Time:  2.3346714973449707\n",
      "Model:  80  | Section Time:  0.028767824172973633  | Elapsed Time:  2.3634393215179443\n",
      "Model:  81  | Section Time:  0.02727985382080078  | Elapsed Time:  2.3912153244018555\n",
      "Model:  82  | Section Time:  0.025295257568359375  | Elapsed Time:  2.417006731033325\n",
      "Model:  83  | Section Time:  0.025792598724365234  | Elapsed Time:  2.443295478820801\n",
      "Model:  84  | Section Time:  0.026287555694580078  | Elapsed Time:  2.4705750942230225\n",
      "Model:  85  | Section Time:  0.02975940704345703  | Elapsed Time:  2.5013267993927\n",
      "Model:  86  | Section Time:  0.025792598724365234  | Elapsed Time:  2.527616262435913\n",
      "Model:  87  | Section Time:  0.027775287628173828  | Elapsed Time:  2.555391550064087\n",
      "Model:  88  | Section Time:  0.02529621124267578  | Elapsed Time:  2.581678867340088\n",
      "Model:  89  | Section Time:  0.02579188346862793  | Elapsed Time:  2.607966899871826\n",
      "Model:  90  | Section Time:  0.025295257568359375  | Elapsed Time:  2.633759021759033\n",
      "Model:  91  | Section Time:  0.02579212188720703  | Elapsed Time:  2.6600468158721924\n",
      "Model:  92  | Section Time:  0.025295495986938477  | Elapsed Time:  2.6858386993408203\n",
      "Model:  93  | Section Time:  0.02628803253173828  | Elapsed Time:  2.712623119354248\n",
      "Model:  94  | Section Time:  0.02628779411315918  | Elapsed Time:  2.7394068241119385\n",
      "Model:  95  | Section Time:  0.024799823760986328  | Elapsed Time:  2.7651989459991455\n",
      "Model:  96  | Section Time:  0.02529597282409668  | Elapsed Time:  2.791486978530884\n",
      "Model:  97  | Section Time:  0.025295734405517578  | Elapsed Time:  2.817775011062622\n",
      "Model:  98  | Section Time:  0.02480030059814453  | Elapsed Time:  2.843567132949829\n",
      "Model:  99  | Section Time:  0.02529597282409668  | Elapsed Time:  2.869359016418457\n"
     ]
    },
    {
     "name": "stdout",
     "output_type": "stream",
     "text": [
      "Model:  100  | Section Time:  0.02529597282409668  | Elapsed Time:  2.895646810531616\n"
     ]
    }
   ],
   "source": [
    "from keras.layers import Input, Dense\n",
    "from keras.models import Model\n",
    "import time\n",
    "\n",
    "inputs = Input(shape=(512,))\n",
    "shared_mlp = Dense(64, activation='relu')(inputs)\n",
    "shared_mlp = Dense(64, activation='relu')(shared_mlp)\n",
    "\n",
    "# make a dictionary of models for each task\n",
    "models_mtl = dict()\n",
    "print('Creating Sub Models:')\n",
    "og_start = time.time()\n",
    "index = 1\n",
    "for x in top_targets.keys():\n",
    "    start = time.time()\n",
    "    personal_layer = Dense(10, activation='relu')(shared_mlp)\n",
    "    output_layer = Dense(1)(personal_layer)\n",
    "    model = Model(inputs=inputs, outputs=output_layer)\n",
    "    model.compile(optimizer='sgd', loss='mean_squared_error')\n",
    "    models_mtl[x] = model\n",
    "    end = time.time()\n",
    "    \n",
    "    print(\"Model: \", index, \" | Section Time: \", end - start, \" | Elapsed Time: \", end - og_start)\n",
    "    index += 1"
   ]
  },
  {
   "cell_type": "code",
   "execution_count": 8,
   "metadata": {},
   "outputs": [],
   "source": [
    "from sklearn.model_selection import train_test_split\n",
    "\n",
    "test_size = 0.2\n",
    "\n",
    "X_train = dict()\n",
    "y_train = dict()\n",
    "X_test = dict()\n",
    "y_test = dict()\n",
    "\n",
    "#print(top_targets[x][0])\n",
    "\n",
    "for x in top_targets.keys():\n",
    "    X_train[x], X_test[x], y_train[x], y_test[x] = train_test_split(top_targets[x]['data'], \n",
    "                                                        top_targets[x]['target'], \n",
    "                                                        test_size=test_size, \n",
    "                                                        random_state=42)\n"
   ]
  },
  {
   "cell_type": "code",
   "execution_count": 9,
   "metadata": {},
   "outputs": [
    {
     "name": "stdout",
     "output_type": "stream",
     "text": [
      "Epoch 0, Epoch 1, Epoch 2, Epoch 3, Epoch 4, Epoch 5, Epoch 6, Epoch 7, Epoch 8, Epoch 9, Epoch 10, Epoch 11, Epoch 12, Epoch 13, Epoch 14, Epoch 15, Epoch 16, Epoch 17, Epoch 18, Epoch 19, Wall time: 2min 36s\n"
     ]
    }
   ],
   "source": [
    "%%time\n",
    "EPOCHS = 20\n",
    "from random import shuffle\n",
    "\n",
    "all_keys = list(top_targets)\n",
    "for i in range(EPOCHS):\n",
    "    print('Epoch',i,end=', ')\n",
    "    shuffle(all_keys)\n",
    "    for x in all_keys:\n",
    "        models_mtl[x].fit(X_train[x],y_train[x], verbose=0)"
   ]
  },
  {
   "cell_type": "markdown",
   "metadata": {},
   "source": [
    "## Evaluating the Train-Test Split Data"
   ]
  },
  {
   "cell_type": "code",
   "execution_count": 10,
   "metadata": {},
   "outputs": [
    {
     "name": "stdout",
     "output_type": "stream",
     "text": [
      "Wall time: 54.6 s\n"
     ]
    }
   ],
   "source": [
    "%%time\n",
    "y_mtl=[]\n",
    "yhat_mtl=[]\n",
    "\n",
    "for x in X_test.keys():\n",
    "    yhat_mlp = models_mtl[x].predict(X_test[x])\n",
    "\n",
    "    y_mtl.append(y_test[x].ravel())\n",
    "    yhat_mtl.append(yhat_mlp.ravel())"
   ]
  },
  {
   "cell_type": "code",
   "execution_count": 11,
   "metadata": {},
   "outputs": [],
   "source": [
    "import matplotlib.pyplot as plt\n",
    "import numpy as np\n",
    "import seaborn as sns\n",
    "from sklearn.metrics import mean_squared_error, accuracy_score \n",
    "from sklearn.metrics import precision_score, mean_squared_log_error\n",
    "\n",
    "def bland_altman_plot(data1, data2, *args, **kwargs):\n",
    "    data1     = np.asarray(data1)\n",
    "    data2     = np.asarray(data2)\n",
    "    mean      = np.mean([data1, data2], axis=0)\n",
    "    diff      = data1 - data2                   # Difference between data1 and data2\n",
    "    md        = np.mean(diff)                   # Mean of the difference\n",
    "    sd        = np.std(diff, axis=0)            # Standard deviation of the difference\n",
    "\n",
    "    plt.figure(figsize=(15,10))\n",
    "    plt.scatter(mean, diff, *args, **kwargs)\n",
    "    plt.axhline(md,           color='gray', linestyle='--')\n",
    "    plt.axhline(md + 1.96*sd, color='gray', linestyle='--')\n",
    "    plt.axhline(md - 1.96*sd, color='gray', linestyle='--')\n",
    "    plt.title(\"Bland Altman, MSE: \"+str(mean_squared_error(data1,data2)))\n",
    "    plt.xlabel('Mean Score', fontsize=8)\n",
    "    plt.ylabel('Diff Score', fontsize=8)\n",
    "    plt.show()"
   ]
  },
  {
   "cell_type": "code",
   "execution_count": 12,
   "metadata": {},
   "outputs": [
    {
     "data": {
      "image/png": "[encoded data removed]",
      "text/plain": [
       "<Figure size 1080x720 with 1 Axes>"
      ]
     },
     "metadata": {
      "needs_background": "light"
     },
     "output_type": "display_data"
    }
   ],
   "source": [
    "bland_altman_plot(np.concatenate(y_mtl), np.concatenate(yhat_mtl))"
   ]
  },
  {
   "cell_type": "code",
   "execution_count": 13,
   "metadata": {},
   "outputs": [],
   "source": [
    "from rdkit.ML.Scoring import Scoring"
   ]
  },
  {
   "cell_type": "code",
   "execution_count": 14,
   "metadata": {},
   "outputs": [],
   "source": [
    "import pandas as pd\n",
    "\n",
    "scores = {'y_mtl':np.concatenate(y_mtl), 'yhat_mtl':np.concatenate(yhat_mtl)}\n",
    "df = pd.DataFrame(scores)"
   ]
  },
  {
   "cell_type": "code",
   "execution_count": 15,
   "metadata": {},
   "outputs": [
    {
     "name": "stdout",
     "output_type": "stream",
     "text": [
      "0.3569572570198806\n"
     ]
    }
   ],
   "source": [
    "score_auc = Scoring.CalcAUC(df.values, 0)\n",
    "print(score_auc)"
   ]
  },
  {
   "cell_type": "markdown",
   "metadata": {},
   "source": [
    "Looking at the AUC score, we can see that the performance of our model is very bad. With a score of 0.5 representing random chance, we can see that we are well below random chance in our outputs. This is very bad news for a classifier, as random chance should be a sanity check and the starting point from which a classifier improves. This implies that something very wrong is happening with the classifier"
   ]
  },
  {
   "cell_type": "code",
   "execution_count": 16,
   "metadata": {
    "scrolled": true
   },
   "outputs": [
    {
     "name": "stdout",
     "output_type": "stream",
     "text": [
      "0.006959956243419538\n"
     ]
    }
   ],
   "source": [
    "score_bedroc = Scoring.CalcBEDROC(df.values, 0, 20)\n",
    "print(score_bedroc)"
   ]
  },
  {
   "cell_type": "markdown",
   "metadata": {},
   "source": [
    "The BEDROC metric is a modification of the ROC curve. This metric uses an alpha value to weight the probability distribution in which a random value is selected from. In our application, we used an alpha value of 20.\n",
    "\n",
    "Looking at our results, our value is exceptionally poor."
   ]
  },
  {
   "cell_type": "code",
   "execution_count": 20,
   "metadata": {},
   "outputs": [
    {
     "name": "stdout",
     "output_type": "stream",
     "text": [
      "[0.0, 0.0, 0.21011197387585465, 0.7983050847457627]\n"
     ]
    }
   ],
   "source": [
    "score_enrich = Scoring.CalcEnrichment(df.values, 0, [.01, .1, .25, .5])\n",
    "print(score_enrich)"
   ]
  },
  {
   "cell_type": "markdown",
   "metadata": {},
   "source": [
    "The Enrichment factor represents the number of correctly classified ligands within a certain top percentage of the sample divided by the total sample. \n",
    "We ran the Enrichment scorer on a variety of values: 1%, 10%, 25%, and 50%. \n",
    "The values we got say that for the first 1% and 10% of samples, we got none of the ligands classified correctly. Then when we move to 25% and 50%, the values increase dramatically."
   ]
  }
 ],
 "metadata": {
  "kernelspec": {
   "display_name": "Cuda9",
   "language": "python",
   "name": "cuda9"
  },
  "language_info": {
   "codemirror_mode": {
    "name": "ipython",
    "version": 3
   },
   "file_extension": ".py",
   "mimetype": "text/x-python",
   "name": "python",
   "nbconvert_exporter": "python",
   "pygments_lexer": "ipython3",
   "version": "3.6.8"
  }
 },
 "nbformat": 4,
 "nbformat_minor": 2
}
