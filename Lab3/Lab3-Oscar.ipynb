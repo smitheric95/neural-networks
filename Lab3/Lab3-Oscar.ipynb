{
 "cells": [
  {
   "cell_type": "code",
   "execution_count": 1,
   "metadata": {},
   "outputs": [],
   "source": [
    "import numpy as np\n",
    "X = np.load('data/x_data.npy')\n",
    "Y = np.load('data/y_data.npy')"
   ]
  },
  {
   "cell_type": "code",
   "execution_count": 2,
   "metadata": {},
   "outputs": [],
   "source": [
    "tasks = {}\n",
    "\n",
    "for x,y in zip(X,Y):\n",
    "    if y in tasks:\n",
    "        tasks[y]['data'].append(np.array(x[2:]))\n",
    "        tasks[y]['target'].append(x[0])\n",
    "    else:\n",
    "        tasks[y] = {}\n",
    "        tasks[y]['data'] = [np.array(x[2:])]\n",
    "        tasks[y]['target'] = [x[0]]\n"
   ]
  },
  {
   "cell_type": "code",
   "execution_count": 3,
   "metadata": {},
   "outputs": [
    {
     "name": "stdout",
     "output_type": "stream",
     "text": [
      "[False, False, False, False, False, False, False, False, False, False, False, False, False, False, False, False, False, False, False, False, False, False, False, False, False, False, False, False, False, False, False, False, False, False, False, False, False, False, False, False, False, False, False, False, False, False, False, False, False, False, False, False, False, False, False, False, False, False, False, False, False, False, False, False, False, False, False, False, False, False, False, False, False, False, False, False, False, False, False, False, False, False, False, False, False, False, False, False, False, False, False, False, False, False, False, False, False, False, False, False, False, False, False, False, False, False, False, False, False, False, False, False, False, False, False, False, False, False, False, False, False, False, False, False, False, False, False, False, False, False, False, False, False, False, False, False, False, False, False, False, False, False, False, False, False, False, False, False, False, False, False, False, False, False, False, False, False, False, False, False, False, False, False, False, False, False, False, False, False, False, False, False, False, False, False, False, False, False, False, False, False, False, False, False, False, False, False, False, False, False, False, False, False, False, False, False, False, False, False, False, False, False, False, False, False, False, False, False, False, False, False, False, False, False, False, False, False, False, False, False, False, False, False, False, False, False, False, False, False, False, False, False, False, False, False, False, False, False, False, False, False, False, False, False, False, False, False, False, False, False, False, False, False, False, False, False, False, False, False, False, False, False, False, False, False, False, False, False, False, False, False, False, False, False, False, False, False, False, False, False, False, False, False, False, False, False, False, False, False, False, False, False, False, False, False, False, False, False, False, False, False, False, False, False, False, False, False, False, False, False, False, False, False, False, False, False, False, False, False, False, False, False, False, False, False, False, False, False, False, False, False, False, False, False, False, False, False, False, False, False, False, False, False, False, False, False, False, False, False, False, False, False, False, False, False, False, False, False, False, False, False, False, False, False, False, False, False, False, False, False, False, False, False, False, False, False, False, False, False, False, False, False, False, False, False, False, False, False, False, False, False, False, False, False, False, False, False, False, False, False, False, False, False, False, False, False, False, False, False, False, False, False, False, False, False, False, False, False, False, False, False, False, False, False, False, False, False, False, False, False, False, False, False, False, False, False, False, False, False, False, False, False, False, False, False, False, False, False, False, False, False, False, False, False, False, False, False, False, False, False, False, False, False, False, False, False, False, False, False, False, False, False, False, False, False, False, False, False, False, False, False, False, False, False, False, False, False, False, False, False, False, False, False, False, False, False, False, False, False, False, False, False, False, False, False, False, False, False, False, False, False, False, False, False, False, False, False, False, False, False, False, False, False, False, False, False, False, False, False, False, False, False, False, False, False, False, False, False, False, False, False, False, False, False, False, False, False, False, False, False, False, False, False, False, False, False, False, False, False, False, False, False, False, False, False, False, False, False, False, False, False, False, False, False, False, False, False, False, False, False, False, False, False, False, False, False, False, False, False, False, False, False, False, False, False, False, False, False, False, False, False, False, False, False, False, False, False, False, False, False, False, False, False, False, False, False, False, False, False, False, False, False, False, False, False, False, False, False, False, False, False, False, False, False, False, False, False, False, False, False, False, False, False, False, False, False, False, False, False, False, False, False, False, False, False, False, False, False, False, False, False, False, False, False, False, False, False, False, False, False, False, False, False, False, False, False, False, False, False, False, False, False, False, False, False, False, False, False, False, False, False, False, False, False, False, False, False, False, False, False, False, False, False, False, False, False, False, False, False, False, False, False, False, False, False, False, False, False, False, False, False, False, False, False, False, False, False, False, False, False, False, False, False, False, False, False, False, False, False, False, False, False, False, False, False, False, False, False, False, False, False, False, False, False, False, False, False, False, False, False, False, False, False, False, False, False, False, False, False, False, False, False, False, False, False, False, False, False, False, False, False, False, False, False, False, False, False, False, False, False, False, False, False, False, False, False, False, False, False, False, False, False, False, False, False, False, False, False, False, False, False, False, False, False, False, False, False, False, False, False, False, False, False, False, False, False, False, False, False, False, False, False, False, False, False, False, False, False, False, False, False, False, False, False, False, False, False, False, False, False, False, False, False, False, False, False, False, False, False, False, False, False, False, False, False, False, False, False, False, False, False, False, False, False, False, False, False, False, False, False, False, False, False, False, False, False, False, False, False, False, False, False, False, False, False, False, False, False, False, False, False, False, False, False, False, False, False, False, False, False, False, False, False, False, False, False, False, False, False, False, False, False, False, False, False, False, False, False, False, False, False, False, False, False, False, False, False, False, False, False, False, False, False, False, False, False, False, False, False, False, False, False, False, False, False, False, False, False, False, False, False, False, False, False, False, False, False, False, False, False, False, False, False, False, False, False, False, False, False, False, False, False, False, False, False, False, False, False, False, False, False, False, False, False, False, False, False, False, False, False, False, False, False, False, False, False, False, False, False, False, False, False, False, False, False, False, False, False, False, False, False, False, False, False, False, False, False, False, False, False, False, False, False, False, False, False, False, False, False, False, False, False, False, False, False, False, False, False, False, False, False, False, False, False, False, False, False, False, False, False, False, False, False, False, False, False, False, False, False, False, False, False, False, False, False, False, False, False, False, False, False, False, False, False, False, False, False, False, False, False, False, False, False, False, False, False, False, False, False, False, False, False, False, False, False, False, False, False, False, False, False, False, False, False, False, False, False, False, False, False, False, False, False, False, False, False, False, False, False, False, False, False, False, False, False, False, False, False, False, False, False, False, False, False, False, False, False, False, False, False, False, False, False, False, False, False, False, False, False, False, False, False, False, False, False, False, False, False, False, False, False, False, False, False, False, False, False, False, False, False, False, False, False, False, False, False, False, False, False, False, False, False, False, False, False, False, False, False, False, False, False, False, False, False, False, False, False, False, False, False, False, False, False, False, False, False, False, False, False, False, False, False, False, False, False, False, False, False, False, False, False, False, False, False, False, False, False, False, False, False, False, False, False, False, False, False, False, False, False, False, False, False, False, False, False, False, False, False, False, False, False, False, False, False, False, False, False, False, False, False, False, False, False, False, False, False, False, False, False, False, False, False, False, False, False, False, False, False, False, False, False, False, False, False, False, False, False, False, False, False, False, False, False, False, False, False, False, False, False, False, False, False, False, False, False, False, False, False, False, False, False, False, False, False, False, False, False, False, False, False, False, False, False, False, False, False, False, False, False, False, False, False, False, False, False, False, False, False, False, False, False, False, False, False, False, False, False, False, False, False, False, False, False, False, False, False, False, False, False, False, False, False, False, False, False, False, False, False, False, False, False, False, False, False, False, False, False, False, False, False, False, False, False, False, False, False, False, False, False, False, False, False, False, False, False, False, False, False, False, False, False, False, False, False, False, False, False, False, False, False, False, False, False, False, False, False, False, False, False, False, False, False, False, False, False, False, False, False, False, False, False, False, False, False, False, False, False, False, False, False, False, False, False, False, False, False, False, False, False, False, False, False, False, False, False, False, False, False, False, False, False, False, False, False, False, False, False, False, False, False, False, False, False, False, False, False, False, False, False, False, False, False, False, False, False, False, False, False, False, False, False, False, False, False, False, False, False, False, False, False, False, False, False, False, False, False, False, False, False, False, False, False, False, False, False, False, False, False, False, False, False, False, False, False, False, False, False, False, False, False, False, False, False, False, False, False, False, False, False, False, False, False, False, False, False, False, False, False, False, False, False, False, False, False, False, False, False, False, False, False, False, False, False, False, False, False, False, False, False, False, False, False, False, False, False, False, False, False, False, False, False, False, False, False, False, False, False, False, False, False, False, False, False, False, False, False, False, False, False, False, False, False, False, False, False, False, False, False, False, False, False, False, False, False, False, False, False, False, False, False, False, False, False, False, False, False, False, False, False, False, False, False, False, False, False, False, False, False, False, False, False, False, False, False, False, False, False, False, False, False, False, False, False, False, False, False, False, False, False, False, False, False, False, False, False, False, False, False, False, False, False, False, False, False, False, False, False, False, False, False, False, False, False, False, False, False, False, False, False, False, False, False, False, False, False, False, False, False, False, False, False, False, False, False, False, False, False, False, False, False, False, False, False, False, False, False, False, False, False, False, False, False, False, False, False, False, False, False, False, False, False, False, False, False, False, False, False, False, False, False, False, False, False, False, False, False, False, False, False, False, False, False, False, False, False, False, False, False, False, False, False, False, False, False, False, False, False, False, False, False, False, False, False, False, False, False, False, False, False, False, False, False, False, False, False, False, False, False, False, False, False, False, False, False, False, False, False, False, False, False, False, False, False, False, False, False, False, False, False, False, False, False, False, False, False, False, False, False, False, False, False, False, False, False, False, False, False, False, False, False, False, False, False, False, False, False, False, False, False, False, False, False, False, False, False, False, False, False, False, False, False, False, False, False, False, False, False, False, False, False, False, False, False, False, False, False, False, False, False, False, False, False, False, False, False, False, False, False, False, False, False, False, False, False, False, False, False, False, False, False, False, False, False, False, False, False, False, False, False, False, False, False, False, False, False, False, False, False, False, False, False, False, False, False, False, False, False, False, False, False, False, False, False, False, False, False, False, False, False, False, False, False, False, False, False, False, False, False, False, False, False, False, False, False, False, False, False, False, False, False, False, False, False, False, False, False, False, False, False, False, False, False, False, False, False, False, False, False, False, False, False, False, False, False, False, False, False, False, False, False, False, False, False, False, False, False, False, False, False, False, False, False, False, False, False, False, False, False, False, False, False, False, False, False, False, False, False, False, False, False, False, False, False, False, False, False]\n"
     ]
    }
   ],
   "source": [
    "print(tasks['CHEMBL2114881']['target'])"
   ]
  },
  {
   "cell_type": "code",
   "execution_count": 4,
   "metadata": {},
   "outputs": [],
   "source": [
    "index = 1\n",
    "top_targets = {}\n",
    "for key, value in sorted(tasks.items(), key=lambda item: len(item[1]['target']), reverse=True):\n",
    "    top_targets[key] = {}\n",
    "    top_targets[key]['data'] = np.array(value['data'])\n",
    "    top_targets[key]['target'] = np.array(value['target'])\n",
    "\n",
    "    if index == 100:\n",
    "        break\n",
    "    index +=1 "
   ]
  },
  {
   "cell_type": "markdown",
   "metadata": {},
   "source": [
    "## These are the top 100 targets that will be trained"
   ]
  },
  {
   "cell_type": "code",
   "execution_count": 5,
   "metadata": {},
   "outputs": [
    {
     "name": "stdout",
     "output_type": "stream",
     "text": [
      "['CHEMBL2114881', 'CHEMBL2114714', 'CHEMBL1963941', 'CHEMBL1963883', 'CHEMBL3562022', 'CHEMBL1614063', 'CHEMBL1738498', 'CHEMBL3881499', 'CHEMBL1614432', 'CHEMBL1613885', 'CHEMBL4028923', 'CHEMBL2218781', 'CHEMBL3880337', 'CHEMBL3880339', 'CHEMBL3880338', 'CHEMBL4028921', 'CHEMBL4028924', 'CHEMBL3705123', 'CHEMBL1613799', 'CHEMBL4028922', 'CHEMBL1738424', 'CHEMBL3880340', 'CHEMBL1738407', 'CHEMBL4017550', 'CHEMBL3706327', 'CHEMBL3880341', 'CHEMBL3436039', 'CHEMBL3436040', 'CHEMBL1614547', 'CHEMBL3436041', 'CHEMBL3431934', 'CHEMBL3880334', 'CHEMBL3880335', 'CHEMBL1614423', 'CHEMBL3880344', 'CHEMBL1964096', 'CHEMBL3431931', 'CHEMBL1964000', 'CHEMBL1614199', 'CHEMBL2114818', 'CHEMBL2114719', 'CHEMBL3880342', 'CHEMBL1963965', 'CHEMBL1119333', 'CHEMBL1614549', 'CHEMBL3734174', 'CHEMBL3887033', 'CHEMBL1614359', 'CHEMBL1006579', 'CHEMBL3707950', 'CHEMBL2114737', 'CHEMBL3882758', 'CHEMBL3215171', 'CHEMBL3883019', 'CHEMBL3882757', 'CHEMBL2114791', 'CHEMBL3214986', 'CHEMBL3707758', 'CHEMBL2114746', 'CHEMBL3215275', 'CHEMBL2354281', 'CHEMBL3215242', 'CHEMBL2114772', 'CHEMBL3705125', 'CHEMBL2114846', 'CHEMBL974332', 'CHEMBL3734252', 'CHEMBL763870', 'CHEMBL3883020', 'CHEMBL4011663', 'CHEMBL1963846', 'CHEMBL2114829', 'CHEMBL3887111', 'CHEMBL1963838', 'CHEMBL1964023', 'CHEMBL3888178', 'CHEMBL2114858', 'CHEMBL1614255', 'CHEMBL1614529', 'CHEMBL3215006', 'CHEMBL3705299', 'CHEMBL2114771', 'CHEMBL2114928', 'CHEMBL3215200', 'CHEMBL3707951', 'CHEMBL3882744', 'CHEMBL1021377', 'CHEMBL2354289', 'CHEMBL2114850', 'CHEMBL3215176', 'CHEMBL3881394', 'CHEMBL659084', 'CHEMBL2038596', 'CHEMBL3880847', 'CHEMBL3880106', 'CHEMBL830839', 'CHEMBL828662', 'CHEMBL1646731', 'CHEMBL2114825', 'CHEMBL1613978']\n"
     ]
    }
   ],
   "source": [
    "print(list(top_targets))"
   ]
  },
  {
   "cell_type": "code",
   "execution_count": 6,
   "metadata": {},
   "outputs": [
    {
     "name": "stdout",
     "output_type": "stream",
     "text": [
      "[[1.0 0.0 0.0 ... 1.0 0.0 1.0]\n",
      " [1.0 0.0 0.0 ... 0.0 0.0 0.0]\n",
      " [1.0 0.0 0.0 ... 0.0 0.0 0.0]\n",
      " ...\n",
      " [1.0 0.0 0.0 ... 0.0 0.0 0.0]\n",
      " [1.0 0.0 0.0 ... 0.0 0.0 0.0]\n",
      " [1.0 0.0 0.0 ... 0.0 0.0 0.0]]\n"
     ]
    }
   ],
   "source": [
    "print(top_targets['CHEMBL2114881']['data'])"
   ]
  },
  {
   "cell_type": "code",
   "execution_count": 7,
   "metadata": {},
   "outputs": [
    {
     "name": "stderr",
     "output_type": "stream",
     "text": [
      "Using TensorFlow backend.\n"
     ]
    },
    {
     "name": "stdout",
     "output_type": "stream",
     "text": [
      "Creating Sub Models:\n",
      "Model:  1  | Section Time:  0.02628779411315918  | Elapsed Time:  0.02678370475769043\n",
      "Model:  2  | Section Time:  0.025792360305786133  | Elapsed Time:  0.053072214126586914\n",
      "Model:  3  | Section Time:  0.02678370475769043  | Elapsed Time:  0.08084797859191895\n",
      "Model:  4  | Section Time:  0.026784420013427734  | Elapsed Time:  0.10812830924987793\n",
      "Model:  5  | Section Time:  0.02628803253173828  | Elapsed Time:  0.1354081630706787\n",
      "Model:  6  | Section Time:  0.02678370475769043  | Elapsed Time:  0.1626880168914795\n",
      "Model:  7  | Section Time:  0.05164027214050293  | Elapsed Time:  0.21532058715820312\n",
      "Model:  8  | Section Time:  0.032239675521850586  | Elapsed Time:  0.2489917278289795\n",
      "Model:  9  | Section Time:  0.027280569076538086  | Elapsed Time:  0.27676868438720703\n",
      "Model:  10  | Section Time:  0.03273653984069824  | Elapsed Time:  0.31049633026123047\n",
      "Model:  11  | Section Time:  0.02529621124267578  | Elapsed Time:  0.3362882137298584\n",
      "Model:  12  | Section Time:  0.02579188346862793  | Elapsed Time:  0.36307191848754883\n",
      "Model:  13  | Section Time:  0.02579188346862793  | Elapsed Time:  0.3893599510192871\n",
      "Model:  14  | Section Time:  0.02678370475769043  | Elapsed Time:  0.41713595390319824\n",
      "Model:  15  | Section Time:  0.027280330657958984  | Elapsed Time:  0.4449121952056885\n",
      "Model:  16  | Section Time:  0.02529597282409668  | Elapsed Time:  0.47120022773742676\n",
      "Model:  17  | Section Time:  0.02579212188720703  | Elapsed Time:  0.49748826026916504\n",
      "Model:  18  | Section Time:  0.02628636360168457  | Elapsed Time:  0.5242719650268555\n",
      "Model:  19  | Section Time:  0.07489538192749023  | Elapsed Time:  0.6001601219177246\n",
      "Model:  20  | Section Time:  0.029263734817504883  | Elapsed Time:  0.6294238567352295\n",
      "Model:  21  | Section Time:  0.025792360305786133  | Elapsed Time:  0.6557121276855469\n",
      "Model:  22  | Section Time:  0.02529621124267578  | Elapsed Time:  0.681999921798706\n",
      "Model:  23  | Section Time:  0.028768062591552734  | Elapsed Time:  0.7112641334533691\n",
      "Model:  24  | Section Time:  0.02529621124267578  | Elapsed Time:  0.7375519275665283\n",
      "Model:  25  | Section Time:  0.02579212188720703  | Elapsed Time:  0.764336109161377\n",
      "Model:  26  | Section Time:  0.024303674697875977  | Elapsed Time:  0.7891354560852051\n",
      "Model:  27  | Section Time:  0.026784420013427734  | Elapsed Time:  0.8164160251617432\n",
      "Model:  28  | Section Time:  0.02529621124267578  | Elapsed Time:  0.8427038192749023\n",
      "Model:  29  | Section Time:  0.02579212188720703  | Elapsed Time:  0.8689918518066406\n",
      "Model:  30  | Section Time:  0.025792360305786133  | Elapsed Time:  0.8957760334014893\n",
      "Model:  31  | Section Time:  0.029263973236083984  | Elapsed Time:  0.9255359172821045\n",
      "Model:  32  | Section Time:  0.02529597282409668  | Elapsed Time:  0.9513280391693115\n",
      "Model:  33  | Section Time:  0.02579188346862793  | Elapsed Time:  0.978111743927002\n",
      "Model:  34  | Section Time:  0.03422427177429199  | Elapsed Time:  1.012336015701294\n",
      "Model:  35  | Section Time:  0.02529621124267578  | Elapsed Time:  1.0386238098144531\n",
      "Model:  36  | Section Time:  0.02628779411315918  | Elapsed Time:  1.065903902053833\n",
      "Model:  37  | Section Time:  0.026784181594848633  | Elapsed Time:  1.0936799049377441\n",
      "Model:  38  | Section Time:  0.027776241302490234  | Elapsed Time:  1.1219520568847656\n",
      "Model:  39  | Section Time:  0.025295495986938477  | Elapsed Time:  1.1482393741607666\n",
      "Model:  40  | Section Time:  0.027280330657958984  | Elapsed Time:  1.176511526107788\n",
      "Model:  41  | Section Time:  0.02529740333557129  | Elapsed Time:  1.2028007507324219\n",
      "Model:  42  | Section Time:  0.0833275318145752  | Elapsed Time:  1.286623239517212\n",
      "Model:  43  | Section Time:  0.02529621124267578  | Elapsed Time:  1.3129119873046875\n",
      "Model:  44  | Section Time:  0.02579212188720703  | Elapsed Time:  1.339695930480957\n",
      "Model:  45  | Section Time:  0.025295734405517578  | Elapsed Time:  1.365983486175537\n",
      "Model:  46  | Section Time:  0.025296449661254883  | Elapsed Time:  1.3922719955444336\n",
      "Model:  47  | Section Time:  0.02579188346862793  | Elapsed Time:  1.4185595512390137\n",
      "Model:  48  | Section Time:  0.02628779411315918  | Elapsed Time:  1.4453434944152832\n",
      "Model:  49  | Section Time:  0.025296449661254883  | Elapsed Time:  1.4711358547210693\n",
      "Model:  50  | Section Time:  0.02529454231262207  | Elapsed Time:  1.496927261352539\n",
      "Model:  51  | Section Time:  0.025792598724365234  | Elapsed Time:  1.5232160091400146\n",
      "Model:  52  | Section Time:  0.025792598724365234  | Elapsed Time:  1.5495038032531738\n",
      "Model:  53  | Section Time:  0.02529597282409668  | Elapsed Time:  1.5752956867218018\n",
      "Model:  54  | Section Time:  0.025792360305786133  | Elapsed Time:  1.6020798683166504\n",
      "Model:  55  | Section Time:  0.02579188346862793  | Elapsed Time:  1.6283671855926514\n",
      "Model:  56  | Section Time:  0.02579212188720703  | Elapsed Time:  1.6551518440246582\n",
      "Model:  57  | Section Time:  0.025294780731201172  | Elapsed Time:  1.6814393997192383\n",
      "Model:  58  | Section Time:  0.02579212188720703  | Elapsed Time:  1.7077276706695557\n",
      "Model:  59  | Section Time:  0.02529597282409668  | Elapsed Time:  1.734015703201294\n",
      "Model:  60  | Section Time:  0.030256032943725586  | Elapsed Time:  1.765263557434082\n",
      "Model:  61  | Section Time:  0.02579188346862793  | Elapsed Time:  1.7915515899658203\n",
      "Model:  62  | Section Time:  0.027776002883911133  | Elapsed Time:  1.8193275928497314\n",
      "Model:  63  | Section Time:  0.024799108505249023  | Elapsed Time:  1.8451194763183594\n",
      "Model:  64  | Section Time:  0.02529597282409668  | Elapsed Time:  1.8714077472686768\n",
      "Model:  65  | Section Time:  0.02480006217956543  | Elapsed Time:  1.8971993923187256\n",
      "Model:  66  | Section Time:  0.02628779411315918  | Elapsed Time:  1.9239835739135742\n",
      "Model:  67  | Section Time:  0.02579188346862793  | Elapsed Time:  1.9507672786712646\n",
      "Model:  68  | Section Time:  0.02579212188720703  | Elapsed Time:  1.977055549621582\n",
      "Model:  69  | Section Time:  0.02678370475769043  | Elapsed Time:  2.004335403442383\n",
      "Model:  70  | Section Time:  0.02529597282409668  | Elapsed Time:  2.0306236743927\n",
      "Model:  71  | Section Time:  0.09374451637268066  | Elapsed Time:  2.1253600120544434\n",
      "Model:  72  | Section Time:  0.026288270950317383  | Elapsed Time:  2.152639627456665\n",
      "Model:  73  | Section Time:  0.02678370475769043  | Elapsed Time:  2.179919719696045\n",
      "Model:  74  | Section Time:  0.026287555694580078  | Elapsed Time:  2.2067031860351562\n",
      "Model:  75  | Section Time:  0.02480030059814453  | Elapsed Time:  2.232495069503784\n",
      "Model:  76  | Section Time:  0.028272628784179688  | Elapsed Time:  2.2617595195770264\n",
      "Model:  77  | Section Time:  0.02678370475769043  | Elapsed Time:  2.2895355224609375\n",
      "Model:  78  | Section Time:  0.026784181594848633  | Elapsed Time:  2.3168156147003174\n",
      "Model:  79  | Section Time:  0.02628803253173828  | Elapsed Time:  2.344095468521118\n",
      "Model:  80  | Section Time:  0.02579045295715332  | Elapsed Time:  2.3703837394714355\n",
      "Model:  81  | Section Time:  0.027776002883911133  | Elapsed Time:  2.398655414581299\n",
      "Model:  82  | Section Time:  0.02678394317626953  | Elapsed Time:  2.4259352684020996\n",
      "Model:  83  | Section Time:  0.026288270950317383  | Elapsed Time:  2.4532155990600586\n",
      "Model:  84  | Section Time:  0.02579212188720703  | Elapsed Time:  2.4795033931732178\n",
      "Model:  85  | Section Time:  0.02579212188720703  | Elapsed Time:  2.5062875747680664\n",
      "Model:  86  | Section Time:  0.02628803253173828  | Elapsed Time:  2.533071279525757\n",
      "Model:  87  | Section Time:  0.026287317276000977  | Elapsed Time:  2.5598556995391846\n",
      "Model:  88  | Section Time:  0.027280330657958984  | Elapsed Time:  2.5876317024230957\n",
      "Model:  89  | Section Time:  0.026784181594848633  | Elapsed Time:  2.6154074668884277\n",
      "Model:  90  | Section Time:  0.026784658432006836  | Elapsed Time:  2.643183708190918\n",
      "Model:  91  | Section Time:  0.02529597282409668  | Elapsed Time:  2.669471263885498\n",
      "Model:  92  | Section Time:  0.02579188346862793  | Elapsed Time:  2.6962552070617676\n",
      "Model:  93  | Section Time:  0.025295257568359375  | Elapsed Time:  2.7225427627563477\n",
      "Model:  94  | Section Time:  0.02628803253173828  | Elapsed Time:  2.7498233318328857\n",
      "Model:  95  | Section Time:  0.025791406631469727  | Elapsed Time:  2.7756147384643555\n",
      "Model:  96  | Section Time:  0.02628803253173828  | Elapsed Time:  2.8028953075408936\n",
      "Model:  97  | Section Time:  0.026288270950317383  | Elapsed Time:  2.829679489135742\n",
      "Model:  98  | Section Time:  0.026288509368896484  | Elapsed Time:  2.8564634323120117\n",
      "Model:  99  | Section Time:  0.02628779411315918  | Elapsed Time:  2.882751226425171\n",
      "Model:  100  | Section Time:  0.02579212188720703  | Elapsed Time:  2.9095354080200195\n"
     ]
    }
   ],
   "source": [
    "from keras.layers import Input, Dense\n",
    "from keras.models import Model\n",
    "import time\n",
    "\n",
    "inputs = Input(shape=(512,))\n",
    "shared_mlp = Dense(64, activation='relu')(inputs)\n",
    "shared_mlp = Dense(64, activation='relu')(shared_mlp)\n",
    "\n",
    "# make a dictionary of models for each task\n",
    "models_mtl = dict()\n",
    "print('Creating Sub Models:')\n",
    "og_start = time.time()\n",
    "index = 1\n",
    "for x in top_targets.keys():\n",
    "    start = time.time()\n",
    "    personal_layer = Dense(10, activation='relu')(shared_mlp)\n",
    "    output_layer = Dense(1)(personal_layer)\n",
    "    model = Model(inputs=inputs, outputs=output_layer)\n",
    "    model.compile(optimizer='sgd', loss='mean_squared_error')\n",
    "    models_mtl[x] = model\n",
    "    end = time.time()\n",
    "    \n",
    "    print(\"Model: \", index, \" | Section Time: \", end - start, \" | Elapsed Time: \", end - og_start)\n",
    "    index += 1"
   ]
  },
  {
   "cell_type": "code",
   "execution_count": 8,
   "metadata": {},
   "outputs": [],
   "source": [
    "from sklearn.model_selection import train_test_split\n",
    "\n",
    "test_size = 0.2\n",
    "\n",
    "X_train = dict()\n",
    "y_train = dict()\n",
    "X_test = dict()\n",
    "y_test = dict()\n",
    "\n",
    "#print(top_targets[x][0])\n",
    "\n",
    "for x in top_targets.keys():\n",
    "    X_train[x], X_test[x], y_train[x], y_test[x] = train_test_split(top_targets[x]['data'], \n",
    "                                                        top_targets[x]['target'], \n",
    "                                                        test_size=test_size, \n",
    "                                                        random_state=42)\n"
   ]
  },
  {
   "cell_type": "code",
   "execution_count": 9,
   "metadata": {},
   "outputs": [
    {
     "name": "stdout",
     "output_type": "stream",
     "text": [
      "Epoch 0, Epoch 1, Epoch 2, Epoch 3, Epoch 4, Epoch 5, Epoch 6, Epoch 7, Epoch 8, Epoch 9, Epoch 10, Epoch 11, Epoch 12, Epoch 13, Epoch 14, Epoch 15, Epoch 16, Epoch 17, Epoch 18, Epoch 19, Wall time: 2min 15s\n"
     ]
    }
   ],
   "source": [
    "%%time\n",
    "EPOCHS = 20\n",
    "from random import shuffle\n",
    "\n",
    "all_keys = list(top_targets)\n",
    "for i in range(EPOCHS):\n",
    "    print('Epoch',i,end=', ')\n",
    "    shuffle(all_keys)\n",
    "    for x in all_keys:\n",
    "        models_mtl[x].fit(X_train[x],y_train[x], verbose=0)"
   ]
  },
  {
   "cell_type": "markdown",
   "metadata": {},
   "source": [
    "## Evaluating the Train-Test Split Data"
   ]
  },
  {
   "cell_type": "code",
   "execution_count": 10,
   "metadata": {},
   "outputs": [
    {
     "name": "stdout",
     "output_type": "stream",
     "text": [
      "Wall time: 47.6 s\n"
     ]
    }
   ],
   "source": [
    "%%time\n",
    "y_mtl=[]\n",
    "yhat_mtl=[]\n",
    "\n",
    "for x in X_test.keys():\n",
    "    yhat_mlp = models_mtl[x].predict(X_test[x])\n",
    "\n",
    "    y_mtl.append(y_test[x].ravel())\n",
    "    yhat_mtl.append(yhat_mlp.ravel())"
   ]
  },
  {
   "cell_type": "code",
   "execution_count": 11,
   "metadata": {},
   "outputs": [],
   "source": [
    "import matplotlib.pyplot as plt\n",
    "import numpy as np\n",
    "import seaborn as sns\n",
    "from sklearn.metrics import mean_squared_error, accuracy_score \n",
    "from sklearn.metrics import precision_score, mean_squared_log_error\n",
    "\n",
    "def bland_altman_plot(data1, data2, *args, **kwargs):\n",
    "    data1     = np.asarray(data1)\n",
    "    data2     = np.asarray(data2)\n",
    "    mean      = np.mean([data1, data2], axis=0)\n",
    "    diff      = data1 - data2                   # Difference between data1 and data2\n",
    "    md        = np.mean(diff)                   # Mean of the difference\n",
    "    sd        = np.std(diff, axis=0)            # Standard deviation of the difference\n",
    "\n",
    "    plt.figure(figsize=(15,10))\n",
    "    plt.scatter(mean, diff, *args, **kwargs)\n",
    "    plt.axhline(md,           color='gray', linestyle='--')\n",
    "    plt.axhline(md + 1.96*sd, color='gray', linestyle='--')\n",
    "    plt.axhline(md - 1.96*sd, color='gray', linestyle='--')\n",
    "    plt.title(\"Bland Altman, MSE: \"+str(mean_squared_error(data1,data2)))\n",
    "    plt.xlabel('Mean Score', fontsize=8)\n",
    "    plt.ylabel('Diff Score', fontsize=8)\n",
    "    plt.show()"
   ]
  },
  {
   "cell_type": "code",
   "execution_count": 12,
   "metadata": {},
   "outputs": [
    {
     "data": {
      "image/png": "[encoded data removed]",
      "text/plain": [
       "<Figure size 1080x720 with 1 Axes>"
      ]
     },
     "metadata": {
      "needs_background": "light"
     },
     "output_type": "display_data"
    }
   ],
   "source": [
    "bland_altman_plot(np.concatenate(y_mtl), np.concatenate(yhat_mtl))"
   ]
  },
  {
   "cell_type": "code",
   "execution_count": 13,
   "metadata": {},
   "outputs": [],
   "source": [
    "from rdkit.ML.Scoring import Scoring"
   ]
  },
  {
   "cell_type": "code",
   "execution_count": 61,
   "metadata": {},
   "outputs": [],
   "source": [
    "import pandas as pd\n",
    "\n",
    "scores = {'y_mtl':np.concatenate(y_mtl), 'yhat_mtl':np.concatenate(yhat_mtl)}\n",
    "df = pd.DataFrame(scores)"
   ]
  },
  {
   "cell_type": "code",
   "execution_count": 62,
   "metadata": {},
   "outputs": [
    {
     "name": "stdout",
     "output_type": "stream",
     "text": [
      "      y_mtl  yhat_mtl\n",
      "0     False -0.015739\n",
      "1     False -0.000854\n",
      "2     False  0.073338\n",
      "3     False -0.061676\n",
      "4     False  0.024977\n",
      "5     False -0.034893\n",
      "6     False -0.041767\n",
      "7     False  0.034397\n",
      "8     False  0.028851\n",
      "9     False  0.000678\n",
      "10    False  0.013192\n",
      "11    False -0.027791\n",
      "12    False  0.027597\n",
      "13    False -0.054388\n",
      "14    False  0.007950\n",
      "15    False  0.002804\n",
      "16    False  0.031637\n",
      "17    False  0.024716\n",
      "18    False  0.006665\n",
      "19    False  0.047736\n",
      "20    False -0.017767\n",
      "21    False -0.044926\n",
      "22    False  0.005741\n",
      "23    False  0.035408\n",
      "24    False  0.016307\n",
      "25    False  0.053533\n",
      "26    False -0.014041\n",
      "27    False -0.028972\n",
      "28    False  0.012528\n",
      "29    False  0.005724\n",
      "...     ...       ...\n",
      "7276  False -0.043012\n",
      "7277  False  0.047272\n",
      "7278  False -0.076230\n",
      "7279  False  0.046460\n",
      "7280  False  0.012997\n",
      "7281  False  0.117490\n",
      "7282  False  0.078480\n",
      "7283  False -0.086455\n",
      "7284  False  0.073069\n",
      "7285  False  0.081990\n",
      "7286  False -0.016256\n",
      "7287  False  0.035633\n",
      "7288  False -0.015238\n",
      "7289  False -0.036941\n",
      "7290  False  0.205658\n",
      "7291  False -0.074545\n",
      "7292  False -0.093121\n",
      "7293  False  0.117273\n",
      "7294  False  0.035797\n",
      "7295  False -0.034289\n",
      "7296  False  0.004333\n",
      "7297  False -0.029810\n",
      "7298  False -0.073361\n",
      "7299  False  0.045560\n",
      "7300  False  0.036720\n",
      "7301  False -0.003340\n",
      "7302  False -0.056843\n",
      "7303  False -0.002324\n",
      "7304  False  0.016282\n",
      "7305  False  0.103291\n",
      "\n",
      "[7306 rows x 2 columns]\n"
     ]
    }
   ],
   "source": [
    "print(df)"
   ]
  },
  {
   "cell_type": "code",
   "execution_count": 64,
   "metadata": {},
   "outputs": [
    {
     "name": "stdout",
     "output_type": "stream",
     "text": [
      "0.3569572570198806\n"
     ]
    }
   ],
   "source": [
    "score_auc = Scoring.CalcAUC(df.values, 0)\n",
    "print(score_auc)"
   ]
  },
  {
   "cell_type": "code",
   "execution_count": 65,
   "metadata": {
    "scrolled": true
   },
   "outputs": [
    {
     "name": "stdout",
     "output_type": "stream",
     "text": [
      "0.006959956243419538\n"
     ]
    }
   ],
   "source": [
    "score_bedroc = Scoring.CalcBEDROC(df.values, 0, 20)\n",
    "print(score_bedroc)"
   ]
  },
  {
   "cell_type": "code",
   "execution_count": 66,
   "metadata": {},
   "outputs": [
    {
     "name": "stdout",
     "output_type": "stream",
     "text": [
      "[0.0, 0.0, 0.21011197387585465, 0.7983050847457627]\n"
     ]
    }
   ],
   "source": [
    "score_enrich = Scoring.CalcEnrichment(df.values, 0, [.01, .1, .25, .5])\n",
    "print(score_enrich)"
   ]
  },
  {
   "cell_type": "code",
   "execution_count": 28,
   "metadata": {},
   "outputs": [
    {
     "name": "stdout",
     "output_type": "stream",
     "text": [
      "(406,)\n"
     ]
    }
   ],
   "source": [
    "print(y_mtl[0].shape)"
   ]
  },
  {
   "cell_type": "code",
   "execution_count": 36,
   "metadata": {},
   "outputs": [
    {
     "data": {
      "text/plain": [
       "100"
      ]
     },
     "execution_count": 36,
     "metadata": {},
     "output_type": "execute_result"
    }
   ],
   "source": [
    "len(y_mtl)"
   ]
  },
  {
   "cell_type": "code",
   "execution_count": 37,
   "metadata": {},
   "outputs": [],
   "source": [
    "from sklearn.metrics import roc_auc_score"
   ]
  },
  {
   "cell_type": "code",
   "execution_count": 38,
   "metadata": {
    "scrolled": true
   },
   "outputs": [
    {
     "ename": "ValueError",
     "evalue": "unknown format is not supported",
     "output_type": "error",
     "traceback": [
      "\u001b[1;31m---------------------------------------------------------------------------\u001b[0m",
      "\u001b[1;31mValueError\u001b[0m                                Traceback (most recent call last)",
      "\u001b[1;32m<ipython-input-38-5cc9c398269b>\u001b[0m in \u001b[0;36m<module>\u001b[1;34m\u001b[0m\n\u001b[1;32m----> 1\u001b[1;33m \u001b[0ms_r\u001b[0m \u001b[1;33m=\u001b[0m \u001b[0mroc_auc_score\u001b[0m\u001b[1;33m(\u001b[0m\u001b[0my_mtl\u001b[0m\u001b[1;33m,\u001b[0m \u001b[0myhat_mtl\u001b[0m\u001b[1;33m)\u001b[0m\u001b[1;33m\u001b[0m\u001b[1;33m\u001b[0m\u001b[0m\n\u001b[0m",
      "\u001b[1;32m~\\Anaconda3\\envs\\cuda9\\lib\\site-packages\\sklearn\\metrics\\ranking.py\u001b[0m in \u001b[0;36mroc_auc_score\u001b[1;34m(y_true, y_score, average, sample_weight, max_fpr)\u001b[0m\n\u001b[0;32m    354\u001b[0m     return _average_binary_score(\n\u001b[0;32m    355\u001b[0m         \u001b[0m_binary_roc_auc_score\u001b[0m\u001b[1;33m,\u001b[0m \u001b[0my_true\u001b[0m\u001b[1;33m,\u001b[0m \u001b[0my_score\u001b[0m\u001b[1;33m,\u001b[0m \u001b[0maverage\u001b[0m\u001b[1;33m,\u001b[0m\u001b[1;33m\u001b[0m\u001b[1;33m\u001b[0m\u001b[0m\n\u001b[1;32m--> 356\u001b[1;33m         sample_weight=sample_weight)\n\u001b[0m\u001b[0;32m    357\u001b[0m \u001b[1;33m\u001b[0m\u001b[0m\n\u001b[0;32m    358\u001b[0m \u001b[1;33m\u001b[0m\u001b[0m\n",
      "\u001b[1;32m~\\Anaconda3\\envs\\cuda9\\lib\\site-packages\\sklearn\\metrics\\base.py\u001b[0m in \u001b[0;36m_average_binary_score\u001b[1;34m(binary_metric, y_true, y_score, average, sample_weight)\u001b[0m\n\u001b[0;32m     72\u001b[0m     \u001b[0my_type\u001b[0m \u001b[1;33m=\u001b[0m \u001b[0mtype_of_target\u001b[0m\u001b[1;33m(\u001b[0m\u001b[0my_true\u001b[0m\u001b[1;33m)\u001b[0m\u001b[1;33m\u001b[0m\u001b[1;33m\u001b[0m\u001b[0m\n\u001b[0;32m     73\u001b[0m     \u001b[1;32mif\u001b[0m \u001b[0my_type\u001b[0m \u001b[1;32mnot\u001b[0m \u001b[1;32min\u001b[0m \u001b[1;33m(\u001b[0m\u001b[1;34m\"binary\"\u001b[0m\u001b[1;33m,\u001b[0m \u001b[1;34m\"multilabel-indicator\"\u001b[0m\u001b[1;33m)\u001b[0m\u001b[1;33m:\u001b[0m\u001b[1;33m\u001b[0m\u001b[1;33m\u001b[0m\u001b[0m\n\u001b[1;32m---> 74\u001b[1;33m         \u001b[1;32mraise\u001b[0m \u001b[0mValueError\u001b[0m\u001b[1;33m(\u001b[0m\u001b[1;34m\"{0} format is not supported\"\u001b[0m\u001b[1;33m.\u001b[0m\u001b[0mformat\u001b[0m\u001b[1;33m(\u001b[0m\u001b[0my_type\u001b[0m\u001b[1;33m)\u001b[0m\u001b[1;33m)\u001b[0m\u001b[1;33m\u001b[0m\u001b[1;33m\u001b[0m\u001b[0m\n\u001b[0m\u001b[0;32m     75\u001b[0m \u001b[1;33m\u001b[0m\u001b[0m\n\u001b[0;32m     76\u001b[0m     \u001b[1;32mif\u001b[0m \u001b[0my_type\u001b[0m \u001b[1;33m==\u001b[0m \u001b[1;34m\"binary\"\u001b[0m\u001b[1;33m:\u001b[0m\u001b[1;33m\u001b[0m\u001b[1;33m\u001b[0m\u001b[0m\n",
      "\u001b[1;31mValueError\u001b[0m: unknown format is not supported"
     ]
    }
   ],
   "source": [
    "s_r = roc_auc_score(y_mtl, yhat_mtl)"
   ]
  },
  {
   "cell_type": "code",
   "execution_count": null,
   "metadata": {},
   "outputs": [],
   "source": []
  }
 ],
 "metadata": {
  "kernelspec": {
   "display_name": "Cuda9",
   "language": "python",
   "name": "cuda9"
  },
  "language_info": {
   "codemirror_mode": {
    "name": "ipython",
    "version": 3
   },
   "file_extension": ".py",
   "mimetype": "text/x-python",
   "name": "python",
   "nbconvert_exporter": "python",
   "pygments_lexer": "ipython3",
   "version": "3.6.8"
  }
 },
 "nbformat": 4,
 "nbformat_minor": 2
}
