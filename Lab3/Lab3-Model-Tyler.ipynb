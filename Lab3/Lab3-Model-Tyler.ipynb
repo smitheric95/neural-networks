{
 "cells": [
  {
   "cell_type": "markdown",
   "metadata": {},
   "source": [
    "# Building the Multi-Task Model"
   ]
  },
  {
   "cell_type": "markdown",
   "metadata": {},
   "source": [
    "### Reading in the X and Y semi-raw data"
   ]
  },
  {
   "cell_type": "code",
   "execution_count": 1,
   "metadata": {},
   "outputs": [],
   "source": [
    "import numpy as np"
   ]
  },
  {
   "cell_type": "code",
   "execution_count": 2,
   "metadata": {},
   "outputs": [],
   "source": [
    "X = np.load('data/x_data.npy')"
   ]
  },
  {
   "cell_type": "code",
   "execution_count": 3,
   "metadata": {},
   "outputs": [],
   "source": [
    "Y = np.load('data/y_data.npy')"
   ]
  },
  {
   "cell_type": "markdown",
   "metadata": {},
   "source": [
    "# Refactoring and Fine Filtering Data"
   ]
  },
  {
   "cell_type": "code",
   "execution_count": 4,
   "metadata": {},
   "outputs": [],
   "source": [
    "tasks = {}\n",
    "\n",
    "for x,y in zip(X,Y):\n",
    "    if y in tasks:\n",
    "        tasks[y]['data'].append(np.array(x[2:]))\n",
    "        tasks[y]['target'].append(x[0])\n",
    "    else:\n",
    "        tasks[y] = {}\n",
    "        tasks[y]['data'] = [np.array(x[2:])]\n",
    "        tasks[y]['target'] = [x[0]]\n"
   ]
  },
  {
   "cell_type": "code",
   "execution_count": 5,
   "metadata": {},
   "outputs": [
    {
     "name": "stdout",
     "output_type": "stream",
     "text": [
      "[0.0, 1.0, 1.0, 1.0]\n"
     ]
    }
   ],
   "source": [
    "print(tasks['CHEMBL664913']['target'])"
   ]
  },
  {
   "cell_type": "code",
   "execution_count": 6,
   "metadata": {},
   "outputs": [],
   "source": [
    "index = 1\n",
    "top_targets = {}\n",
    "for key, value in sorted(tasks.items(), key=lambda item: len(item[1]['target']), reverse=True):\n",
    "    top_targets[key] = {}\n",
    "    top_targets[key]['data'] = np.array(value['data'])\n",
    "    top_targets[key]['target'] = np.array(value['target'])\n",
    "\n",
    "    if index == 100:\n",
    "        break\n",
    "    index +=1 "
   ]
  },
  {
   "cell_type": "markdown",
   "metadata": {},
   "source": [
    "### These are the top 100 targets that will be trained"
   ]
  },
  {
   "cell_type": "code",
   "execution_count": 7,
   "metadata": {},
   "outputs": [
    {
     "name": "stdout",
     "output_type": "stream",
     "text": [
      "['CHEMBL3436040', 'CHEMBL2114791', 'CHEMBL830839', 'CHEMBL828662', 'CHEMBL2114781', 'CHEMBL1071424', 'CHEMBL886170', 'CHEMBL3431931', 'CHEMBL665590', 'CHEMBL3063318', 'CHEMBL811879', 'CHEMBL1614549', 'CHEMBL831965', 'CHEMBL665702', 'CHEMBL1786290', 'CHEMBL1005407', 'CHEMBL882590', 'CHEMBL3562078', 'CHEMBL1614547', 'CHEMBL763870', 'CHEMBL680373', 'CHEMBL3110679', 'CHEMBL1061354', 'CHEMBL897494', 'CHEMBL3436039', 'CHEMBL827820', 'CHEMBL889609', 'CHEMBL2061832', 'CHEMBL1290876', 'CHEMBL692692', 'CHEMBL868999', 'CHEMBL1837593', 'CHEMBL1963965', 'CHEMBL665602', 'CHEMBL1047162', 'CHEMBL865064', 'CHEMBL1062971', 'CHEMBL963281', 'CHEMBL665700', 'CHEMBL934050', 'CHEMBL910725', 'CHEMBL769364', 'CHEMBL889241', 'CHEMBL681800', 'CHEMBL884350', 'CHEMBL873739', 'CHEMBL811068', 'CHEMBL852974', 'CHEMBL914035', 'CHEMBL1013888', 'CHEMBL1738498', 'CHEMBL909462', 'CHEMBL762914', 'CHEMBL3865048', 'CHEMBL893278', 'CHEMBL1101183', 'CHEMBL1073069', 'CHEMBL1027390', 'CHEMBL664911', 'CHEMBL1291622', 'CHEMBL916419', 'CHEMBL816079', 'CHEMBL914034', 'CHEMBL3436041', 'CHEMBL664917', 'CHEMBL684767', 'CHEMBL1034984', 'CHEMBL664908', 'CHEMBL1614471', 'CHEMBL1252111', 'CHEMBL648023', 'CHEMBL887682', 'CHEMBL781943', 'CHEMBL896290', 'CHEMBL895232', 'CHEMBL893279', 'CHEMBL887681', 'CHEMBL894086', 'CHEMBL1114100', 'CHEMBL897085', 'CHEMBL865537', 'CHEMBL963901', 'CHEMBL1104613', 'CHEMBL2038597', 'CHEMBL1166366', 'CHEMBL821897', 'CHEMBL1048799', 'CHEMBL935785', 'CHEMBL4031136', 'CHEMBL1613978', 'CHEMBL889858', 'CHEMBL763439', 'CHEMBL889279', 'CHEMBL1060016', 'CHEMBL915600', 'CHEMBL2423446', 'CHEMBL2114829', 'CHEMBL665597', 'CHEMBL664916', 'CHEMBL812106']\n"
     ]
    }
   ],
   "source": [
    "print(list(top_targets))"
   ]
  },
  {
   "cell_type": "code",
   "execution_count": 8,
   "metadata": {},
   "outputs": [
    {
     "name": "stdout",
     "output_type": "stream",
     "text": [
      "[[ 1.  0.  1. ...,  0.  1.  1.]\n",
      " [ 1.  0.  0. ...,  0.  0.  1.]\n",
      " [ 1.  0.  0. ...,  0.  0.  0.]\n",
      " ..., \n",
      " [ 1.  1.  1. ...,  1.  1.  1.]\n",
      " [ 1.  1.  0. ...,  1.  1.  0.]\n",
      " [ 0.  0.  1. ...,  1.  0.  1.]]\n"
     ]
    }
   ],
   "source": [
    "print(top_targets['CHEMBL3436040']['data'])"
   ]
  },
  {
   "cell_type": "code",
   "execution_count": 9,
   "metadata": {
    "scrolled": true
   },
   "outputs": [
    {
     "name": "stderr",
     "output_type": "stream",
     "text": [
      "Using TensorFlow backend.\n"
     ]
    },
    {
     "name": "stdout",
     "output_type": "stream",
     "text": [
      "Creating Sub Models:\n",
      "Model:  1  | Section Time:  0.03954267501831055  | Elapsed Time:  0.03977155685424805\n",
      "Model:  2  | Section Time:  0.03833723068237305  | Elapsed Time:  0.07825970649719238\n",
      "Model:  3  | Section Time:  0.03869223594665527  | Elapsed Time:  0.11708593368530273\n",
      "Model:  4  | Section Time:  0.03769207000732422  | Elapsed Time:  0.15548253059387207\n",
      "Model:  5  | Section Time:  0.03921937942504883  | Elapsed Time:  0.19482779502868652\n",
      "Model:  6  | Section Time:  0.03923511505126953  | Elapsed Time:  0.23420143127441406\n",
      "Model:  7  | Section Time:  0.03904366493225098  | Elapsed Time:  0.2733798027038574\n",
      "Model:  8  | Section Time:  0.03807473182678223  | Elapsed Time:  0.312241792678833\n",
      "Model:  9  | Section Time:  0.1023719310760498  | Elapsed Time:  0.41473913192749023\n",
      "Model:  10  | Section Time:  0.03952455520629883  | Elapsed Time:  0.4551379680633545\n",
      "Model:  11  | Section Time:  0.039351463317871094  | Elapsed Time:  0.49464869499206543\n",
      "Model:  12  | Section Time:  0.038609981536865234  | Elapsed Time:  0.5333869457244873\n",
      "Model:  13  | Section Time:  0.03840374946594238  | Elapsed Time:  0.5726602077484131\n",
      "Model:  14  | Section Time:  0.038739681243896484  | Elapsed Time:  0.6115231513977051\n",
      "Model:  15  | Section Time:  0.03838300704956055  | Elapsed Time:  0.650855302810669\n",
      "Model:  16  | Section Time:  0.03973388671875  | Elapsed Time:  0.6907229423522949\n",
      "Model:  17  | Section Time:  0.039253950119018555  | Elapsed Time:  0.7301161289215088\n",
      "Model:  18  | Section Time:  0.03874373435974121  | Elapsed Time:  0.7689998149871826\n",
      "Model:  19  | Section Time:  0.039730072021484375  | Elapsed Time:  0.8088712692260742\n",
      "Model:  20  | Section Time:  0.03811478614807129  | Elapsed Time:  0.8477461338043213\n",
      "Model:  21  | Section Time:  0.03926682472229004  | Elapsed Time:  0.8871567249298096\n",
      "Model:  22  | Section Time:  0.03895735740661621  | Elapsed Time:  0.9271819591522217\n",
      "Model:  23  | Section Time:  0.0394444465637207  | Elapsed Time:  0.9667608737945557\n",
      "Model:  24  | Section Time:  0.038484811782836914  | Elapsed Time:  1.005380392074585\n",
      "Model:  25  | Section Time:  0.0391385555267334  | Elapsed Time:  1.0446698665618896\n",
      "Model:  26  | Section Time:  0.03992772102355957  | Elapsed Time:  1.084717035293579\n",
      "Model:  27  | Section Time:  0.04024481773376465  | Elapsed Time:  1.1252412796020508\n",
      "Model:  28  | Section Time:  0.040662288665771484  | Elapsed Time:  1.1660354137420654\n",
      "Model:  29  | Section Time:  0.03942680358886719  | Elapsed Time:  1.2056279182434082\n",
      "Model:  30  | Section Time:  0.03906726837158203  | Elapsed Time:  1.2448275089263916\n",
      "Model:  31  | Section Time:  0.03902316093444824  | Elapsed Time:  1.284001111984253\n",
      "Model:  32  | Section Time:  0.10357332229614258  | Elapsed Time:  1.3877134323120117\n",
      "Model:  33  | Section Time:  0.03875875473022461  | Elapsed Time:  1.4266619682312012\n",
      "Model:  34  | Section Time:  0.039051055908203125  | Elapsed Time:  1.4666519165039062\n",
      "Model:  35  | Section Time:  0.03798842430114746  | Elapsed Time:  1.5056209564208984\n",
      "Model:  36  | Section Time:  0.03926205635070801  | Elapsed Time:  1.5450198650360107\n",
      "Model:  37  | Section Time:  0.03851819038391113  | Elapsed Time:  1.583662986755371\n",
      "Model:  38  | Section Time:  0.040224552154541016  | Elapsed Time:  1.624028205871582\n",
      "Model:  39  | Section Time:  0.03882312774658203  | Elapsed Time:  1.6630008220672607\n",
      "Model:  40  | Section Time:  0.039357900619506836  | Elapsed Time:  1.7025115489959717\n",
      "Model:  41  | Section Time:  0.039142608642578125  | Elapsed Time:  1.741804838180542\n",
      "Model:  42  | Section Time:  0.03920245170593262  | Elapsed Time:  1.7811532020568848\n",
      "Model:  43  | Section Time:  0.038999319076538086  | Elapsed Time:  1.8202848434448242\n",
      "Model:  44  | Section Time:  0.04085254669189453  | Elapsed Time:  1.861255407333374\n",
      "Model:  45  | Section Time:  0.03791213035583496  | Elapsed Time:  1.9001669883728027\n",
      "Model:  46  | Section Time:  0.039360761642456055  | Elapsed Time:  1.9396657943725586\n",
      "Model:  47  | Section Time:  0.03853726387023926  | Elapsed Time:  1.9783351421356201\n",
      "Model:  48  | Section Time:  0.03915214538574219  | Elapsed Time:  2.017610788345337\n",
      "Model:  49  | Section Time:  0.037853240966796875  | Elapsed Time:  2.0564305782318115\n",
      "Model:  50  | Section Time:  0.039908647537231445  | Elapsed Time:  2.097224712371826\n",
      "Model:  51  | Section Time:  0.03859853744506836  | Elapsed Time:  2.135967969894409\n",
      "Model:  52  | Section Time:  0.03883481025695801  | Elapsed Time:  2.175548553466797\n",
      "Model:  53  | Section Time:  0.038109540939331055  | Elapsed Time:  2.214395523071289\n",
      "Model:  54  | Section Time:  0.1120915412902832  | Elapsed Time:  2.327263355255127\n",
      "Model:  55  | Section Time:  0.038910627365112305  | Elapsed Time:  2.366337537765503\n",
      "Model:  56  | Section Time:  0.03905534744262695  | Elapsed Time:  2.406019687652588\n",
      "Model:  57  | Section Time:  0.03875899314880371  | Elapsed Time:  2.444917917251587\n",
      "Model:  58  | Section Time:  0.03877758979797363  | Elapsed Time:  2.4844908714294434\n",
      "Model:  59  | Section Time:  0.038130998611450195  | Elapsed Time:  2.5234830379486084\n",
      "Model:  60  | Section Time:  0.040004730224609375  | Elapsed Time:  2.563632011413574\n",
      "Model:  61  | Section Time:  0.038590192794799805  | Elapsed Time:  2.6023778915405273\n",
      "Model:  62  | Section Time:  0.03876805305480957  | Elapsed Time:  2.641291856765747\n",
      "Model:  63  | Section Time:  0.03936433792114258  | Elapsed Time:  2.680790901184082\n",
      "Model:  64  | Section Time:  0.03856348991394043  | Elapsed Time:  2.719489097595215\n",
      "Model:  65  | Section Time:  0.03866243362426758  | Elapsed Time:  2.7590670585632324\n",
      "Model:  66  | Section Time:  0.039705514907836914  | Elapsed Time:  2.79890513420105\n",
      "Model:  67  | Section Time:  0.038300514221191406  | Elapsed Time:  2.8383586406707764\n",
      "Model:  68  | Section Time:  0.03863382339477539  | Elapsed Time:  2.8771207332611084\n",
      "Model:  69  | Section Time:  0.039244890213012695  | Elapsed Time:  2.9165022373199463\n",
      "Model:  70  | Section Time:  0.03880596160888672  | Elapsed Time:  2.955453395843506\n",
      "Model:  71  | Section Time:  0.039342403411865234  | Elapsed Time:  2.994936227798462\n",
      "Model:  72  | Section Time:  0.0397036075592041  | Elapsed Time:  3.0347607135772705\n",
      "Model:  73  | Section Time:  0.03852272033691406  | Elapsed Time:  3.0743536949157715\n",
      "Model:  74  | Section Time:  0.03879237174987793  | Elapsed Time:  3.1132736206054688\n",
      "Model:  75  | Section Time:  0.03906750679016113  | Elapsed Time:  3.1524696350097656\n",
      "Model:  76  | Section Time:  0.03806805610656738  | Elapsed Time:  3.191378593444824\n",
      "Model:  77  | Section Time:  0.0393223762512207  | Elapsed Time:  3.2308425903320312\n",
      "Model:  78  | Section Time:  0.0395200252532959  | Elapsed Time:  3.2705509662628174\n",
      "Model:  79  | Section Time:  0.1283867359161377  | Elapsed Time:  3.399085521697998\n",
      "Model:  80  | Section Time:  0.039194345474243164  | Elapsed Time:  3.438457489013672\n",
      "Model:  81  | Section Time:  0.03982734680175781  | Elapsed Time:  3.4784271717071533\n",
      "Model:  82  | Section Time:  0.03848075866699219  | Elapsed Time:  3.5170719623565674\n",
      "Model:  83  | Section Time:  0.03925752639770508  | Elapsed Time:  3.5564558506011963\n",
      "Model:  84  | Section Time:  0.03878474235534668  | Elapsed Time:  3.5953762531280518\n",
      "Model:  85  | Section Time:  0.03828883171081543  | Elapsed Time:  3.6346306800842285\n",
      "Model:  86  | Section Time:  0.03861260414123535  | Elapsed Time:  3.6733717918395996\n",
      "Model:  87  | Section Time:  0.0403742790222168  | Elapsed Time:  3.713890314102173\n",
      "Model:  88  | Section Time:  0.03853106498718262  | Elapsed Time:  3.7525784969329834\n",
      "Model:  89  | Section Time:  0.039247751235961914  | Elapsed Time:  3.7919487953186035\n",
      "Model:  90  | Section Time:  0.03809309005737305  | Elapsed Time:  3.83089017868042\n",
      "Model:  91  | Section Time:  0.03887486457824707  | Elapsed Time:  3.8704886436462402\n",
      "Model:  92  | Section Time:  0.0386044979095459  | Elapsed Time:  3.9092509746551514\n",
      "Model:  93  | Section Time:  0.04109764099121094  | Elapsed Time:  3.9504735469818115\n",
      "Model:  94  | Section Time:  0.039081573486328125  | Elapsed Time:  3.9896984100341797\n",
      "Model:  95  | Section Time:  0.03860950469970703  | Elapsed Time:  4.028435707092285\n",
      "Model:  96  | Section Time:  0.03930854797363281  | Elapsed Time:  4.068283796310425\n",
      "Model:  97  | Section Time:  0.03879594802856445  | Elapsed Time:  4.107204437255859\n",
      "Model:  98  | Section Time:  0.03933095932006836  | Elapsed Time:  4.146668910980225\n"
     ]
    },
    {
     "name": "stdout",
     "output_type": "stream",
     "text": [
      "Model:  99  | Section Time:  0.0397341251373291  | Elapsed Time:  4.186552047729492\n",
      "Model:  100  | Section Time:  0.03919863700866699  | Elapsed Time:  4.225893020629883\n"
     ]
    }
   ],
   "source": [
    "from keras.layers import Input, Dense\n",
    "from keras.models import Model\n",
    "import time\n",
    "\n",
    "inputs = Input(shape=(2048,))\n",
    "shared_mlp = Dense(64, activation='relu')(inputs)\n",
    "shared_mlp = Dense(64, activation='relu')(shared_mlp)\n",
    "\n",
    "# make a dictionary of models for each task\n",
    "models_mtl = dict()\n",
    "print('Creating Sub Models:')\n",
    "og_start = time.time()\n",
    "index = 1\n",
    "for x in top_targets.keys():\n",
    "    start = time.time()\n",
    "    personal_layer = Dense(10, activation='relu')(shared_mlp)\n",
    "    output_layer = Dense(1)(personal_layer)\n",
    "    model = Model(inputs=inputs, outputs=output_layer)\n",
    "    model.compile(optimizer='sgd', loss='mean_squared_error')\n",
    "    models_mtl[x] = model\n",
    "    end = time.time()\n",
    "    \n",
    "    print(\"Model: \", index, \" | Section Time: \", end - start, \" | Elapsed Time: \", end - og_start)\n",
    "    index += 1"
   ]
  },
  {
   "cell_type": "markdown",
   "metadata": {},
   "source": [
    "## Creating the Train-Test Split"
   ]
  },
  {
   "cell_type": "code",
   "execution_count": 10,
   "metadata": {},
   "outputs": [],
   "source": [
    "from sklearn.model_selection import train_test_split\n",
    "\n",
    "test_size = 0.2\n",
    "\n",
    "X_train = dict()\n",
    "y_train = dict()\n",
    "X_test = dict()\n",
    "y_test = dict()\n",
    "\n",
    "#print(top_targets[x][0])\n",
    "\n",
    "for x in top_targets.keys():\n",
    "    X_train[x], X_test[x], y_train[x], y_test[x] = train_test_split(top_targets[x]['data'], \n",
    "                                                        top_targets[x]['target'], \n",
    "                                                        test_size=test_size, \n",
    "                                                        random_state=42)\n"
   ]
  },
  {
   "cell_type": "code",
   "execution_count": 11,
   "metadata": {
    "scrolled": true
   },
   "outputs": [
    {
     "name": "stdout",
     "output_type": "stream",
     "text": [
      "Epoch 0, Epoch 1, Epoch 2, Epoch 3, Epoch 4, Epoch 5, Epoch 6, Epoch 7, Epoch 8, Epoch 9, Epoch 10, Epoch 11, Epoch 12, Epoch 13, Epoch 14, Epoch 15, Epoch 16, Epoch 17, Epoch 18, Epoch 19, CPU times: user 2min 1s, sys: 4.76 s, total: 2min 6s\n",
      "Wall time: 1min 57s\n"
     ]
    }
   ],
   "source": [
    "%%time\n",
    "EPOCHS = 20\n",
    "from random import shuffle\n",
    "\n",
    "all_keys = list(top_targets)\n",
    "for i in range(EPOCHS):\n",
    "    print('Epoch',i,end=', ')\n",
    "    shuffle(all_keys)\n",
    "    for x in all_keys:\n",
    "        models_mtl[x].fit(X_train[x],y_train[x], verbose=0)"
   ]
  },
  {
   "cell_type": "markdown",
   "metadata": {},
   "source": [
    "# Evaluating the Train-Test Split Data"
   ]
  },
  {
   "cell_type": "code",
   "execution_count": 12,
   "metadata": {},
   "outputs": [
    {
     "name": "stdout",
     "output_type": "stream",
     "text": [
      "CPU times: user 1min 8s, sys: 1.33 s, total: 1min 10s\n",
      "Wall time: 1min 8s\n"
     ]
    }
   ],
   "source": [
    "%%time\n",
    "y_mtl=[]\n",
    "yhat_mtl=[]\n",
    "\n",
    "for x in X_test.keys():\n",
    "    yhat_mlp = models_mtl[x].predict(X_test[x])\n",
    "\n",
    "    y_mtl.append(y_test[x].ravel())\n",
    "    yhat_mtl.append(yhat_mlp.ravel())"
   ]
  },
  {
   "cell_type": "code",
   "execution_count": 13,
   "metadata": {},
   "outputs": [],
   "source": [
    "import matplotlib.pyplot as plt\n",
    "import numpy as np\n",
    "import seaborn as sns\n",
    "from sklearn.metrics import mean_squared_error, accuracy_score \n",
    "from sklearn.metrics import precision_score, mean_squared_log_error\n",
    "\n",
    "def bland_altman_plot(data1, data2, *args, **kwargs):\n",
    "    data1     = np.asarray(data1)\n",
    "    data2     = np.asarray(data2)\n",
    "    mean      = np.mean([data1, data2], axis=0)\n",
    "    diff      = data1 - data2                   # Difference between data1 and data2\n",
    "    md        = np.mean(diff)                   # Mean of the difference\n",
    "    sd        = np.std(diff, axis=0)            # Standard deviation of the difference\n",
    "\n",
    "    plt.figure(figsize=(15,10))\n",
    "    plt.scatter(mean, diff, *args, **kwargs)\n",
    "    plt.axhline(md,           color='gray', linestyle='--')\n",
    "    plt.axhline(md + 1.96*sd, color='gray', linestyle='--')\n",
    "    plt.axhline(md - 1.96*sd, color='gray', linestyle='--')\n",
    "    plt.title(\"Bland Altman, MSE: \"+str(mean_squared_error(data1,data2)))\n",
    "    plt.xlabel('Mean Score', fontsize=8)\n",
    "    plt.ylabel('Diff Score', fontsize=8)\n",
    "    plt.show()"
   ]
  },
  {
   "cell_type": "code",
   "execution_count": 14,
   "metadata": {},
   "outputs": [
    {
     "data": {
      "image/png": "[encoded data removed]",
      "text/plain": [
       "<Figure size 1080x720 with 1 Axes>"
      ]
     },
     "metadata": {
      "needs_background": "light"
     },
     "output_type": "display_data"
    }
   ],
   "source": [
    "\n",
    "bland_altman_plot(np.concatenate(y_mtl), np.concatenate(yhat_mtl))"
   ]
  }
 ],
 "metadata": {
  "kernelspec": {
   "display_name": "Python 3",
   "language": "python",
   "name": "python3"
  },
  "language_info": {
   "codemirror_mode": {
    "name": "ipython",
    "version": 3
   },
   "file_extension": ".py",
   "mimetype": "text/x-python",
   "name": "python",
   "nbconvert_exporter": "python",
   "pygments_lexer": "ipython3",
   "version": "3.6.8"
  }
 },
 "nbformat": 4,
 "nbformat_minor": 2
}
