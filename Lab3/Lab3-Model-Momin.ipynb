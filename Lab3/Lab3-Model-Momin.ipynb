{
 "cells": [
  {
   "cell_type": "markdown",
   "metadata": {},
   "source": [
    "# Building the Multi-Task Model"
   ]
  },
  {
   "cell_type": "markdown",
   "metadata": {},
   "source": [
    "### Reading in the X and Y semi-raw data"
   ]
  },
  {
   "cell_type": "code",
   "execution_count": 1,
   "metadata": {},
   "outputs": [],
   "source": [
    "import numpy as np"
   ]
  },
  {
   "cell_type": "code",
   "execution_count": 2,
   "metadata": {},
   "outputs": [],
   "source": [
    "X = np.load('data/x_data.npy')"
   ]
  },
  {
   "cell_type": "code",
   "execution_count": 3,
   "metadata": {},
   "outputs": [],
   "source": [
    "Y = np.load('data/y_data.npy')"
   ]
  },
  {
   "cell_type": "markdown",
   "metadata": {},
   "source": [
    "# Refactoring and Fine Filtering Data"
   ]
  },
  {
   "cell_type": "code",
   "execution_count": 143,
   "metadata": {},
   "outputs": [],
   "source": [
    "tasks = {}\n",
    "\n",
    "for x,y in zip(X,Y):\n",
    "    if y in tasks:\n",
    "        tasks[y]['data'].append(np.array(x[2:]))\n",
    "        tasks[y]['target'].append(x[0])\n",
    "    else:\n",
    "        tasks[y] = {}\n",
    "        tasks[y]['data'] = [np.array(x[2:])]\n",
    "        tasks[y]['target'] = [x[0]]\n"
   ]
  },
  {
   "cell_type": "code",
   "execution_count": 145,
   "metadata": {},
   "outputs": [
    {
     "name": "stdout",
     "output_type": "stream",
     "text": [
      "[False, False, False, False, False, False, False, False, False, False, False, False, False, False, False, False, False, False, False, False, False, False, False, False, False, False, False, False, False, False, False, False, False, False, False, False, False, False, False, False, False, False, False, False, False, False, False, False, False, False, False, False, False, False, False, False, False, False, False, False, False, False, False, False, False, False, False, False, False, False, False, False, False, False, False, False, False, False, False, False, False, False, False, False, False, False, False, False, False, False, False, False, False, False, False, False, False, False, False, False, False, False, False, False, False, False, False, False, False, False, False, False, False, False, False, False, False, False, False, False, False, False, False, False, False, False, False, False, False, False, False, False, False, False, False, False, False, False, False, False, False, False, False, False, False, False, False, False, False, False, False, False, False, False, False, False, False, False, False, False, False, False, False, False, False, False, False, False, False, False, False, False, False, False, False, False, False, False, False, False, False, False, False, False, False, False, False, False, False, False, False, False, False, False, False, False, False, False, False, False, False, False, False, False, False, False, False, False, False, False, False, False, False, False, False, False, False, False, False, False, False, False, False, False, False, False, False, False, False, False, False, False, False, False, False, False, False, False, False, False, False, False, False, False, False, False, False, False, False, False, False, False, False, False, False, False, False, False, False, False, False, False, False, False, False, False, False, False, False, False, False, False, False, False, False, False, False, False, False, False, False, False, False, False, False, False, False, False, False, False, False, False, False, False, False, False, False, False, False, False, False, False, False, False, False, False, False, False, False, False, False, False, False, False, False, False, False, False, False, False, False, False, False, False, False, False, False, False, False, False, False, False, False, False, False, False, False, False, False, False, False, False, False, False, False, False, False, False, False, False, False, False, False, False, False, False, False, False, False, False, False, False, False, False, False, False, False, False, False, False, False, False, False, False, False, False, False, False, False, False, False, False, False, False, False, False, False, False, False, False, False, False, False, False, False, False, False, False, False, False, False, False, False, False, False, False, False, False, False, False, False, False, False, False, False, False, False, False, False, False, False, False, False, False, False, False, False, False, False, False, False, False, False, False, False, False, False, False, False, False, False, False, False, False, False, False, False, False, False, False, False, False, False, False, False, False, False, False, False, False, False, False, False, False, False, False, False, False, False, False, False, False, False, False, False, False, False, False, False, False, False, False, False, False, False, False, False, False, False, False, False, False, False, False, False, False, False, False, False, False, False, False, False, False, False, False, False, False, False, False, False, False, False, False, False, False, False, False, False, False, False, False, False, False, False, False, False, False, False, False, False, False, False, False, False, False, False, False, False, False, False, False, False, False, False, False, False, False, False, False, False, False, False, False, False, False, False, False, False, False, False, False, False, False, False, False, False, False, False, False, False, False, False, False, False, False, False, False, False, False, False, False, False, False, False, False, False, False, False, False, False, False, False, False, False, False, False, False, False, False, False, False, False, False, False, False, False, False, False, False, False, False, False, False, False, False, False, False, False, False, False, False, False, False, False, False, False, False, False, False, False, False, False, False, False, False, False, False, False, False, False, False, False, False, False, False, False, False, False, False, False, False, False, False, False, False, False, False, False, False, False, False, False, False, False, False, False, False, False, False, False, False, False, False, False, False, False, False, False, False, False, False, False, False, False, False, False, False, False, False, False, False, False, False, False, False, False, False, False, False, False, False, False, False, False, False, False, False, False, False, False, False, False, False, False, False, False, False, False, False, False, False, False, False, False, False, False, False, False, False, False, False, False, False, False, False, False, False, False, False, False, False, False, False, False, False, False, False, False, False, False, False, False, False, False, False, False, False, False, False, False, False, False, False, False, False, False, False, False, False, False, False, False, False, False, False, False, False, False, False, False, False, False, False, False, False, False, False, False, False, False, False, False, False, False, False, False, False, False, False, False, False, False, False, False, False, False, False, False, False, False, False, False, False, False, False, False, False, False, False, False, False, False, False, False, False, False, False, False, False, False, False, False, False, False, False, False, False, False, False, False, False, False, False, False, False, False, False, False, False, False, False, False, False, False, False, False, False, False, False, False, False, False, False, False, False, False, False, False, False, False, False, False, False, False, False, False, False, False, False, False, False, False, False, False, False, False, False, False, False, False, False, False, False, False, False, False, False, False, False, False, False, False, False, False, False, False, False, False, False, False, False, False, False, False, False, False, False, False, False, False, False, False, False, False, False, False, False, False, False, False, False, False, False, False, False, False, False, False, False, False, False, False, False, False, False, False, False, False, False, False, False, False, False, False, False, False, False, False, False, False, False, False, False, False, False, False, False, False, False, False, False, False, False, False, False, False, False, False, False, False, False, False, False, False, False, False, False, False, False, False, False, False, False, False, False, False, False, False, False, False, False, False, False, False, False, False, False, False, False, False, False, False, False, False, False, False, False, False, False, False, False, False, False, False, False, False, False, False, False, False, False, False, False, False, False, False, False, False, False, False, False, False, False, False, False, False, False, False, False, False, False, False, False, False, False, False, False, False, False, False, False, False, False, False, False, False, False, False, False, False, False, False, False, False, False, False, False, False, False, False, False, False, False, False, False, False, False, False, False, False, False, False, False, False, False, False, False, False, False, False, False, False, False, False, False, False, False, False, False, False, False, False, False, False, False, False, False, False, False, False, False, False, False, False, False, False, False, False, False, False, False, False, False, False, False, False, False, False, False, False, False, False, False, False, False, False, False, False, False, False, False, False, False, False, False, False, False, False, False, False, False, False, False, False, False, False, False, False, False, False, False, False, False, False, False, False, False, False, False, False, False, False, False, False, False, False, False, False, False, False, False, False, False, False, False, False, False, False, False, False, False, False, False, False, False, False, False, False, False, False, False, False, False, False, False, False, False, False, False, False, False, False, False, False, False, False, False, False, False, False, False, False, False, False, False, False, False, False, False, False, False, False, False, False, False, False, False, False, False, False, False, False, False, False, False, False, False, False, False, False, False, False, False, False, False, False, False, False, False, False, False, False, False, False, False, False, False, False, False, False, False, False, False, False, False, False, False, False, False, False, False, False, False, False, False, False, False, False, False, False, False, False, False, False, False, False, False, False, False, False, False, False, False, False, False, False, False, False, False, False, False, False, False, False, False, False, False, False, False, False, False, False, False, False, False, False, False, False, False, False, False, False, False, False, False, False, False, False, False, False, False, False, False, False, False, False, False, False, False, False, False, False, False, False, False, False, False, False, False, False, False, False, False, False, False, False, False, False, False, False, False, False, False, False, False, False, False, False, False, False, False, False, False, False, False, False, False, False, False, False, False, False, False, False, False, False, False, False, False, False, False, False, False, False, False, False, False, False, False, False, False, False, False, False, False, False, False, False, False, False, False, False, False, False, False, False, False, False, False, False, False, False, False, False, False, False, False, False, False, False, False, False, False, False, False, False, False, False, False, False, False, False, False, False, False, False, False, False, False, False, False, False, False, False, False, False, False, False, False, False, False, False, False, False, False, False, False, False, False, False, False, False, False, False, False, False, False, False, False, False, False, False, False, False, False, False, False, False, False, False, False, False, False, False, False, False, False, False, False, False, False, False, False, False, False, False, False, False, False, False, False, False, False, False, False, False, False, False, False, False, False, False, False, False, False, False, False, False, False, False, False, False, False, False, False, False, False, False, False, False, False, False, False, False, False, False, False, False, False, False, False, False, False, False, False, False, False, False, False, False, False, False, False, False, False, False, False, False, False, False, False, False, False, False, False, False, False, False, False, False, False, False, False, False, False, False, False, False, False, False, False, False, False, False, False, False, False, False, False, False, False, False, False, False, False, False, False, False, False, False, False, False, False, False, False, False, False, False, False, False, False, False, False, False, False, False, False, False, False, False, False, False, False, False, False, False, False, False, False, False, False, False, False, False, False, False, False, False, False, False, False, False, False, False, False, False, False, False, False, False, False, False, False, False, False, False, False, False, False, False, False, False, False, False, False, False, False, False, False, False, False, False, False, False, False, False, False, False, False, False, False, False, False, False, False, False, False, False, False, False, False, False, False, False, False, False, False, False, False, False, False, False, False, False, False, False, False, False, False, False, False, False, False, False, False, False, False, False, False, False, False, False, False, False, False, False, False, False, False, False, False, False, False, False, False, False, False, False, False, False, False, False, False, False, False, False, False, False, False, False, False, False, False, False, False, False, False, False, False, False, False, False, False, False, False, False, False, False, False, False, False, False, False, False, False, False, False, False, False, False, False, False, False, False, False, False, False, False, False, False, False, False, False, False, False, False, False, False, False, False, False, False, False, False, False, False, False, False, False, False, False, False, False, False, False, False, False, False, False, False, False, False, False, False, False, False, False, False, False, False, False, False, False, False, False, False, False, False, False, False, False, False, False, False, False, False, False, False, False, False, False, False, False, False, False, False, False, False, False, False, False, False, False, False, False, False, False, False, False, False, False, False, False, False, False, False, False, False, False, False, False, False, False, False, False, False, False, False, False, False, False, False, False, False, False, False, False, False, False, False, False, False, False, False, False, False, False, False, False, False, False, False, False, False, False, False, False, False, False, False, False, False, False, False, False, False, False, False, False, False, False, False, False, False, False, False, False, False, False, False, False, False, False, False, False, False, False, False, False, False, False, False, False, False, False, False, False, False, False, False, False, False, False, False, False, False, False, False, False, False, False, False, False, False, False, False, False, False, False, False, False, False, False, False, False, False, False, False, False, False, False, False, False, False, False]\n"
     ]
    }
   ],
   "source": [
    "print(tasks['CHEMBL2114881']['target'])"
   ]
  },
  {
   "cell_type": "code",
   "execution_count": 163,
   "metadata": {},
   "outputs": [],
   "source": [
    "index = 1\n",
    "top_targets = {}\n",
    "for key, value in sorted(tasks.items(), key=lambda item: len(item[1]['target']), reverse=True):\n",
    "    top_targets[key] = {}\n",
    "    top_targets[key]['data'] = np.array(value['data'])\n",
    "    top_targets[key]['target'] = np.array(value['target'])\n",
    "\n",
    "    if index == 100:\n",
    "        break\n",
    "    index +=1 "
   ]
  },
  {
   "cell_type": "markdown",
   "metadata": {},
   "source": [
    "### These are the top 100 targets that will be trained"
   ]
  },
  {
   "cell_type": "code",
   "execution_count": 164,
   "metadata": {},
   "outputs": [
    {
     "name": "stdout",
     "output_type": "stream",
     "text": [
      "['CHEMBL2114881', 'CHEMBL2114714', 'CHEMBL1963941', 'CHEMBL1963883', 'CHEMBL3562022', 'CHEMBL1614063', 'CHEMBL1738498', 'CHEMBL3881499', 'CHEMBL1614432', 'CHEMBL1613885', 'CHEMBL4028923', 'CHEMBL2218781', 'CHEMBL3880337', 'CHEMBL3880339', 'CHEMBL3880338', 'CHEMBL4028921', 'CHEMBL4028924', 'CHEMBL3705123', 'CHEMBL1613799', 'CHEMBL4028922', 'CHEMBL1738424', 'CHEMBL3880340', 'CHEMBL1738407', 'CHEMBL4017550', 'CHEMBL3706327', 'CHEMBL3880341', 'CHEMBL3436039', 'CHEMBL3436040', 'CHEMBL1614547', 'CHEMBL3436041', 'CHEMBL3431934', 'CHEMBL3880334', 'CHEMBL3880335', 'CHEMBL1614423', 'CHEMBL3880344', 'CHEMBL1964096', 'CHEMBL3431931', 'CHEMBL1964000', 'CHEMBL1614199', 'CHEMBL2114818', 'CHEMBL2114719', 'CHEMBL3880342', 'CHEMBL1963965', 'CHEMBL1119333', 'CHEMBL1614549', 'CHEMBL3734174', 'CHEMBL3887033', 'CHEMBL1614359', 'CHEMBL1006579', 'CHEMBL3707950', 'CHEMBL2114737', 'CHEMBL3882758', 'CHEMBL3215171', 'CHEMBL3883019', 'CHEMBL3882757', 'CHEMBL2114791', 'CHEMBL3214986', 'CHEMBL3707758', 'CHEMBL2114746', 'CHEMBL3215275', 'CHEMBL2354281', 'CHEMBL3215242', 'CHEMBL2114772', 'CHEMBL3705125', 'CHEMBL2114846', 'CHEMBL974332', 'CHEMBL3734252', 'CHEMBL763870', 'CHEMBL3883020', 'CHEMBL4011663', 'CHEMBL1963846', 'CHEMBL2114829', 'CHEMBL3887111', 'CHEMBL1963838', 'CHEMBL1964023', 'CHEMBL3888178', 'CHEMBL2114858', 'CHEMBL1614255', 'CHEMBL1614529', 'CHEMBL3215006', 'CHEMBL3705299', 'CHEMBL2114771', 'CHEMBL2114928', 'CHEMBL3215200', 'CHEMBL3707951', 'CHEMBL3882744', 'CHEMBL1021377', 'CHEMBL2354289', 'CHEMBL2114850', 'CHEMBL3215176', 'CHEMBL3881394', 'CHEMBL659084', 'CHEMBL2038596', 'CHEMBL3880847', 'CHEMBL3880106', 'CHEMBL830839', 'CHEMBL828662', 'CHEMBL1646731', 'CHEMBL2114825', 'CHEMBL1613978']\n"
     ]
    }
   ],
   "source": [
    "print(list(top_targets))"
   ]
  },
  {
   "cell_type": "code",
   "execution_count": 165,
   "metadata": {},
   "outputs": [
    {
     "name": "stdout",
     "output_type": "stream",
     "text": [
      "[[1.0 0.0 0.0 ... 1.0 0.0 1.0]\n",
      " [1.0 0.0 0.0 ... 0.0 0.0 0.0]\n",
      " [1.0 0.0 0.0 ... 0.0 0.0 0.0]\n",
      " ...\n",
      " [1.0 0.0 0.0 ... 0.0 0.0 0.0]\n",
      " [1.0 0.0 0.0 ... 0.0 0.0 0.0]\n",
      " [1.0 0.0 0.0 ... 0.0 0.0 0.0]]\n"
     ]
    }
   ],
   "source": [
    "print(top_targets['CHEMBL2114881']['data'])"
   ]
  },
  {
   "cell_type": "code",
   "execution_count": 167,
   "metadata": {},
   "outputs": [
    {
     "name": "stdout",
     "output_type": "stream",
     "text": [
      "Creating Sub Models:\n",
      "Model:  1  | Section Time:  0.0384061336517334  | Elapsed Time:  0.0384061336517334\n",
      "Model:  2  | Section Time:  0.04989123344421387  | Elapsed Time:  0.08929610252380371\n",
      "Model:  3  | Section Time:  0.062416791915893555  | Elapsed Time:  0.15171289443969727\n",
      "Model:  4  | Section Time:  0.06698060035705566  | Elapsed Time:  0.21869349479675293\n",
      "Model:  5  | Section Time:  0.06490254402160645  | Elapsed Time:  0.2835960388183594\n",
      "Model:  6  | Section Time:  0.06194639205932617  | Elapsed Time:  0.34554243087768555\n",
      "Model:  7  | Section Time:  0.062372446060180664  | Elapsed Time:  0.4079148769378662\n",
      "Model:  8  | Section Time:  0.04922747611999512  | Elapsed Time:  0.45714235305786133\n",
      "Model:  9  | Section Time:  0.053071022033691406  | Elapsed Time:  0.5112307071685791\n",
      "Model:  10  | Section Time:  0.06298017501831055  | Elapsed Time:  0.5762863159179688\n",
      "Model:  11  | Section Time:  0.06413722038269043  | Elapsed Time:  0.6404235363006592\n",
      "Model:  12  | Section Time:  0.05106830596923828  | Elapsed Time:  0.6934628486633301\n",
      "Model:  13  | Section Time:  0.06270432472229004  | Elapsed Time:  0.7561671733856201\n",
      "Model:  14  | Section Time:  0.06068277359008789  | Elapsed Time:  0.816849946975708\n",
      "Model:  15  | Section Time:  0.06196761131286621  | Elapsed Time:  0.8788175582885742\n",
      "Model:  16  | Section Time:  0.07270359992980957  | Elapsed Time:  0.9515211582183838\n",
      "Model:  17  | Section Time:  0.06467628479003906  | Elapsed Time:  1.016683578491211\n",
      "Model:  18  | Section Time:  0.05370187759399414  | Elapsed Time:  1.070385456085205\n",
      "Model:  19  | Section Time:  0.05135488510131836  | Elapsed Time:  1.125814437866211\n",
      "Model:  20  | Section Time:  0.05357933044433594  | Elapsed Time:  1.1793937683105469\n",
      "Model:  21  | Section Time:  0.06174945831298828  | Elapsed Time:  1.2421565055847168\n",
      "Model:  22  | Section Time:  0.0632014274597168  | Elapsed Time:  1.306352138519287\n",
      "Model:  23  | Section Time:  0.06230902671813965  | Elapsed Time:  1.3696587085723877\n",
      "Model:  24  | Section Time:  0.05586981773376465  | Elapsed Time:  1.4264280796051025\n",
      "Model:  25  | Section Time:  0.07242679595947266  | Elapsed Time:  1.4988548755645752\n",
      "Model:  26  | Section Time:  0.07045507431030273  | Elapsed Time:  1.569309949874878\n",
      "Model:  27  | Section Time:  0.06276845932006836  | Elapsed Time:  1.6320784091949463\n",
      "Model:  28  | Section Time:  0.07409954071044922  | Elapsed Time:  1.7061779499053955\n",
      "Model:  29  | Section Time:  0.06698465347290039  | Elapsed Time:  1.773162603378296\n",
      "Model:  30  | Section Time:  0.08413076400756836  | Elapsed Time:  1.8572933673858643\n",
      "Model:  31  | Section Time:  0.37322282791137695  | Elapsed Time:  2.2318811416625977\n",
      "Model:  32  | Section Time:  0.06458544731140137  | Elapsed Time:  2.2978107929229736\n",
      "Model:  33  | Section Time:  0.07021784782409668  | Elapsed Time:  2.3680286407470703\n",
      "Model:  34  | Section Time:  0.06380128860473633  | Elapsed Time:  2.4318299293518066\n",
      "Model:  35  | Section Time:  0.046334266662597656  | Elapsed Time:  2.4781641960144043\n",
      "Model:  36  | Section Time:  0.06685805320739746  | Elapsed Time:  2.5450222492218018\n",
      "Model:  37  | Section Time:  0.08299398422241211  | Elapsed Time:  2.6290135383605957\n",
      "Model:  38  | Section Time:  0.06351733207702637  | Elapsed Time:  2.6935300827026367\n",
      "Model:  39  | Section Time:  0.07638096809387207  | Elapsed Time:  2.769911050796509\n",
      "Model:  40  | Section Time:  0.08159112930297852  | Elapsed Time:  2.8515021800994873\n",
      "Model:  41  | Section Time:  0.05680704116821289  | Elapsed Time:  2.9083092212677\n",
      "Model:  42  | Section Time:  0.0671529769897461  | Elapsed Time:  2.9754621982574463\n",
      "Model:  43  | Section Time:  0.09415054321289062  | Elapsed Time:  3.0711238384246826\n",
      "Model:  44  | Section Time:  0.10308575630187988  | Elapsed Time:  3.1742095947265625\n",
      "Model:  45  | Section Time:  0.07445073127746582  | Elapsed Time:  3.2486603260040283\n",
      "Model:  46  | Section Time:  0.06398296356201172  | Elapsed Time:  3.31264328956604\n",
      "Model:  47  | Section Time:  0.06316280364990234  | Elapsed Time:  3.3758060932159424\n",
      "Model:  48  | Section Time:  0.06414580345153809  | Elapsed Time:  3.4399518966674805\n",
      "Model:  49  | Section Time:  0.0688028335571289  | Elapsed Time:  3.5087547302246094\n",
      "Model:  50  | Section Time:  0.0632479190826416  | Elapsed Time:  3.5727741718292236\n",
      "Model:  51  | Section Time:  0.06206393241882324  | Elapsed Time:  3.635840654373169\n",
      "Model:  52  | Section Time:  0.0485990047454834  | Elapsed Time:  3.6844396591186523\n",
      "Model:  53  | Section Time:  0.06309747695922852  | Elapsed Time:  3.747537136077881\n",
      "Model:  54  | Section Time:  0.05735301971435547  | Elapsed Time:  3.8048901557922363\n",
      "Model:  55  | Section Time:  0.059696197509765625  | Elapsed Time:  3.8686089515686035\n",
      "Model:  56  | Section Time:  0.06351065635681152  | Elapsed Time:  3.932119607925415\n",
      "Model:  57  | Section Time:  0.0576786994934082  | Elapsed Time:  3.9897983074188232\n",
      "Model:  58  | Section Time:  0.058171749114990234  | Elapsed Time:  4.048969030380249\n",
      "Model:  59  | Section Time:  0.06712698936462402  | Elapsed Time:  4.116096019744873\n",
      "Model:  60  | Section Time:  0.061989545822143555  | Elapsed Time:  4.178085565567017\n",
      "Model:  61  | Section Time:  0.07610893249511719  | Elapsed Time:  4.255191802978516\n",
      "Model:  62  | Section Time:  0.08016824722290039  | Elapsed Time:  4.335360050201416\n",
      "Model:  63  | Section Time:  0.07682180404663086  | Elapsed Time:  4.413195371627808\n",
      "Model:  64  | Section Time:  0.07109189033508301  | Elapsed Time:  4.485283851623535\n",
      "Model:  65  | Section Time:  0.06125640869140625  | Elapsed Time:  4.546540260314941\n",
      "Model:  66  | Section Time:  0.058194875717163086  | Elapsed Time:  4.6047351360321045\n",
      "Model:  67  | Section Time:  0.07571840286254883  | Elapsed Time:  4.680453538894653\n",
      "Model:  68  | Section Time:  0.06714534759521484  | Elapsed Time:  4.747598886489868\n",
      "Model:  69  | Section Time:  0.07493209838867188  | Elapsed Time:  4.82253098487854\n",
      "Model:  70  | Section Time:  0.062441349029541016  | Elapsed Time:  4.884972333908081\n",
      "Model:  71  | Section Time:  0.07630038261413574  | Elapsed Time:  4.961272716522217\n",
      "Model:  72  | Section Time:  0.06763076782226562  | Elapsed Time:  5.028903484344482\n",
      "Model:  73  | Section Time:  0.062300682067871094  | Elapsed Time:  5.092800617218018\n",
      "Model:  74  | Section Time:  0.06717538833618164  | Elapsed Time:  5.159976005554199\n",
      "Model:  75  | Section Time:  0.06911683082580566  | Elapsed Time:  5.230120897293091\n",
      "Model:  76  | Section Time:  0.06137514114379883  | Elapsed Time:  5.29149603843689\n",
      "Model:  77  | Section Time:  0.0603179931640625  | Elapsed Time:  5.353510618209839\n",
      "Model:  78  | Section Time:  0.06241726875305176  | Elapsed Time:  5.415927886962891\n",
      "Model:  79  | Section Time:  0.06477594375610352  | Elapsed Time:  5.480703830718994\n",
      "Model:  80  | Section Time:  0.059667348861694336  | Elapsed Time:  5.5403711795806885\n",
      "Model:  81  | Section Time:  0.06036710739135742  | Elapsed Time:  5.604984283447266\n",
      "Model:  82  | Section Time:  0.04834437370300293  | Elapsed Time:  5.6533286571502686\n",
      "Model:  83  | Section Time:  0.06453323364257812  | Elapsed Time:  5.717861890792847\n",
      "Model:  84  | Section Time:  0.06504034996032715  | Elapsed Time:  5.782902240753174\n",
      "Model:  85  | Section Time:  0.076019287109375  | Elapsed Time:  5.858921527862549\n",
      "Model:  86  | Section Time:  0.05167412757873535  | Elapsed Time:  5.912803888320923\n",
      "Model:  87  | Section Time:  0.059578895568847656  | Elapsed Time:  5.973411321640015\n",
      "Model:  88  | Section Time:  0.06339359283447266  | Elapsed Time:  6.036804914474487\n",
      "Model:  89  | Section Time:  0.06258177757263184  | Elapsed Time:  6.099446773529053\n",
      "Model:  90  | Section Time:  0.05444741249084473  | Elapsed Time:  6.1538941860198975\n",
      "Model:  91  | Section Time:  0.05657482147216797  | Elapsed Time:  6.210469007492065\n",
      "Model:  92  | Section Time:  0.06421375274658203  | Elapsed Time:  6.2746827602386475\n",
      "Model:  93  | Section Time:  0.06616067886352539  | Elapsed Time:  6.340843439102173\n",
      "Model:  94  | Section Time:  0.3363771438598633  | Elapsed Time:  6.678217887878418\n",
      "Model:  95  | Section Time:  0.06486153602600098  | Elapsed Time:  6.743079423904419\n",
      "Model:  96  | Section Time:  0.06257104873657227  | Elapsed Time:  6.805650472640991\n",
      "Model:  97  | Section Time:  0.05240273475646973  | Elapsed Time:  6.858053207397461\n"
     ]
    },
    {
     "name": "stdout",
     "output_type": "stream",
     "text": [
      "Model:  98  | Section Time:  0.06615996360778809  | Elapsed Time:  6.925210475921631\n",
      "Model:  99  | Section Time:  0.0662696361541748  | Elapsed Time:  6.991480112075806\n",
      "Model:  100  | Section Time:  0.060849666595458984  | Elapsed Time:  7.052329778671265\n"
     ]
    }
   ],
   "source": [
    "from keras.layers import Input, Dense\n",
    "from keras.models import Model\n",
    "import time\n",
    "\n",
    "inputs = Input(shape=(512,))\n",
    "shared_mlp = Dense(64, activation='relu')(inputs)\n",
    "shared_mlp = Dense(64, activation='relu')(shared_mlp)\n",
    "\n",
    "# make a dictionary of models for each task\n",
    "models_mtl = dict()\n",
    "print('Creating Sub Models:')\n",
    "og_start = time.time()\n",
    "index = 1\n",
    "for x in top_targets.keys():\n",
    "    start = time.time()\n",
    "    personal_layer = Dense(10, activation='relu')(shared_mlp)\n",
    "    output_layer = Dense(1)(personal_layer)\n",
    "    model = Model(inputs=inputs, outputs=output_layer)\n",
    "    model.compile(optimizer='sgd', loss='mean_squared_error')\n",
    "    models_mtl[x] = model\n",
    "    end = time.time()\n",
    "    \n",
    "    print(\"Model: \", index, \" | Section Time: \", end - start, \" | Elapsed Time: \", end - og_start)\n",
    "    index += 1"
   ]
  },
  {
   "cell_type": "markdown",
   "metadata": {},
   "source": [
    "## Creating the Train-Test Split"
   ]
  },
  {
   "cell_type": "code",
   "execution_count": 169,
   "metadata": {},
   "outputs": [],
   "source": [
    "from sklearn.model_selection import train_test_split\n",
    "\n",
    "test_size = 0.2\n",
    "\n",
    "X_train = dict()\n",
    "y_train = dict()\n",
    "X_test = dict()\n",
    "y_test = dict()\n",
    "\n",
    "#print(top_targets[x][0])\n",
    "\n",
    "for x in top_targets.keys():\n",
    "    X_train[x], X_test[x], y_train[x], y_test[x] = train_test_split(top_targets[x]['data'], \n",
    "                                                        top_targets[x]['target'], \n",
    "                                                        test_size=test_size, \n",
    "                                                        random_state=42)\n"
   ]
  },
  {
   "cell_type": "code",
   "execution_count": 170,
   "metadata": {},
   "outputs": [
    {
     "name": "stdout",
     "output_type": "stream",
     "text": [
      "Epoch 0, Epoch 1, Epoch 2, Epoch 3, Epoch 4, Epoch 5, Epoch 6, Epoch 7, Epoch 8, Epoch 9, Epoch 10, Epoch 11, Epoch 12, Epoch 13, Epoch 14, Epoch 15, Epoch 16, Epoch 17, Epoch 18, Epoch 19, Wall time: 6min 27s\n"
     ]
    }
   ],
   "source": [
    "%%time\n",
    "EPOCHS = 20\n",
    "from random import shuffle\n",
    "\n",
    "all_keys = list(top_targets)\n",
    "for i in range(EPOCHS):\n",
    "    print('Epoch',i,end=', ')\n",
    "    shuffle(all_keys)\n",
    "    for x in all_keys:\n",
    "        models_mtl[x].fit(X_train[x],y_train[x], verbose=0)"
   ]
  },
  {
   "cell_type": "markdown",
   "metadata": {},
   "source": [
    "# Evaluating the Train-Test Split Data"
   ]
  },
  {
   "cell_type": "code",
   "execution_count": 171,
   "metadata": {},
   "outputs": [
    {
     "name": "stdout",
     "output_type": "stream",
     "text": [
      "Wall time: 2min 42s\n"
     ]
    }
   ],
   "source": [
    "%%time\n",
    "y_mtl=[]\n",
    "yhat_mtl=[]\n",
    "\n",
    "for x in X_test.keys():\n",
    "    yhat_mlp = models_mtl[x].predict(X_test[x])\n",
    "\n",
    "    y_mtl.append(y_test[x].ravel())\n",
    "    yhat_mtl.append(yhat_mlp.ravel())"
   ]
  },
  {
   "cell_type": "code",
   "execution_count": 172,
   "metadata": {},
   "outputs": [],
   "source": [
    "import matplotlib.pyplot as plt\n",
    "import numpy as np\n",
    "import seaborn as sns\n",
    "from sklearn.metrics import mean_squared_error, accuracy_score \n",
    "from sklearn.metrics import precision_score, mean_squared_log_error\n",
    "\n",
    "def bland_altman_plot(data1, data2, *args, **kwargs):\n",
    "    data1     = np.asarray(data1)\n",
    "    data2     = np.asarray(data2)\n",
    "    mean      = np.mean([data1, data2], axis=0)\n",
    "    diff      = data1 - data2                   # Difference between data1 and data2\n",
    "    md        = np.mean(diff)                   # Mean of the difference\n",
    "    sd        = np.std(diff, axis=0)            # Standard deviation of the difference\n",
    "\n",
    "    plt.figure(figsize=(15,10))\n",
    "    plt.scatter(mean, diff, *args, **kwargs)\n",
    "    plt.axhline(md,           color='gray', linestyle='--')\n",
    "    plt.axhline(md + 1.96*sd, color='gray', linestyle='--')\n",
    "    plt.axhline(md - 1.96*sd, color='gray', linestyle='--')\n",
    "    plt.title(\"Bland Altman, MSE: \"+str(mean_squared_error(data1,data2)))\n",
    "    plt.xlabel('Mean Score', fontsize=8)\n",
    "    plt.ylabel('Diff Score', fontsize=8)\n",
    "    plt.show()"
   ]
  },
  {
   "cell_type": "code",
   "execution_count": 173,
   "metadata": {},
   "outputs": [
    {
     "data": {
      "image/png": "[encoded data removed]",
      "text/plain": [
       "<matplotlib.figure.Figure at 0x20f0ae76f98>"
      ]
     },
     "metadata": {},
     "output_type": "display_data"
    }
   ],
   "source": [
    "\n",
    "bland_altman_plot(np.concatenate(y_mtl), np.concatenate(yhat_mtl))"
   ]
  }
 ],
 "metadata": {
  "kernelspec": {
   "display_name": "Python 3",
   "language": "python",
   "name": "python3"
  },
  "language_info": {
   "codemirror_mode": {
    "name": "ipython",
    "version": 3
   },
   "file_extension": ".py",
   "mimetype": "text/x-python",
   "name": "python",
   "nbconvert_exporter": "python",
   "pygments_lexer": "ipython3",
   "version": "3.6.8"
  }
 },
 "nbformat": 4,
 "nbformat_minor": 2
}
