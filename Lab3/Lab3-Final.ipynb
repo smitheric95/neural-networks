{
 "cells": [
  {
   "cell_type": "markdown",
   "metadata": {},
   "source": [
    "# Lab 3: Multi-Task Models \n",
    "Momin Irfan, Tyler Giallanza, Eric Smith, Oscar Vallner"
   ]
  },
  {
   "cell_type": "markdown",
   "metadata": {},
   "source": [
    "## Setup for this lab\n",
    "\n",
    "1. Download the data from the following link: https://smu.box.com/s/smqmwlef0yehpieicwxqdr99k7f9ru04\n",
    "2. Extract the downloaded data into Lab3/data\n",
    "3. Run the `query.py` script in the data folder\n",
    "4. Install RDKit for Python: https://www.rdkit.org/docs/Install.html\n",
    "\n",
    "NOTE: I found it significantly easier to download RDKit using the apt package for Ubuntu. However, this installed the Python2 version of RDKit instead of the Python3 version. If you are using Python3, the only difference is reading in the data using pickle."
   ]
  },
  {
   "cell_type": "code",
   "execution_count": 1,
   "metadata": {},
   "outputs": [
    {
     "name": "stderr",
     "output_type": "stream",
     "text": [
      "Using TensorFlow backend.\n"
     ]
    }
   ],
   "source": [
    "import numpy as np\n",
    "import pandas as pd\n",
    "from rdkit import Chem, DataStructs\n",
    "from rdkit.Chem import MACCSkeys, AllChem\n",
    "from rdkit.Chem import ChemicalFeatures\n",
    "from rdkit.Chem.Fingerprints import FingerprintMols\n",
    "from rdkit import RDConfig\n",
    "import os\n",
    "import pickle\n",
    "from random import shuffle\n",
    "\n",
    "import keras\n",
    "from keras.layers import Input, Dense\n",
    "from keras.models import Model\n"
   ]
  },
  {
   "cell_type": "code",
   "execution_count": 2,
   "metadata": {},
   "outputs": [],
   "source": [
    "X = pickle.load(open('data/data.pkl','rb'))"
   ]
  },
  {
   "cell_type": "code",
   "execution_count": 3,
   "metadata": {},
   "outputs": [],
   "source": [
    "df = pd.DataFrame.from_dict(X)#.head(200)\n",
    "del X"
   ]
  },
  {
   "cell_type": "code",
   "execution_count": 4,
   "metadata": {},
   "outputs": [],
   "source": [
    "# remove values in the middle\n",
    "df = df[(df.ic50.astype(float) > 10000) | (df.ic50.astype(float) < 300)]\n",
    "\n",
    "# binarize ic50\n",
    "df.ic50 = df.ic50.astype(float) < 10000"
   ]
  },
  {
   "cell_type": "code",
   "execution_count": 5,
   "metadata": {},
   "outputs": [],
   "source": [
    "def get_morgan_fingerprints(smiles):\n",
    "    fdefName = os.path.join(RDConfig.RDDataDir,'BaseFeatures.fdef')\n",
    "    factory = ChemicalFeatures.BuildFeatureFactory(fdefName)\n",
    "    fps = []\n",
    "    for smile in smiles:\n",
    "        m = Chem.MolFromSmiles(smile)\n",
    "        if m is not None:\n",
    "            fps.append(AllChem.GetMorganFingerprintAsBitVect(m, 2, nBits=512))\n",
    "        else:\n",
    "            fps.append(None)\n",
    "    return fps\n",
    "\n",
    "def get_topological_fingerprints(smiles):\n",
    "    fdefName = os.path.join(RDConfig.RDDataDir,'BaseFeatures.fdef')\n",
    "    factory = ChemicalFeatures.BuildFeatureFactory(fdefName)\n",
    "    fps = []\n",
    "    for smile in smiles:\n",
    "        m = Chem.MolFromSmiles(smile)\n",
    "        if m is not None:\n",
    "            fps.append(FingerprintMols.FingerprintMol(m))\n",
    "        else:\n",
    "            fps.append(None)\n",
    "    return fps"
   ]
  },
  {
   "cell_type": "code",
   "execution_count": null,
   "metadata": {},
   "outputs": [],
   "source": [
    "# build feature factory\n",
    "fdefName = os.path.join(RDConfig.RDDataDir,'BaseFeatures.fdef')\n",
    "factory = ChemicalFeatures.BuildFeatureFactory(fdefName)\n",
    "\n",
    "#fps = []\n",
    "#all_smiles = df.smiles\n",
    "df['morgan_fps'] = get_morgan_fingerprints(df.smiles)\n",
    "df['topological_fps'] = get_topological_fingerprints(df.smiles)\n",
    "df = df[df.morgan_fps != None]\n",
    "df = df.drop(columns=['smiles'])"
   ]
  },
  {
   "cell_type": "code",
   "execution_count": null,
   "metadata": {},
   "outputs": [],
   "source": [
    "uq_targets = set(df.target)\n",
    "target_data = {}\n",
    "for target in uq_targets:\n",
    "    target_data[target] = [[],[],[]]\n",
    "\n",
    "for index, row in df.iterrows():\n",
    "    try:\n",
    "        morgan = np.zeros((1,))\n",
    "        topo = np.zeros((1,))\n",
    "        DataStructs.ConvertToNumpyArray(row.morgan_fps, morgan)\n",
    "        DataStructs.ConvertToNumpyArray(row.topological_fps, topo)\n",
    "        target_data[row.target][0].append(morgan)\n",
    "        target_data[row.target][1].append(topo)\n",
    "        targt_data[row.target][2].append(row.ic50)\n",
    "    except:\n",
    "        continue\n",
    "\n",
    "for target in target_data.keys():\n",
    "    target_data[target][0] = np.array(target_data[target][0])\n",
    "    target_data[target][1] = np.array(target_data[target][1])\n",
    "    target_data[target][2] = np.array(target_data[target][2])*1"
   ]
  },
  {
   "cell_type": "code",
   "execution_count": null,
   "metadata": {},
   "outputs": [],
   "source": [
    "pickle.dump(target_data,open('target_data.pkl','wb'))"
   ]
  },
  {
   "cell_type": "code",
   "execution_count": null,
   "metadata": {},
   "outputs": [],
   "source": [
    "!git add Lab3.ipynb\n",
    "!git add target_data.pkl\n",
    "!git commit -m \"Add target data\"\n",
    "!git push"
   ]
  },
  {
   "cell_type": "code",
   "execution_count": null,
   "metadata": {},
   "outputs": [],
   "source": [
    "!sftp -i ~/.ssh/mf2 -b sftp.txt tgiallanza@m2.smu.edu"
   ]
  },
  {
   "cell_type": "markdown",
   "metadata": {},
   "source": [
    "The data is now saved in a dictionary called `target_data`. This dictionary contains one entry per target. For each target, there is a list that contains three values: a numpy array with the morgan fingerprints, a numpy array with the topological fingerprints, and a numpy array with the binary binding affinity."
   ]
  },
  {
   "cell_type": "code",
   "execution_count": 20,
   "metadata": {},
   "outputs": [],
   "source": [
    "def build_models(input_shape, target_names):\n",
    "    model_input = Input(input_shape)\n",
    "    shared_layers = Dense(512, activation='relu')(model_input)\n",
    "    shared_layers = Dense(1024, activation='relu')(shared_layers)\n",
    "    shared_layers = Dense(1024, activation='relu')(shared_layers)\n",
    "    models = {}\n",
    "    for target_name in target_names:\n",
    "        specialized_layers = Dense(2048, activation='relu')(shared_layers)\n",
    "        output = Dense(1, activation='sigmoid')(specialized_layers)\n",
    "        models[target_name] = Model(model_input,output)\n",
    "        models[target_name].compile(loss='binary_crossentropy',optimizer='adam')\n",
    "    return models\n",
    "\n",
    "def train_models(target_data, models, epochs, batch_size, data_type='morgan'):\n",
    "    if data_type=='morgan':\n",
    "        data_index = 0\n",
    "    else:\n",
    "        data_index = 1\n",
    "    for epoch in range(epochs):\n",
    "        target_order = models.keys()\n",
    "        shuffle(target_order)\n",
    "        for target in target_order:\n",
    "            model = models[target]\n",
    "            x_data = target_data[target][data_index]\n",
    "            y_data = target_data[target][2]\n",
    "            model.fit(x_data, y_data, batch_size=batch_size, epochs=1, verbose=0)"
   ]
  },
  {
   "cell_type": "code",
   "execution_count": null,
   "metadata": {},
   "outputs": [],
   "source": [
    "#target_data[target_data.keys()[0]][0].shape\n",
    "\n",
    "models = build_models((512,), target_data.keys())\n",
    "\n",
    "train_models(target_data, models, 1, 2, 'morgan')"
   ]
  },
  {
   "cell_type": "markdown",
   "metadata": {},
   "source": [
    "# Model Formation and Training\n",
    "\n",
    "In the following section we take the data that we spit into different targets and filtered to 100 and further process it and build multi-task models"
   ]
  },
  {
   "cell_type": "markdown",
   "metadata": {},
   "source": [
    "### Reading in the X and Y semi-raw data"
   ]
  },
  {
   "cell_type": "code",
   "execution_count": 1,
   "metadata": {},
   "outputs": [],
   "source": [
    "import numpy as np"
   ]
  },
  {
   "cell_type": "code",
   "execution_count": 2,
   "metadata": {},
   "outputs": [],
   "source": [
    "X = np.load('data/x_data.npy')"
   ]
  },
  {
   "cell_type": "code",
   "execution_count": 3,
   "metadata": {},
   "outputs": [],
   "source": [
    "Y = np.load('data/y_data.npy')"
   ]
  },
  {
   "cell_type": "markdown",
   "metadata": {},
   "source": [
    "# Refactoring and Fine Filtering Data"
   ]
  },
  {
   "cell_type": "code",
   "execution_count": 143,
   "metadata": {},
   "outputs": [],
   "source": [
    "tasks = {}\n",
    "\n",
    "for x,y in zip(X,Y):\n",
    "    if y in tasks:\n",
    "        tasks[y]['data'].append(np.array(x[2:]))\n",
    "        tasks[y]['target'].append(x[0])\n",
    "    else:\n",
    "        tasks[y] = {}\n",
    "        tasks[y]['data'] = [np.array(x[2:])]\n",
    "        tasks[y]['target'] = [x[0]]\n"
   ]
  },
  {
   "cell_type": "code",
   "execution_count": 163,
   "metadata": {},
   "outputs": [],
   "source": [
    "index = 1\n",
    "top_targets = {}\n",
    "for key, value in sorted(tasks.items(), key=lambda item: len(item[1]['target']), reverse=True):\n",
    "    top_targets[key] = {}\n",
    "    top_targets[key]['data'] = np.array(value['data'])\n",
    "    top_targets[key]['target'] = np.array(value['target'])\n",
    "\n",
    "    if index == 100:\n",
    "        break\n",
    "    index +=1 "
   ]
  },
  {
   "cell_type": "markdown",
   "metadata": {},
   "source": [
    "### These are the top 100 targets that will be trained"
   ]
  },
  {
   "cell_type": "code",
   "execution_count": 164,
   "metadata": {},
   "outputs": [
    {
     "name": "stdout",
     "output_type": "stream",
     "text": [
      "['CHEMBL2114881', 'CHEMBL2114714', 'CHEMBL1963941', 'CHEMBL1963883', 'CHEMBL3562022', 'CHEMBL1614063', 'CHEMBL1738498', 'CHEMBL3881499', 'CHEMBL1614432', 'CHEMBL1613885', 'CHEMBL4028923', 'CHEMBL2218781', 'CHEMBL3880337', 'CHEMBL3880339', 'CHEMBL3880338', 'CHEMBL4028921', 'CHEMBL4028924', 'CHEMBL3705123', 'CHEMBL1613799', 'CHEMBL4028922', 'CHEMBL1738424', 'CHEMBL3880340', 'CHEMBL1738407', 'CHEMBL4017550', 'CHEMBL3706327', 'CHEMBL3880341', 'CHEMBL3436039', 'CHEMBL3436040', 'CHEMBL1614547', 'CHEMBL3436041', 'CHEMBL3431934', 'CHEMBL3880334', 'CHEMBL3880335', 'CHEMBL1614423', 'CHEMBL3880344', 'CHEMBL1964096', 'CHEMBL3431931', 'CHEMBL1964000', 'CHEMBL1614199', 'CHEMBL2114818', 'CHEMBL2114719', 'CHEMBL3880342', 'CHEMBL1963965', 'CHEMBL1119333', 'CHEMBL1614549', 'CHEMBL3734174', 'CHEMBL3887033', 'CHEMBL1614359', 'CHEMBL1006579', 'CHEMBL3707950', 'CHEMBL2114737', 'CHEMBL3882758', 'CHEMBL3215171', 'CHEMBL3883019', 'CHEMBL3882757', 'CHEMBL2114791', 'CHEMBL3214986', 'CHEMBL3707758', 'CHEMBL2114746', 'CHEMBL3215275', 'CHEMBL2354281', 'CHEMBL3215242', 'CHEMBL2114772', 'CHEMBL3705125', 'CHEMBL2114846', 'CHEMBL974332', 'CHEMBL3734252', 'CHEMBL763870', 'CHEMBL3883020', 'CHEMBL4011663', 'CHEMBL1963846', 'CHEMBL2114829', 'CHEMBL3887111', 'CHEMBL1963838', 'CHEMBL1964023', 'CHEMBL3888178', 'CHEMBL2114858', 'CHEMBL1614255', 'CHEMBL1614529', 'CHEMBL3215006', 'CHEMBL3705299', 'CHEMBL2114771', 'CHEMBL2114928', 'CHEMBL3215200', 'CHEMBL3707951', 'CHEMBL3882744', 'CHEMBL1021377', 'CHEMBL2354289', 'CHEMBL2114850', 'CHEMBL3215176', 'CHEMBL3881394', 'CHEMBL659084', 'CHEMBL2038596', 'CHEMBL3880847', 'CHEMBL3880106', 'CHEMBL830839', 'CHEMBL828662', 'CHEMBL1646731', 'CHEMBL2114825', 'CHEMBL1613978']\n"
     ]
    }
   ],
   "source": [
    "print(list(top_targets))"
   ]
  },
  {
   "cell_type": "code",
   "execution_count": 167,
   "metadata": {},
   "outputs": [
    {
     "name": "stdout",
     "output_type": "stream",
     "text": [
      "Creating Sub Models:\n",
      "Model:  1  | Section Time:  0.0384061336517334  | Elapsed Time:  0.0384061336517334\n",
      "Model:  2  | Section Time:  0.04989123344421387  | Elapsed Time:  0.08929610252380371\n",
      "Model:  3  | Section Time:  0.062416791915893555  | Elapsed Time:  0.15171289443969727\n",
      "Model:  4  | Section Time:  0.06698060035705566  | Elapsed Time:  0.21869349479675293\n",
      "Model:  5  | Section Time:  0.06490254402160645  | Elapsed Time:  0.2835960388183594\n",
      "Model:  6  | Section Time:  0.06194639205932617  | Elapsed Time:  0.34554243087768555\n",
      "Model:  7  | Section Time:  0.062372446060180664  | Elapsed Time:  0.4079148769378662\n",
      "Model:  8  | Section Time:  0.04922747611999512  | Elapsed Time:  0.45714235305786133\n",
      "Model:  9  | Section Time:  0.053071022033691406  | Elapsed Time:  0.5112307071685791\n",
      "Model:  10  | Section Time:  0.06298017501831055  | Elapsed Time:  0.5762863159179688\n",
      "Model:  11  | Section Time:  0.06413722038269043  | Elapsed Time:  0.6404235363006592\n",
      "Model:  12  | Section Time:  0.05106830596923828  | Elapsed Time:  0.6934628486633301\n",
      "Model:  13  | Section Time:  0.06270432472229004  | Elapsed Time:  0.7561671733856201\n",
      "Model:  14  | Section Time:  0.06068277359008789  | Elapsed Time:  0.816849946975708\n",
      "Model:  15  | Section Time:  0.06196761131286621  | Elapsed Time:  0.8788175582885742\n",
      "Model:  16  | Section Time:  0.07270359992980957  | Elapsed Time:  0.9515211582183838\n",
      "Model:  17  | Section Time:  0.06467628479003906  | Elapsed Time:  1.016683578491211\n",
      "Model:  18  | Section Time:  0.05370187759399414  | Elapsed Time:  1.070385456085205\n",
      "Model:  19  | Section Time:  0.05135488510131836  | Elapsed Time:  1.125814437866211\n",
      "Model:  20  | Section Time:  0.05357933044433594  | Elapsed Time:  1.1793937683105469\n",
      "Model:  21  | Section Time:  0.06174945831298828  | Elapsed Time:  1.2421565055847168\n",
      "Model:  22  | Section Time:  0.0632014274597168  | Elapsed Time:  1.306352138519287\n",
      "Model:  23  | Section Time:  0.06230902671813965  | Elapsed Time:  1.3696587085723877\n",
      "Model:  24  | Section Time:  0.05586981773376465  | Elapsed Time:  1.4264280796051025\n",
      "Model:  25  | Section Time:  0.07242679595947266  | Elapsed Time:  1.4988548755645752\n",
      "Model:  26  | Section Time:  0.07045507431030273  | Elapsed Time:  1.569309949874878\n",
      "Model:  27  | Section Time:  0.06276845932006836  | Elapsed Time:  1.6320784091949463\n",
      "Model:  28  | Section Time:  0.07409954071044922  | Elapsed Time:  1.7061779499053955\n",
      "Model:  29  | Section Time:  0.06698465347290039  | Elapsed Time:  1.773162603378296\n",
      "Model:  30  | Section Time:  0.08413076400756836  | Elapsed Time:  1.8572933673858643\n",
      "Model:  31  | Section Time:  0.37322282791137695  | Elapsed Time:  2.2318811416625977\n",
      "Model:  32  | Section Time:  0.06458544731140137  | Elapsed Time:  2.2978107929229736\n",
      "Model:  33  | Section Time:  0.07021784782409668  | Elapsed Time:  2.3680286407470703\n",
      "Model:  34  | Section Time:  0.06380128860473633  | Elapsed Time:  2.4318299293518066\n",
      "Model:  35  | Section Time:  0.046334266662597656  | Elapsed Time:  2.4781641960144043\n",
      "Model:  36  | Section Time:  0.06685805320739746  | Elapsed Time:  2.5450222492218018\n",
      "Model:  37  | Section Time:  0.08299398422241211  | Elapsed Time:  2.6290135383605957\n",
      "Model:  38  | Section Time:  0.06351733207702637  | Elapsed Time:  2.6935300827026367\n",
      "Model:  39  | Section Time:  0.07638096809387207  | Elapsed Time:  2.769911050796509\n",
      "Model:  40  | Section Time:  0.08159112930297852  | Elapsed Time:  2.8515021800994873\n",
      "Model:  41  | Section Time:  0.05680704116821289  | Elapsed Time:  2.9083092212677\n",
      "Model:  42  | Section Time:  0.0671529769897461  | Elapsed Time:  2.9754621982574463\n",
      "Model:  43  | Section Time:  0.09415054321289062  | Elapsed Time:  3.0711238384246826\n",
      "Model:  44  | Section Time:  0.10308575630187988  | Elapsed Time:  3.1742095947265625\n",
      "Model:  45  | Section Time:  0.07445073127746582  | Elapsed Time:  3.2486603260040283\n",
      "Model:  46  | Section Time:  0.06398296356201172  | Elapsed Time:  3.31264328956604\n",
      "Model:  47  | Section Time:  0.06316280364990234  | Elapsed Time:  3.3758060932159424\n",
      "Model:  48  | Section Time:  0.06414580345153809  | Elapsed Time:  3.4399518966674805\n",
      "Model:  49  | Section Time:  0.0688028335571289  | Elapsed Time:  3.5087547302246094\n",
      "Model:  50  | Section Time:  0.0632479190826416  | Elapsed Time:  3.5727741718292236\n",
      "Model:  51  | Section Time:  0.06206393241882324  | Elapsed Time:  3.635840654373169\n",
      "Model:  52  | Section Time:  0.0485990047454834  | Elapsed Time:  3.6844396591186523\n",
      "Model:  53  | Section Time:  0.06309747695922852  | Elapsed Time:  3.747537136077881\n",
      "Model:  54  | Section Time:  0.05735301971435547  | Elapsed Time:  3.8048901557922363\n",
      "Model:  55  | Section Time:  0.059696197509765625  | Elapsed Time:  3.8686089515686035\n",
      "Model:  56  | Section Time:  0.06351065635681152  | Elapsed Time:  3.932119607925415\n",
      "Model:  57  | Section Time:  0.0576786994934082  | Elapsed Time:  3.9897983074188232\n",
      "Model:  58  | Section Time:  0.058171749114990234  | Elapsed Time:  4.048969030380249\n",
      "Model:  59  | Section Time:  0.06712698936462402  | Elapsed Time:  4.116096019744873\n",
      "Model:  60  | Section Time:  0.061989545822143555  | Elapsed Time:  4.178085565567017\n",
      "Model:  61  | Section Time:  0.07610893249511719  | Elapsed Time:  4.255191802978516\n",
      "Model:  62  | Section Time:  0.08016824722290039  | Elapsed Time:  4.335360050201416\n",
      "Model:  63  | Section Time:  0.07682180404663086  | Elapsed Time:  4.413195371627808\n",
      "Model:  64  | Section Time:  0.07109189033508301  | Elapsed Time:  4.485283851623535\n",
      "Model:  65  | Section Time:  0.06125640869140625  | Elapsed Time:  4.546540260314941\n",
      "Model:  66  | Section Time:  0.058194875717163086  | Elapsed Time:  4.6047351360321045\n",
      "Model:  67  | Section Time:  0.07571840286254883  | Elapsed Time:  4.680453538894653\n",
      "Model:  68  | Section Time:  0.06714534759521484  | Elapsed Time:  4.747598886489868\n",
      "Model:  69  | Section Time:  0.07493209838867188  | Elapsed Time:  4.82253098487854\n",
      "Model:  70  | Section Time:  0.062441349029541016  | Elapsed Time:  4.884972333908081\n",
      "Model:  71  | Section Time:  0.07630038261413574  | Elapsed Time:  4.961272716522217\n",
      "Model:  72  | Section Time:  0.06763076782226562  | Elapsed Time:  5.028903484344482\n",
      "Model:  73  | Section Time:  0.062300682067871094  | Elapsed Time:  5.092800617218018\n",
      "Model:  74  | Section Time:  0.06717538833618164  | Elapsed Time:  5.159976005554199\n",
      "Model:  75  | Section Time:  0.06911683082580566  | Elapsed Time:  5.230120897293091\n",
      "Model:  76  | Section Time:  0.06137514114379883  | Elapsed Time:  5.29149603843689\n",
      "Model:  77  | Section Time:  0.0603179931640625  | Elapsed Time:  5.353510618209839\n",
      "Model:  78  | Section Time:  0.06241726875305176  | Elapsed Time:  5.415927886962891\n",
      "Model:  79  | Section Time:  0.06477594375610352  | Elapsed Time:  5.480703830718994\n",
      "Model:  80  | Section Time:  0.059667348861694336  | Elapsed Time:  5.5403711795806885\n",
      "Model:  81  | Section Time:  0.06036710739135742  | Elapsed Time:  5.604984283447266\n",
      "Model:  82  | Section Time:  0.04834437370300293  | Elapsed Time:  5.6533286571502686\n",
      "Model:  83  | Section Time:  0.06453323364257812  | Elapsed Time:  5.717861890792847\n",
      "Model:  84  | Section Time:  0.06504034996032715  | Elapsed Time:  5.782902240753174\n",
      "Model:  85  | Section Time:  0.076019287109375  | Elapsed Time:  5.858921527862549\n",
      "Model:  86  | Section Time:  0.05167412757873535  | Elapsed Time:  5.912803888320923\n",
      "Model:  87  | Section Time:  0.059578895568847656  | Elapsed Time:  5.973411321640015\n",
      "Model:  88  | Section Time:  0.06339359283447266  | Elapsed Time:  6.036804914474487\n",
      "Model:  89  | Section Time:  0.06258177757263184  | Elapsed Time:  6.099446773529053\n",
      "Model:  90  | Section Time:  0.05444741249084473  | Elapsed Time:  6.1538941860198975\n",
      "Model:  91  | Section Time:  0.05657482147216797  | Elapsed Time:  6.210469007492065\n",
      "Model:  92  | Section Time:  0.06421375274658203  | Elapsed Time:  6.2746827602386475\n",
      "Model:  93  | Section Time:  0.06616067886352539  | Elapsed Time:  6.340843439102173\n",
      "Model:  94  | Section Time:  0.3363771438598633  | Elapsed Time:  6.678217887878418\n",
      "Model:  95  | Section Time:  0.06486153602600098  | Elapsed Time:  6.743079423904419\n",
      "Model:  96  | Section Time:  0.06257104873657227  | Elapsed Time:  6.805650472640991\n",
      "Model:  97  | Section Time:  0.05240273475646973  | Elapsed Time:  6.858053207397461\n"
     ]
    },
    {
     "name": "stdout",
     "output_type": "stream",
     "text": [
      "Model:  98  | Section Time:  0.06615996360778809  | Elapsed Time:  6.925210475921631\n",
      "Model:  99  | Section Time:  0.0662696361541748  | Elapsed Time:  6.991480112075806\n",
      "Model:  100  | Section Time:  0.060849666595458984  | Elapsed Time:  7.052329778671265\n"
     ]
    }
   ],
   "source": [
    "from keras.layers import Input, Dense\n",
    "from keras.models import Model\n",
    "import time\n",
    "\n",
    "inputs = Input(shape=(512,))\n",
    "shared_mlp = Dense(64, activation='relu')(inputs)\n",
    "shared_mlp = Dense(64, activation='relu')(shared_mlp)\n",
    "\n",
    "# make a dictionary of models for each task\n",
    "models_mtl = dict()\n",
    "print('Creating Sub Models:')\n",
    "og_start = time.time()\n",
    "index = 1\n",
    "for x in top_targets.keys():\n",
    "    start = time.time()\n",
    "    personal_layer = Dense(10, activation='relu')(shared_mlp)\n",
    "    output_layer = Dense(1)(personal_layer)\n",
    "    model = Model(inputs=inputs, outputs=output_layer)\n",
    "    model.compile(optimizer='sgd', loss='mean_squared_error')\n",
    "    models_mtl[x] = model\n",
    "    end = time.time()\n",
    "    \n",
    "    print(\"Model: \", index, \" | Section Time: \", end - start, \" | Elapsed Time: \", end - og_start)\n",
    "    index += 1"
   ]
  },
  {
   "cell_type": "markdown",
   "metadata": {},
   "source": [
    "## Creating the Train-Test Split"
   ]
  },
  {
   "cell_type": "code",
   "execution_count": 169,
   "metadata": {},
   "outputs": [],
   "source": [
    "from sklearn.model_selection import train_test_split\n",
    "\n",
    "test_size = 0.2\n",
    "\n",
    "X_train = dict()\n",
    "y_train = dict()\n",
    "X_test = dict()\n",
    "y_test = dict()\n",
    "\n",
    "#print(top_targets[x][0])\n",
    "\n",
    "for x in top_targets.keys():\n",
    "    X_train[x], X_test[x], y_train[x], y_test[x] = train_test_split(top_targets[x]['data'], \n",
    "                                                        top_targets[x]['target'], \n",
    "                                                        test_size=test_size, \n",
    "                                                        random_state=42)\n"
   ]
  },
  {
   "cell_type": "code",
   "execution_count": 170,
   "metadata": {},
   "outputs": [
    {
     "name": "stdout",
     "output_type": "stream",
     "text": [
      "Epoch 0, Epoch 1, Epoch 2, Epoch 3, Epoch 4, Epoch 5, Epoch 6, Epoch 7, Epoch 8, Epoch 9, Epoch 10, Epoch 11, Epoch 12, Epoch 13, Epoch 14, Epoch 15, Epoch 16, Epoch 17, Epoch 18, Epoch 19, Wall time: 6min 27s\n"
     ]
    }
   ],
   "source": [
    "%%time\n",
    "EPOCHS = 20\n",
    "from random import shuffle\n",
    "\n",
    "all_keys = list(top_targets)\n",
    "for i in range(EPOCHS):\n",
    "    print('Epoch',i,end=', ')\n",
    "    shuffle(all_keys)\n",
    "    for x in all_keys:\n",
    "        models_mtl[x].fit(X_train[x],y_train[x], verbose=0)"
   ]
  },
  {
   "cell_type": "markdown",
   "metadata": {},
   "source": [
    "# Evaluating the Train-Test Split Data"
   ]
  },
  {
   "cell_type": "code",
   "execution_count": 171,
   "metadata": {},
   "outputs": [
    {
     "name": "stdout",
     "output_type": "stream",
     "text": [
      "Wall time: 2min 42s\n"
     ]
    }
   ],
   "source": [
    "%%time\n",
    "y_mtl=[]\n",
    "yhat_mtl=[]\n",
    "\n",
    "for x in X_test.keys():\n",
    "    yhat_mlp = models_mtl[x].predict(X_test[x])\n",
    "\n",
    "    y_mtl.append(y_test[x].ravel())\n",
    "    yhat_mtl.append(yhat_mlp.ravel())"
   ]
  },
  {
   "cell_type": "code",
   "execution_count": 172,
   "metadata": {},
   "outputs": [],
   "source": [
    "import matplotlib.pyplot as plt\n",
    "import numpy as np\n",
    "import seaborn as sns\n",
    "from sklearn.metrics import mean_squared_error, accuracy_score \n",
    "from sklearn.metrics import precision_score, mean_squared_log_error\n",
    "\n",
    "def bland_altman_plot(data1, data2, *args, **kwargs):\n",
    "    data1     = np.asarray(data1)\n",
    "    data2     = np.asarray(data2)\n",
    "    mean      = np.mean([data1, data2], axis=0)\n",
    "    diff      = data1 - data2                   # Difference between data1 and data2\n",
    "    md        = np.mean(diff)                   # Mean of the difference\n",
    "    sd        = np.std(diff, axis=0)            # Standard deviation of the difference\n",
    "\n",
    "    plt.figure(figsize=(15,10))\n",
    "    plt.scatter(mean, diff, *args, **kwargs)\n",
    "    plt.axhline(md,           color='gray', linestyle='--')\n",
    "    plt.axhline(md + 1.96*sd, color='gray', linestyle='--')\n",
    "    plt.axhline(md - 1.96*sd, color='gray', linestyle='--')\n",
    "    plt.title(\"Bland Altman, MSE: \"+str(mean_squared_error(data1,data2)))\n",
    "    plt.xlabel('Mean Score', fontsize=8)\n",
    "    plt.ylabel('Diff Score', fontsize=8)\n",
    "    plt.show()"
   ]
  },
  {
   "cell_type": "code",
   "execution_count": 173,
   "metadata": {},
   "outputs": [
    {
     "data": {
      "image/png": "[encoded data removed]",
      "text/plain": [
       "<matplotlib.figure.Figure at 0x20f0ae76f98>"
      ]
     },
     "metadata": {},
     "output_type": "display_data"
    }
   ],
   "source": [
    "\n",
    "bland_altman_plot(np.concatenate(y_mtl), np.concatenate(yhat_mtl))"
   ]
  },
  {
   "cell_type": "markdown",
   "metadata": {},
   "source": [
    "The following is a bland_altman plot of our models - as we can see the data is clustered around 1 and 0 (this makes sense because of our binary classification. We see a relatively narrow band around zero which is reassuring - but there do seeem to be a fair number of values that lie outside of the dotted lines (mostly incorrectly classified objects - which is why the left cluster is positive bound and the right cluster negatively). "
   ]
  },
  {
   "cell_type": "markdown",
   "metadata": {},
   "source": [
    "# Scoring the Results"
   ]
  },
  {
   "cell_type": "code",
   "execution_count": 13,
   "metadata": {},
   "outputs": [],
   "source": [
    "from rdkit.ML.Scoring import Scoring"
   ]
  },
  {
   "cell_type": "code",
   "execution_count": 14,
   "metadata": {},
   "outputs": [],
   "source": [
    "import pandas as pd\n",
    "\n",
    "scores = {'y_mtl':np.concatenate(y_mtl), 'yhat_mtl':np.concatenate(yhat_mtl)}\n",
    "df = pd.DataFrame(scores)"
   ]
  },
  {
   "cell_type": "code",
   "execution_count": 15,
   "metadata": {},
   "outputs": [
    {
     "name": "stdout",
     "output_type": "stream",
     "text": [
      "0.3569572570198806\n"
     ]
    }
   ],
   "source": [
    "score_auc = Scoring.CalcAUC(df.values, 0)\n",
    "print(score_auc)"
   ]
  },
  {
   "cell_type": "markdown",
   "metadata": {},
   "source": [
    "Looking at the AUC score, we can see that the performance of our model is very bad. With a score of 0.5 representing random chance, we can see that we are well below random chance in our outputs. This is very bad news for a classifier, as random chance should be a sanity check and the starting point from which a classifier improves. However since it is consistantly below random and the classification is binary we could look at alternative ways to extract data from this calssifier (inverse). More methods would be to add to our classifier"
   ]
  },
  {
   "cell_type": "code",
   "execution_count": 16,
   "metadata": {
    "scrolled": true
   },
   "outputs": [
    {
     "name": "stdout",
     "output_type": "stream",
     "text": [
      "0.006959956243419538\n"
     ]
    }
   ],
   "source": [
    "score_bedroc = Scoring.CalcBEDROC(df.values, 0, 20)\n",
    "print(score_bedroc)"
   ]
  },
  {
   "cell_type": "markdown",
   "metadata": {},
   "source": [
    "The BEDROC metric is a modification of the ROC curve. This metric uses an alpha value to weight the probability distribution in which a random value is selected from. In our application, we used an alpha value of 20.\n",
    "\n",
    "Looking at our results, our value is exceptionally poor. This is in line with the AUC representation that is given and leads us more to trying the modifications presented above"
   ]
  },
  {
   "cell_type": "code",
   "execution_count": 20,
   "metadata": {},
   "outputs": [
    {
     "name": "stdout",
     "output_type": "stream",
     "text": [
      "[0.0, 0.0, 0.21011197387585465, 0.7983050847457627]\n"
     ]
    }
   ],
   "source": [
    "score_enrich = Scoring.CalcEnrichment(df.values, 0, [.01, .1, .25, .5])\n",
    "print(score_enrich)"
   ]
  },
  {
   "cell_type": "markdown",
   "metadata": {},
   "source": [
    "The Enrichment factor represents the number of correctly classified ligands within a certain top percentage of the sample divided by the total sample. \n",
    "We ran the Enrichment scorer on a variety of values: 1%, 10%, 25%, and 50%. \n",
    "The values we got say that for the first 1% and 10% of samples, we got none of the ligands classified correctly. Then when we move to 25% and 50%, the values increase dramatically. This shows where we can focus a lot of our effort for following analysis. We also look to see if we could bring in more fingerprints to improve our model."
   ]
  },
  {
   "cell_type": "markdown",
   "metadata": {},
   "source": [
    "# Exceptional Work: Building another Multi-Task model with a different Fingerprint"
   ]
  },
  {
   "cell_type": "markdown",
   "metadata": {},
   "source": [
    "For identifying the ligands there were both morgan and topolagical fingerprints availible in the dataset. We decided to use the other fingerprint in the following set to see if we could improve our results from above. "
   ]
  },
  {
   "cell_type": "markdown",
   "metadata": {},
   "source": [
    "### Reading in the X and Y semi-raw data"
   ]
  },
  {
   "cell_type": "code",
   "execution_count": 1,
   "metadata": {},
   "outputs": [],
   "source": [
    "import numpy as np"
   ]
  },
  {
   "cell_type": "code",
   "execution_count": 2,
   "metadata": {},
   "outputs": [],
   "source": [
    "X = np.load('data/x_data.npy')"
   ]
  },
  {
   "cell_type": "code",
   "execution_count": 3,
   "metadata": {},
   "outputs": [],
   "source": [
    "Y = np.load('data/y_data.npy')"
   ]
  },
  {
   "cell_type": "markdown",
   "metadata": {},
   "source": [
    "# Refactoring and Fine Filtering Data"
   ]
  },
  {
   "cell_type": "code",
   "execution_count": 4,
   "metadata": {},
   "outputs": [],
   "source": [
    "tasks = {}\n",
    "\n",
    "for x,y in zip(X,Y):\n",
    "    if y in tasks:\n",
    "        tasks[y]['data'].append(np.array(x[2:]))\n",
    "        tasks[y]['target'].append(x[0])\n",
    "    else:\n",
    "        tasks[y] = {}\n",
    "        tasks[y]['data'] = [np.array(x[2:])]\n",
    "        tasks[y]['target'] = [x[0]]\n"
   ]
  },
  {
   "cell_type": "code",
   "execution_count": 5,
   "metadata": {},
   "outputs": [
    {
     "name": "stdout",
     "output_type": "stream",
     "text": [
      "[0.0, 1.0, 1.0, 1.0]\n"
     ]
    }
   ],
   "source": [
    "print(tasks['CHEMBL664913']['target'])"
   ]
  },
  {
   "cell_type": "code",
   "execution_count": 6,
   "metadata": {},
   "outputs": [],
   "source": [
    "index = 1\n",
    "top_targets = {}\n",
    "for key, value in sorted(tasks.items(), key=lambda item: len(item[1]['target']), reverse=True):\n",
    "    top_targets[key] = {}\n",
    "    top_targets[key]['data'] = np.array(value['data'])\n",
    "    top_targets[key]['target'] = np.array(value['target'])\n",
    "\n",
    "    if index == 100:\n",
    "        break\n",
    "    index +=1 "
   ]
  },
  {
   "cell_type": "markdown",
   "metadata": {},
   "source": [
    "### These are the top 100 targets that will be trained with this fingerprint"
   ]
  },
  {
   "cell_type": "code",
   "execution_count": 7,
   "metadata": {},
   "outputs": [
    {
     "name": "stdout",
     "output_type": "stream",
     "text": [
      "['CHEMBL3436040', 'CHEMBL2114791', 'CHEMBL830839', 'CHEMBL828662', 'CHEMBL2114781', 'CHEMBL1071424', 'CHEMBL886170', 'CHEMBL3431931', 'CHEMBL665590', 'CHEMBL3063318', 'CHEMBL811879', 'CHEMBL1614549', 'CHEMBL831965', 'CHEMBL665702', 'CHEMBL1786290', 'CHEMBL1005407', 'CHEMBL882590', 'CHEMBL3562078', 'CHEMBL1614547', 'CHEMBL763870', 'CHEMBL680373', 'CHEMBL3110679', 'CHEMBL1061354', 'CHEMBL897494', 'CHEMBL3436039', 'CHEMBL827820', 'CHEMBL889609', 'CHEMBL2061832', 'CHEMBL1290876', 'CHEMBL692692', 'CHEMBL868999', 'CHEMBL1837593', 'CHEMBL1963965', 'CHEMBL665602', 'CHEMBL1047162', 'CHEMBL865064', 'CHEMBL1062971', 'CHEMBL963281', 'CHEMBL665700', 'CHEMBL934050', 'CHEMBL910725', 'CHEMBL769364', 'CHEMBL889241', 'CHEMBL681800', 'CHEMBL884350', 'CHEMBL873739', 'CHEMBL811068', 'CHEMBL852974', 'CHEMBL914035', 'CHEMBL1013888', 'CHEMBL1738498', 'CHEMBL909462', 'CHEMBL762914', 'CHEMBL3865048', 'CHEMBL893278', 'CHEMBL1101183', 'CHEMBL1073069', 'CHEMBL1027390', 'CHEMBL664911', 'CHEMBL1291622', 'CHEMBL916419', 'CHEMBL816079', 'CHEMBL914034', 'CHEMBL3436041', 'CHEMBL664917', 'CHEMBL684767', 'CHEMBL1034984', 'CHEMBL664908', 'CHEMBL1614471', 'CHEMBL1252111', 'CHEMBL648023', 'CHEMBL887682', 'CHEMBL781943', 'CHEMBL896290', 'CHEMBL895232', 'CHEMBL893279', 'CHEMBL887681', 'CHEMBL894086', 'CHEMBL1114100', 'CHEMBL897085', 'CHEMBL865537', 'CHEMBL963901', 'CHEMBL1104613', 'CHEMBL2038597', 'CHEMBL1166366', 'CHEMBL821897', 'CHEMBL1048799', 'CHEMBL935785', 'CHEMBL4031136', 'CHEMBL1613978', 'CHEMBL889858', 'CHEMBL763439', 'CHEMBL889279', 'CHEMBL1060016', 'CHEMBL915600', 'CHEMBL2423446', 'CHEMBL2114829', 'CHEMBL665597', 'CHEMBL664916', 'CHEMBL812106']\n"
     ]
    }
   ],
   "source": [
    "print(list(top_targets))"
   ]
  },
  {
   "cell_type": "code",
   "execution_count": 9,
   "metadata": {
    "scrolled": true
   },
   "outputs": [
    {
     "name": "stderr",
     "output_type": "stream",
     "text": [
      "Using TensorFlow backend.\n"
     ]
    },
    {
     "name": "stdout",
     "output_type": "stream",
     "text": [
      "Creating Sub Models:\n",
      "Model:  1  | Section Time:  0.03954267501831055  | Elapsed Time:  0.03977155685424805\n",
      "Model:  2  | Section Time:  0.03833723068237305  | Elapsed Time:  0.07825970649719238\n",
      "Model:  3  | Section Time:  0.03869223594665527  | Elapsed Time:  0.11708593368530273\n",
      "Model:  4  | Section Time:  0.03769207000732422  | Elapsed Time:  0.15548253059387207\n",
      "Model:  5  | Section Time:  0.03921937942504883  | Elapsed Time:  0.19482779502868652\n",
      "Model:  6  | Section Time:  0.03923511505126953  | Elapsed Time:  0.23420143127441406\n",
      "Model:  7  | Section Time:  0.03904366493225098  | Elapsed Time:  0.2733798027038574\n",
      "Model:  8  | Section Time:  0.03807473182678223  | Elapsed Time:  0.312241792678833\n",
      "Model:  9  | Section Time:  0.1023719310760498  | Elapsed Time:  0.41473913192749023\n",
      "Model:  10  | Section Time:  0.03952455520629883  | Elapsed Time:  0.4551379680633545\n",
      "Model:  11  | Section Time:  0.039351463317871094  | Elapsed Time:  0.49464869499206543\n",
      "Model:  12  | Section Time:  0.038609981536865234  | Elapsed Time:  0.5333869457244873\n",
      "Model:  13  | Section Time:  0.03840374946594238  | Elapsed Time:  0.5726602077484131\n",
      "Model:  14  | Section Time:  0.038739681243896484  | Elapsed Time:  0.6115231513977051\n",
      "Model:  15  | Section Time:  0.03838300704956055  | Elapsed Time:  0.650855302810669\n",
      "Model:  16  | Section Time:  0.03973388671875  | Elapsed Time:  0.6907229423522949\n",
      "Model:  17  | Section Time:  0.039253950119018555  | Elapsed Time:  0.7301161289215088\n",
      "Model:  18  | Section Time:  0.03874373435974121  | Elapsed Time:  0.7689998149871826\n",
      "Model:  19  | Section Time:  0.039730072021484375  | Elapsed Time:  0.8088712692260742\n",
      "Model:  20  | Section Time:  0.03811478614807129  | Elapsed Time:  0.8477461338043213\n",
      "Model:  21  | Section Time:  0.03926682472229004  | Elapsed Time:  0.8871567249298096\n",
      "Model:  22  | Section Time:  0.03895735740661621  | Elapsed Time:  0.9271819591522217\n",
      "Model:  23  | Section Time:  0.0394444465637207  | Elapsed Time:  0.9667608737945557\n",
      "Model:  24  | Section Time:  0.038484811782836914  | Elapsed Time:  1.005380392074585\n",
      "Model:  25  | Section Time:  0.0391385555267334  | Elapsed Time:  1.0446698665618896\n",
      "Model:  26  | Section Time:  0.03992772102355957  | Elapsed Time:  1.084717035293579\n",
      "Model:  27  | Section Time:  0.04024481773376465  | Elapsed Time:  1.1252412796020508\n",
      "Model:  28  | Section Time:  0.040662288665771484  | Elapsed Time:  1.1660354137420654\n",
      "Model:  29  | Section Time:  0.03942680358886719  | Elapsed Time:  1.2056279182434082\n",
      "Model:  30  | Section Time:  0.03906726837158203  | Elapsed Time:  1.2448275089263916\n",
      "Model:  31  | Section Time:  0.03902316093444824  | Elapsed Time:  1.284001111984253\n",
      "Model:  32  | Section Time:  0.10357332229614258  | Elapsed Time:  1.3877134323120117\n",
      "Model:  33  | Section Time:  0.03875875473022461  | Elapsed Time:  1.4266619682312012\n",
      "Model:  34  | Section Time:  0.039051055908203125  | Elapsed Time:  1.4666519165039062\n",
      "Model:  35  | Section Time:  0.03798842430114746  | Elapsed Time:  1.5056209564208984\n",
      "Model:  36  | Section Time:  0.03926205635070801  | Elapsed Time:  1.5450198650360107\n",
      "Model:  37  | Section Time:  0.03851819038391113  | Elapsed Time:  1.583662986755371\n",
      "Model:  38  | Section Time:  0.040224552154541016  | Elapsed Time:  1.624028205871582\n",
      "Model:  39  | Section Time:  0.03882312774658203  | Elapsed Time:  1.6630008220672607\n",
      "Model:  40  | Section Time:  0.039357900619506836  | Elapsed Time:  1.7025115489959717\n",
      "Model:  41  | Section Time:  0.039142608642578125  | Elapsed Time:  1.741804838180542\n",
      "Model:  42  | Section Time:  0.03920245170593262  | Elapsed Time:  1.7811532020568848\n",
      "Model:  43  | Section Time:  0.038999319076538086  | Elapsed Time:  1.8202848434448242\n",
      "Model:  44  | Section Time:  0.04085254669189453  | Elapsed Time:  1.861255407333374\n",
      "Model:  45  | Section Time:  0.03791213035583496  | Elapsed Time:  1.9001669883728027\n",
      "Model:  46  | Section Time:  0.039360761642456055  | Elapsed Time:  1.9396657943725586\n",
      "Model:  47  | Section Time:  0.03853726387023926  | Elapsed Time:  1.9783351421356201\n",
      "Model:  48  | Section Time:  0.03915214538574219  | Elapsed Time:  2.017610788345337\n",
      "Model:  49  | Section Time:  0.037853240966796875  | Elapsed Time:  2.0564305782318115\n",
      "Model:  50  | Section Time:  0.039908647537231445  | Elapsed Time:  2.097224712371826\n",
      "Model:  51  | Section Time:  0.03859853744506836  | Elapsed Time:  2.135967969894409\n",
      "Model:  52  | Section Time:  0.03883481025695801  | Elapsed Time:  2.175548553466797\n",
      "Model:  53  | Section Time:  0.038109540939331055  | Elapsed Time:  2.214395523071289\n",
      "Model:  54  | Section Time:  0.1120915412902832  | Elapsed Time:  2.327263355255127\n",
      "Model:  55  | Section Time:  0.038910627365112305  | Elapsed Time:  2.366337537765503\n",
      "Model:  56  | Section Time:  0.03905534744262695  | Elapsed Time:  2.406019687652588\n",
      "Model:  57  | Section Time:  0.03875899314880371  | Elapsed Time:  2.444917917251587\n",
      "Model:  58  | Section Time:  0.03877758979797363  | Elapsed Time:  2.4844908714294434\n",
      "Model:  59  | Section Time:  0.038130998611450195  | Elapsed Time:  2.5234830379486084\n",
      "Model:  60  | Section Time:  0.040004730224609375  | Elapsed Time:  2.563632011413574\n",
      "Model:  61  | Section Time:  0.038590192794799805  | Elapsed Time:  2.6023778915405273\n",
      "Model:  62  | Section Time:  0.03876805305480957  | Elapsed Time:  2.641291856765747\n",
      "Model:  63  | Section Time:  0.03936433792114258  | Elapsed Time:  2.680790901184082\n",
      "Model:  64  | Section Time:  0.03856348991394043  | Elapsed Time:  2.719489097595215\n",
      "Model:  65  | Section Time:  0.03866243362426758  | Elapsed Time:  2.7590670585632324\n",
      "Model:  66  | Section Time:  0.039705514907836914  | Elapsed Time:  2.79890513420105\n",
      "Model:  67  | Section Time:  0.038300514221191406  | Elapsed Time:  2.8383586406707764\n",
      "Model:  68  | Section Time:  0.03863382339477539  | Elapsed Time:  2.8771207332611084\n",
      "Model:  69  | Section Time:  0.039244890213012695  | Elapsed Time:  2.9165022373199463\n",
      "Model:  70  | Section Time:  0.03880596160888672  | Elapsed Time:  2.955453395843506\n",
      "Model:  71  | Section Time:  0.039342403411865234  | Elapsed Time:  2.994936227798462\n",
      "Model:  72  | Section Time:  0.0397036075592041  | Elapsed Time:  3.0347607135772705\n",
      "Model:  73  | Section Time:  0.03852272033691406  | Elapsed Time:  3.0743536949157715\n",
      "Model:  74  | Section Time:  0.03879237174987793  | Elapsed Time:  3.1132736206054688\n",
      "Model:  75  | Section Time:  0.03906750679016113  | Elapsed Time:  3.1524696350097656\n",
      "Model:  76  | Section Time:  0.03806805610656738  | Elapsed Time:  3.191378593444824\n",
      "Model:  77  | Section Time:  0.0393223762512207  | Elapsed Time:  3.2308425903320312\n",
      "Model:  78  | Section Time:  0.0395200252532959  | Elapsed Time:  3.2705509662628174\n",
      "Model:  79  | Section Time:  0.1283867359161377  | Elapsed Time:  3.399085521697998\n",
      "Model:  80  | Section Time:  0.039194345474243164  | Elapsed Time:  3.438457489013672\n",
      "Model:  81  | Section Time:  0.03982734680175781  | Elapsed Time:  3.4784271717071533\n",
      "Model:  82  | Section Time:  0.03848075866699219  | Elapsed Time:  3.5170719623565674\n",
      "Model:  83  | Section Time:  0.03925752639770508  | Elapsed Time:  3.5564558506011963\n",
      "Model:  84  | Section Time:  0.03878474235534668  | Elapsed Time:  3.5953762531280518\n",
      "Model:  85  | Section Time:  0.03828883171081543  | Elapsed Time:  3.6346306800842285\n",
      "Model:  86  | Section Time:  0.03861260414123535  | Elapsed Time:  3.6733717918395996\n",
      "Model:  87  | Section Time:  0.0403742790222168  | Elapsed Time:  3.713890314102173\n",
      "Model:  88  | Section Time:  0.03853106498718262  | Elapsed Time:  3.7525784969329834\n",
      "Model:  89  | Section Time:  0.039247751235961914  | Elapsed Time:  3.7919487953186035\n",
      "Model:  90  | Section Time:  0.03809309005737305  | Elapsed Time:  3.83089017868042\n",
      "Model:  91  | Section Time:  0.03887486457824707  | Elapsed Time:  3.8704886436462402\n",
      "Model:  92  | Section Time:  0.0386044979095459  | Elapsed Time:  3.9092509746551514\n",
      "Model:  93  | Section Time:  0.04109764099121094  | Elapsed Time:  3.9504735469818115\n",
      "Model:  94  | Section Time:  0.039081573486328125  | Elapsed Time:  3.9896984100341797\n",
      "Model:  95  | Section Time:  0.03860950469970703  | Elapsed Time:  4.028435707092285\n",
      "Model:  96  | Section Time:  0.03930854797363281  | Elapsed Time:  4.068283796310425\n",
      "Model:  97  | Section Time:  0.03879594802856445  | Elapsed Time:  4.107204437255859\n",
      "Model:  98  | Section Time:  0.03933095932006836  | Elapsed Time:  4.146668910980225\n"
     ]
    },
    {
     "name": "stdout",
     "output_type": "stream",
     "text": [
      "Model:  99  | Section Time:  0.0397341251373291  | Elapsed Time:  4.186552047729492\n",
      "Model:  100  | Section Time:  0.03919863700866699  | Elapsed Time:  4.225893020629883\n"
     ]
    }
   ],
   "source": [
    "from keras.layers import Input, Dense\n",
    "from keras.models import Model\n",
    "import time\n",
    "\n",
    "inputs = Input(shape=(2048,))\n",
    "shared_mlp = Dense(64, activation='relu')(inputs)\n",
    "shared_mlp = Dense(64, activation='relu')(shared_mlp)\n",
    "\n",
    "# make a dictionary of models for each task\n",
    "models_mtl = dict()\n",
    "print('Creating Sub Models:')\n",
    "og_start = time.time()\n",
    "index = 1\n",
    "for x in top_targets.keys():\n",
    "    start = time.time()\n",
    "    personal_layer = Dense(10, activation='relu')(shared_mlp)\n",
    "    output_layer = Dense(1)(personal_layer)\n",
    "    model = Model(inputs=inputs, outputs=output_layer)\n",
    "    model.compile(optimizer='sgd', loss='mean_squared_error')\n",
    "    models_mtl[x] = model\n",
    "    end = time.time()\n",
    "    \n",
    "    print(\"Model: \", index, \" | Section Time: \", end - start, \" | Elapsed Time: \", end - og_start)\n",
    "    index += 1"
   ]
  },
  {
   "cell_type": "markdown",
   "metadata": {},
   "source": [
    "## Creating the Train-Test Split"
   ]
  },
  {
   "cell_type": "code",
   "execution_count": 10,
   "metadata": {},
   "outputs": [],
   "source": [
    "from sklearn.model_selection import train_test_split\n",
    "\n",
    "test_size = 0.2\n",
    "\n",
    "X_train = dict()\n",
    "y_train = dict()\n",
    "X_test = dict()\n",
    "y_test = dict()\n",
    "\n",
    "#print(top_targets[x][0])\n",
    "\n",
    "for x in top_targets.keys():\n",
    "    X_train[x], X_test[x], y_train[x], y_test[x] = train_test_split(top_targets[x]['data'], \n",
    "                                                        top_targets[x]['target'], \n",
    "                                                        test_size=test_size, \n",
    "                                                        random_state=42)\n"
   ]
  },
  {
   "cell_type": "code",
   "execution_count": 11,
   "metadata": {
    "scrolled": true
   },
   "outputs": [
    {
     "name": "stdout",
     "output_type": "stream",
     "text": [
      "Epoch 0, Epoch 1, Epoch 2, Epoch 3, Epoch 4, Epoch 5, Epoch 6, Epoch 7, Epoch 8, Epoch 9, Epoch 10, Epoch 11, Epoch 12, Epoch 13, Epoch 14, Epoch 15, Epoch 16, Epoch 17, Epoch 18, Epoch 19, CPU times: user 2min 1s, sys: 4.76 s, total: 2min 6s\n",
      "Wall time: 1min 57s\n"
     ]
    }
   ],
   "source": [
    "%%time\n",
    "EPOCHS = 20\n",
    "from random import shuffle\n",
    "\n",
    "all_keys = list(top_targets)\n",
    "for i in range(EPOCHS):\n",
    "    print('Epoch',i,end=', ')\n",
    "    shuffle(all_keys)\n",
    "    for x in all_keys:\n",
    "        models_mtl[x].fit(X_train[x],y_train[x], verbose=0)"
   ]
  },
  {
   "cell_type": "markdown",
   "metadata": {},
   "source": [
    "# Evaluating the Train-Test Split Data"
   ]
  },
  {
   "cell_type": "code",
   "execution_count": 12,
   "metadata": {},
   "outputs": [
    {
     "name": "stdout",
     "output_type": "stream",
     "text": [
      "CPU times: user 1min 8s, sys: 1.33 s, total: 1min 10s\n",
      "Wall time: 1min 8s\n"
     ]
    }
   ],
   "source": [
    "%%time\n",
    "y_mtl=[]\n",
    "yhat_mtl=[]\n",
    "\n",
    "for x in X_test.keys():\n",
    "    yhat_mlp = models_mtl[x].predict(X_test[x])\n",
    "\n",
    "    y_mtl.append(y_test[x].ravel())\n",
    "    yhat_mtl.append(yhat_mlp.ravel())"
   ]
  },
  {
   "cell_type": "code",
   "execution_count": 13,
   "metadata": {},
   "outputs": [],
   "source": [
    "import matplotlib.pyplot as plt\n",
    "import numpy as np\n",
    "import seaborn as sns\n",
    "from sklearn.metrics import mean_squared_error, accuracy_score \n",
    "from sklearn.metrics import precision_score, mean_squared_log_error\n",
    "\n",
    "def bland_altman_plot(data1, data2, *args, **kwargs):\n",
    "    data1     = np.asarray(data1)\n",
    "    data2     = np.asarray(data2)\n",
    "    mean      = np.mean([data1, data2], axis=0)\n",
    "    diff      = data1 - data2                   # Difference between data1 and data2\n",
    "    md        = np.mean(diff)                   # Mean of the difference\n",
    "    sd        = np.std(diff, axis=0)            # Standard deviation of the difference\n",
    "\n",
    "    plt.figure(figsize=(15,10))\n",
    "    plt.scatter(mean, diff, *args, **kwargs)\n",
    "    plt.axhline(md,           color='gray', linestyle='--')\n",
    "    plt.axhline(md + 1.96*sd, color='gray', linestyle='--')\n",
    "    plt.axhline(md - 1.96*sd, color='gray', linestyle='--')\n",
    "    plt.title(\"Bland Altman, MSE: \"+str(mean_squared_error(data1,data2)))\n",
    "    plt.xlabel('Mean Score', fontsize=8)\n",
    "    plt.ylabel('Diff Score', fontsize=8)\n",
    "    plt.show()"
   ]
  },
  {
   "cell_type": "code",
   "execution_count": 14,
   "metadata": {},
   "outputs": [
    {
     "data": {
      "image/png": "[encoded data removed]",
      "text/plain": [
       "<Figure size 1080x720 with 1 Axes>"
      ]
     },
     "metadata": {
      "needs_background": "light"
     },
     "output_type": "display_data"
    }
   ],
   "source": [
    "\n",
    "bland_altman_plot(np.concatenate(y_mtl), np.concatenate(yhat_mtl))"
   ]
  },
  {
   "cell_type": "markdown",
   "metadata": {},
   "source": [
    "We see in this plot that we have a much tighter variance - this means that our model could learn more with this second fingerprint. Much more of the data is within the bands - our model performed far better with this new fingerprint."
   ]
  }
 ],
 "metadata": {
  "kernelspec": {
   "display_name": "Python 3",
   "language": "python",
   "name": "python3"
  },
  "language_info": {
   "codemirror_mode": {
    "name": "ipython",
    "version": 3
   },
   "file_extension": ".py",
   "mimetype": "text/x-python",
   "name": "python",
   "nbconvert_exporter": "python",
   "pygments_lexer": "ipython3",
   "version": "3.6.4"
  }
 },
 "nbformat": 4,
 "nbformat_minor": 2
}
