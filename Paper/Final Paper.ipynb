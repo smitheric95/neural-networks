{
 "cells": [
  {
   "cell_type": "code",
   "execution_count": 1,
   "metadata": {},
   "outputs": [
    {
     "name": "stderr",
     "output_type": "stream",
     "text": [
      "/Users/ericsmith/anaconda/envs/MachineLearning/lib/python3.6/site-packages/h5py/__init__.py:34: FutureWarning: Conversion of the second argument of issubdtype from `float` to `np.floating` is deprecated. In future, it will be treated as `np.float64 == np.dtype(float).type`.\n",
      "  from ._conv import register_converters as _register_converters\n",
      "Using TensorFlow backend.\n"
     ]
    }
   ],
   "source": [
    "import gym\n",
    "import time\n",
    "from gym import wrappers\n",
    "from DQN_Agent import DQN_Agent\n",
    "# from DQN_Guided_Exploration import DQN_Guided_Exploration\n",
    "from Helpers import plot_rewards_and_length,plot_state_scatter\n",
    "import numpy as np\n",
    "import csv"
   ]
  },
  {
   "cell_type": "code",
   "execution_count": 13,
   "metadata": {},
   "outputs": [],
   "source": [
    "max_episodes = 300\n",
    "record_video_every = 100"
   ]
  },
  {
   "cell_type": "code",
   "execution_count": null,
   "metadata": {},
   "outputs": [],
   "source": [
    "for game in [\"MountainCar-v0\", \"LunarLander-v2\", \"Acrobot-v1\", \"CartPole-v0\"]:\n",
    "    for distribution in [\"multivariate_normal\", \"dirichlet_1\", \"dirichlet_2\"]: #, \"wishart_1\", \"wishart_2\"\n",
    "        env = gym.make(game)\n",
    "        env.seed(0)\n",
    "\n",
    "        for agent in [DQN_Agent(env=env), DQN_Guided_Exploration(env=env, distribution=distribution)]: # baseline vs testing\n",
    "            env.reset()\n",
    "            # env = wrappers.Monitor(env, 'replay', video_callable=lambda e: e%record_video_every == 0,force=True)\n",
    "\n",
    "            state_shape = (1,env.observation_space.shape[0])  # reset state\n",
    "\n",
    "            start_time = time.time()\n",
    "            total_reward_list = []\n",
    "            episode_length_list = []\n",
    "\n",
    "            for episode in range(max_episodes):\n",
    "                agent.on_episode_start()\n",
    "                cur_state = env.reset().reshape(state_shape)\n",
    "                steps = 0\n",
    "                total_reward = 0\n",
    "                done = False\n",
    "                while not done:\n",
    "                    steps += 1\n",
    "                    action = agent.act(cur_state)\n",
    "                    new_state, reward, done, _ = env.step(action)\n",
    "                    new_state = new_state.reshape(state_shape)\n",
    "                    agent.update_model(cur_state, action, reward, new_state, done)\n",
    "                    cur_state = new_state\n",
    "                    total_reward += reward\n",
    "                    if done:\n",
    "                        break\n",
    "\n",
    "                agent.on_episode_end()\n",
    "                total_reward_list.append(total_reward)\n",
    "                episode_length_list.append(steps)\n",
    "                # print('episode {} steps: {}, total reward: {},  elapsed time: {}s'.format(episode, steps, total_reward, int(time.time()-start_time)))\n",
    "            print(game+\"_\"+agent.name+\"_\"+distribution)\n",
    "            plot_state_scatter(agent,title1=game+\"_\"+agent.name+\"_\"+distribution,title2='',xlabel1='position',ylabel1='velocity',xlabel2='x-velocity',ylabel2='y-velocity',color= '#6666ff')\n",
    "            plot_rewards_and_length(game+\"_\"+agent.name+\"_\"+distribution, total_reward_list, -200.,0., episode_length_list)"
   ]
  },
  {
   "cell_type": "code",
   "execution_count": null,
   "metadata": {},
   "outputs": [],
   "source": []
  }
 ],
 "metadata": {
  "kernelspec": {
   "display_name": "MachineLearning",
   "language": "python",
   "name": "machinelearning"
  },
  "language_info": {
   "codemirror_mode": {
    "name": "ipython",
    "version": 3
   },
   "file_extension": ".py",
   "mimetype": "text/x-python",
   "name": "python",
   "nbconvert_exporter": "python",
   "pygments_lexer": "ipython3",
   "version": "3.6.2"
  }
 },
 "nbformat": 4,
 "nbformat_minor": 2
}
