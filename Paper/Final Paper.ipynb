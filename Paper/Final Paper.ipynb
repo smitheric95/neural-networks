{
 "cells": [
  {
   "cell_type": "code",
   "execution_count": 5,
   "metadata": {},
   "outputs": [],
   "source": [
    "import gym\n",
    "import time\n",
    "from gym import wrappers\n",
    "from DQN_Agent import DQN_Agent\n",
    "from DQN_Guided_Exploration import DQN_Guided_Exploration\n",
    "from Helpers import plot_rewards_and_length,plot_state_scatter\n",
    "import numpy as np\n",
    "import csv"
   ]
  },
  {
   "cell_type": "code",
   "execution_count": 6,
   "metadata": {},
   "outputs": [],
   "source": [
    "# env_name = \"LunarLander-v2\"#\"MountainCar-v0\"#\"Acrobot-v1\"#\"LunarLander-v2\"#\"BipedalWalker-v2\"#\"CartPole-v0\"#\"HalfCheetah-v2\"#MountainCar-v0\n",
    "max_episodes = 1#5\n",
    "record_video_every = 100"
   ]
  },
  {
   "cell_type": "code",
   "execution_count": 3,
   "metadata": {},
   "outputs": [
    {
     "ename": "NameError",
     "evalue": "name 'games' is not defined",
     "output_type": "error",
     "traceback": [
      "\u001b[0;31m---------------------------------------------------------------------------\u001b[0m",
      "\u001b[0;31mNameError\u001b[0m                                 Traceback (most recent call last)",
      "\u001b[0;32m<ipython-input-3-5e5e9212a71f>\u001b[0m in \u001b[0;36m<module>\u001b[0;34m()\u001b[0m\n\u001b[1;32m      3\u001b[0m \u001b[0;34m\u001b[0m\u001b[0m\n\u001b[1;32m      4\u001b[0m \u001b[0;34m\u001b[0m\u001b[0m\n\u001b[0;32m----> 5\u001b[0;31m \u001b[0;32mfor\u001b[0m \u001b[0mgame\u001b[0m \u001b[0;32min\u001b[0m \u001b[0mgames\u001b[0m\u001b[0;34m:\u001b[0m\u001b[0;34m\u001b[0m\u001b[0m\n\u001b[0m\u001b[1;32m      6\u001b[0m     \u001b[0;32mfor\u001b[0m \u001b[0magent\u001b[0m \u001b[0;32min\u001b[0m \u001b[0;34m[\u001b[0m\u001b[0mDQN_Agent\u001b[0m\u001b[0;34m(\u001b[0m\u001b[0menv\u001b[0m\u001b[0;34m=\u001b[0m\u001b[0menv\u001b[0m\u001b[0;34m)\u001b[0m\u001b[0;34m,\u001b[0m \u001b[0mDQN_Guided_Exploration\u001b[0m\u001b[0;34m(\u001b[0m\u001b[0menv\u001b[0m\u001b[0;34m=\u001b[0m\u001b[0menv\u001b[0m\u001b[0;34m)\u001b[0m\u001b[0;34m]\u001b[0m\u001b[0;34m:\u001b[0m \u001b[0;31m# baseline vs testing\u001b[0m\u001b[0;34m\u001b[0m\u001b[0m\n\u001b[1;32m      7\u001b[0m         \u001b[0menv\u001b[0m \u001b[0;34m=\u001b[0m \u001b[0mgym\u001b[0m\u001b[0;34m.\u001b[0m\u001b[0mmake\u001b[0m\u001b[0;34m(\u001b[0m\u001b[0menv_name\u001b[0m\u001b[0;34m)\u001b[0m\u001b[0;34m\u001b[0m\u001b[0m\n",
      "\u001b[0;31mNameError\u001b[0m: name 'games' is not defined"
     ]
    }
   ],
   "source": [
    "for game in [\"LunarLander-v2\", \"MountainCar-v0\"]:\n",
    "    for agent in [DQN_Agent(env=env), DQN_Guided_Exploration(env=env)]: # baseline vs testing\n",
    "        env = gym.make(game)\n",
    "        env.seed(0)\n",
    "        # env = wrappers.Monitor(env, 'replay', video_callable=lambda e: e%record_video_every == 0,force=True)\n",
    "        \n",
    "        state_shape = (1,env.observation_space.shape[0])  # reset state\n",
    "    \n",
    "        start_time = time.time()\n",
    "        total_reward_list = []\n",
    "        episode_length_list = []\n",
    "\n",
    "        for episode in range(max_episodes):\n",
    "            agent.on_episode_start()\n",
    "            cur_state = env.reset().reshape(state_shape)\n",
    "            steps = 0\n",
    "            total_reward = 0\n",
    "            done = False\n",
    "            while not done:\n",
    "                steps += 1\n",
    "                action = agent.act(cur_state)\n",
    "                new_state, reward, done, _ = env.step(action)\n",
    "                new_state = new_state.reshape(state_shape)\n",
    "                agent.update_model(cur_state, action, reward, new_state, done)\n",
    "                cur_state = new_state\n",
    "                total_reward += reward\n",
    "                if done:\n",
    "                    break\n",
    "\n",
    "            agent.on_episode_end()\n",
    "            total_reward_list.append(total_reward)\n",
    "            episode_length_list.append(steps)\n",
    "            print('episode {} steps: {}, total reward: {},  elapsed time: {}s'.format(episode, steps, total_reward, int(time.time()-start_time)))\n",
    "\n",
    "        plot_state_scatter(agent,title1=game+agent.name,title2='',xlabel1='position',ylabel1='velocity',xlabel2='x-velocity',ylabel2='y-velocity',color= '#6666ff')\n",
    "        plot_rewards_and_length(total_reward_list, -200.,0., episode_length_list)\n",
    "\n",
    "        with open('rewards_%s.csv'%game+agent.name, 'w') as f:\n",
    "            writer = csv.writer(f)\n",
    "            writer.writerows(zip(bins, frequencies))"
   ]
  },
  {
   "cell_type": "code",
   "execution_count": null,
   "metadata": {},
   "outputs": [],
   "source": []
  }
 ],
 "metadata": {
  "kernelspec": {
   "display_name": "MachineLearning",
   "language": "python",
   "name": "machinelearning"
  },
  "language_info": {
   "codemirror_mode": {
    "name": "ipython",
    "version": 3
   },
   "file_extension": ".py",
   "mimetype": "text/x-python",
   "name": "python",
   "nbconvert_exporter": "python",
   "pygments_lexer": "ipython3",
   "version": "3.6.2"
  }
 },
 "nbformat": 4,
 "nbformat_minor": 2
}
