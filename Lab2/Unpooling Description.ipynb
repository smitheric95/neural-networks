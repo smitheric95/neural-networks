{
 "cells": [
  {
   "cell_type": "markdown",
   "metadata": {},
   "source": [
    "# Unpooling"
   ]
  },
  {
   "cell_type": "markdown",
   "metadata": {},
   "source": [
    "We implemented unpooling by creating our own custom layers: MaxPoolingMax2D and Unpooling. The MaxPoolingMask2D is used with our encoder to save the locations of the maximums when the image is pooled whilst encoded. The unpooling takes the encoded image and the masks which it then unpools."
   ]
  },
  {
   "cell_type": "markdown",
   "metadata": {},
   "source": [
    "![Unpooling](./output_images/unpool.PNG)"
   ]
  },
  {
   "cell_type": "markdown",
   "metadata": {},
   "source": [
    "The above image shows the strategy we employed to implement unpooling.The unpooling custom layers are included below and can be accessed "
   ]
  },
  {
   "cell_type": "code",
   "execution_count": 1,
   "metadata": {},
   "outputs": [
    {
     "name": "stderr",
     "output_type": "stream",
     "text": [
      "Using TensorFlow backend.\n"
     ]
    }
   ],
   "source": [
    "from keras import backend as K\n",
    "from keras.layers.convolutional import UpSampling2D\n",
    "from keras.layers import MaxPooling2D, Layer\n",
    "import tensorflow as tf\n",
    "\n",
    "class MaxPoolingMask2D(MaxPooling2D):\n",
    "    def __init__(self, pool_size=(2, 2), strides=None, **kwargs):\n",
    "        super(MaxPoolingMask2D, self).__init__(pool_size, strides, **kwargs)\n",
    "\n",
    "    def _pooling_function(self, inputs, pool_size, strides, padding, data_format):\n",
    "        pooled = K.pool2d(inputs, pool_size, strides, pool_mode='max')\n",
    "        upsampled = UpSampling2D(size=pool_size)(pooled)\n",
    "        indexMask = K.tf.equal(inputs, upsampled)\n",
    "        assert indexMask.get_shape().as_list() == inputs.get_shape().as_list()\n",
    "        return indexMask\n",
    "\n",
    "    def get_output_shape_for(self, input_shape):\n",
    "        return input_shape\n",
    "\n",
    "class Unpooling(Layer):\n",
    "    def __init__(self, **kwargs):\n",
    "        super(Unpooling, self).__init__(**kwargs)\n",
    "\n",
    "    def build(self, input_shape):\n",
    "        pass\n",
    "\n",
    "    def call(self, x, mask=None):\n",
    "        layer = x[0]\n",
    "        layer_mask = x[1]\n",
    "        print('unpooling input - layer shape:',layer.shape,'mask shape:',layer_mask.shape)\n",
    "        mask_shape = layer_mask.get_shape().as_list()\n",
    "        layer_shape = layer.get_shape().as_list()\n",
    "        pool_size = (2,2) \n",
    "\n",
    "        on_success = tf.keras.backend.resize_images(layer, 2, 2, 'channels_last')\n",
    "\n",
    "        on_fail = K.zeros_like(on_success)\n",
    "        output =  K.tf.where(K.tf.cast(layer_mask,bool), on_success, on_fail)\n",
    "        print('    ',output.shape)\n",
    "        return output\n",
    "\n",
    "\n",
    "    def compute_output_shape(self, input_shape):\n",
    "        return input_shape[1]\n"
   ]
  }
 ],
 "metadata": {
  "kernelspec": {
   "display_name": "Python 3",
   "language": "python",
   "name": "python3"
  },
  "language_info": {
   "codemirror_mode": {
    "name": "ipython",
    "version": 3
   },
   "file_extension": ".py",
   "mimetype": "text/x-python",
   "name": "python",
   "nbconvert_exporter": "python",
   "pygments_lexer": "ipython3",
   "version": "3.6.8"
  }
 },
 "nbformat": 4,
 "nbformat_minor": 2
}
